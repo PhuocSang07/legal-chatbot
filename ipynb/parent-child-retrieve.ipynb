{
 "cells": [
  {
   "cell_type": "code",
   "execution_count": 1,
   "metadata": {
    "execution": {
     "iopub.execute_input": "2025-01-09T18:43:35.965808Z",
     "iopub.status.busy": "2025-01-09T18:43:35.965436Z",
     "iopub.status.idle": "2025-01-09T18:43:39.990017Z",
     "shell.execute_reply": "2025-01-09T18:43:39.988971Z",
     "shell.execute_reply.started": "2025-01-09T18:43:35.965770Z"
    },
    "trusted": true
   },
   "outputs": [],
   "source": [
    "%%capture\n",
    "%pip install langchain_community langchain langchain_qdrant qdrant_client langchain_huggingface"
   ]
  },
  {
   "cell_type": "markdown",
   "metadata": {},
   "source": [
    "# Import necessary libraries   "
   ]
  },
  {
   "cell_type": "code",
   "execution_count": 2,
   "metadata": {
    "execution": {
     "iopub.execute_input": "2025-01-09T18:43:39.991902Z",
     "iopub.status.busy": "2025-01-09T18:43:39.991652Z",
     "iopub.status.idle": "2025-01-09T18:43:44.399871Z",
     "shell.execute_reply": "2025-01-09T18:43:44.399064Z",
     "shell.execute_reply.started": "2025-01-09T18:43:39.991880Z"
    },
    "trusted": true
   },
   "outputs": [],
   "source": [
    "from langchain_community.document_loaders.directory import DirectoryLoader\n",
    "from langchain.text_splitter import RecursiveCharacterTextSplitter\n",
    "from langchain.retrievers import ParentDocumentRetriever\n",
    "from langchain_huggingface import HuggingFaceEmbeddings\n",
    "from langchain_qdrant import QdrantVectorStore\n",
    "from qdrant_client import QdrantClient\n",
    "from langchain_community.document_loaders import DataFrameLoader\n",
    "import pandas as pd\n",
    "\n",
    "import torch\n",
    "device = \"cuda\" if torch.cuda.is_available() else  \"cpu\""
   ]
  },
  {
   "cell_type": "markdown",
   "metadata": {},
   "source": [
    "# Custom SQL Store"
   ]
  },
  {
   "cell_type": "code",
   "execution_count": 3,
   "metadata": {
    "execution": {
     "iopub.execute_input": "2025-01-09T18:43:44.401867Z",
     "iopub.status.busy": "2025-01-09T18:43:44.401373Z",
     "iopub.status.idle": "2025-01-09T18:43:44.414606Z",
     "shell.execute_reply": "2025-01-09T18:43:44.413226Z",
     "shell.execute_reply.started": "2025-01-09T18:43:44.401840Z"
    },
    "trusted": true
   },
   "outputs": [],
   "source": [
    "from pydantic import BaseModel, Field\n",
    "from typing import Optional\n",
    "\n",
    "class DocumentModel(BaseModel):\n",
    "    key: Optional[str] = Field(None)\n",
    "    page_content: Optional[str] = Field(None)\n",
    "    metadata: dict = Field(default_factory=dict)"
   ]
  },
  {
   "cell_type": "code",
   "execution_count": 4,
   "metadata": {
    "execution": {
     "iopub.execute_input": "2025-01-09T18:43:44.416067Z",
     "iopub.status.busy": "2025-01-09T18:43:44.415795Z",
     "iopub.status.idle": "2025-01-09T18:43:44.666628Z",
     "shell.execute_reply": "2025-01-09T18:43:44.665598Z",
     "shell.execute_reply.started": "2025-01-09T18:43:44.416043Z"
    },
    "trusted": true
   },
   "outputs": [],
   "source": [
    "from sqlalchemy import Column, String, create_engine\n",
    "from sqlalchemy.orm import declarative_base\n",
    "from sqlalchemy.dialects.postgresql import JSONB\n",
    "\n",
    "Base = declarative_base()\n",
    "\n",
    "class SQLDocument(Base):\n",
    "    __tablename__ = \"docstore\"\n",
    "    key = Column(String, primary_key=True)\n",
    "    value = Column(JSONB)\n",
    "\n",
    "    def __repr__(self):\n",
    "        return f\"<SQLDocument(key='{self.key}', value='{self.value}')>\""
   ]
  },
  {
   "cell_type": "markdown",
   "metadata": {},
   "source": [
    "# Load data from CSV"
   ]
  },
  {
   "cell_type": "code",
   "execution_count": 5,
   "metadata": {
    "execution": {
     "iopub.execute_input": "2025-01-09T18:43:44.667869Z",
     "iopub.status.busy": "2025-01-09T18:43:44.667603Z",
     "iopub.status.idle": "2025-01-09T18:43:44.680409Z",
     "shell.execute_reply": "2025-01-09T18:43:44.679592Z",
     "shell.execute_reply.started": "2025-01-09T18:43:44.667846Z"
    },
    "trusted": true
   },
   "outputs": [],
   "source": [
    "import logging\n",
    "from typing import Generic, Iterator, Sequence, TypeVar\n",
    "from langchain.schema import Document\n",
    "from langchain_core.stores import BaseStore\n",
    "\n",
    "from sqlalchemy.orm import sessionmaker, scoped_session\n",
    "\n",
    "logger = logging.getLogger(__name__)\n",
    "\n",
    "D = TypeVar(\"D\", bound=Document)\n",
    "\n",
    "class PostgresStore(BaseStore[str, DocumentModel], Generic[D]):\n",
    "    def __init__(self, connection_string: str):\n",
    "        self.engine = create_engine(connection_string)\n",
    "        Base.metadata.create_all(self.engine)\n",
    "        self.Session = scoped_session(sessionmaker(bind=self.engine))\n",
    "\n",
    "    def serialize_document(self, doc: Document) -> dict:\n",
    "        return {\"page_content\": doc.page_content, \"metadata\": doc.metadata}\n",
    "\n",
    "    def deserialize_document(self, value: dict) -> Document:\n",
    "        return Document(page_content=value.get(\"page_content\", \"\"), metadata=value.get(\"metadata\", {}))\n",
    "\n",
    "\n",
    "    def mget(self, keys: Sequence[str]) -> list[Document]:\n",
    "        with self.Session() as session:\n",
    "            try:\n",
    "                sql_documents = session.query(SQLDocument).filter(SQLDocument.key.in_(keys)).all()\n",
    "                return [self.deserialize_document(sql_doc.value) for sql_doc in sql_documents]\n",
    "            except Exception as e:\n",
    "                logger.error(f\"Error in mget: {e}\")\n",
    "                session.rollback()\n",
    "                return [] \n",
    "    def mset(self, key_value_pairs: Sequence[tuple[str, Document]]) -> None:\n",
    "        with self.Session() as session:\n",
    "            try:\n",
    "                serialized_docs = []\n",
    "                for key, document in key_value_pairs:\n",
    "                    serialized_doc = self.serialize_document(document)\n",
    "                    serialized_docs.append((key, serialized_doc))\n",
    "\n",
    "                documents_to_update = [SQLDocument(key=key, value=value) for key, value in serialized_docs]\n",
    "                session.bulk_save_objects(documents_to_update, update_changed_only=True)\n",
    "                session.commit()\n",
    "            except Exception as e:\n",
    "                logger.error(f\"Error in mset: {e}\")\n",
    "                session.rollback()\n",
    "\n",
    "\n",
    "    def mdelete(self, keys: Sequence[str]) -> None:\n",
    "        with self.Session() as session:\n",
    "            try:\n",
    "                session.query(SQLDocument).filter(SQLDocument.key.in_(keys)).delete(synchronize_session=False)\n",
    "                session.commit()\n",
    "            except Exception as e:\n",
    "                logger.error(f\"Error in mdelete: {e}\")\n",
    "                session.rollback() \n",
    "    def yield_keys(self, *, prefix: Optional[str] = None) -> Iterator[str]:\n",
    "        with self.Session() as session:\n",
    "            try:\n",
    "                query = session.query(SQLDocument.key)\n",
    "                if prefix:\n",
    "                    query = query.filter(SQLDocument.key.like(f\"{prefix}%\"))\n",
    "                for key in query:\n",
    "                    yield key[0]\n",
    "            except Exception as e:\n",
    "                logger.error(f\"Error in yield_keys: {e}\")\n",
    "                session.rollback()"
   ]
  },
  {
   "cell_type": "code",
   "execution_count": 6,
   "metadata": {
    "execution": {
     "iopub.execute_input": "2025-01-09T18:43:44.681689Z",
     "iopub.status.busy": "2025-01-09T18:43:44.681313Z",
     "iopub.status.idle": "2025-01-09T18:44:26.681772Z",
     "shell.execute_reply": "2025-01-09T18:44:26.680708Z",
     "shell.execute_reply.started": "2025-01-09T18:43:44.681652Z"
    },
    "trusted": true
   },
   "outputs": [],
   "source": [
    "df = pd.read_csv('/kaggle/input/corpus-tvpl-20k/data.csv')\n",
    "df = df.loc[:, ~df.columns.str.match('Unnamed')]"
   ]
  },
  {
   "cell_type": "code",
   "execution_count": 7,
   "metadata": {
    "execution": {
     "iopub.execute_input": "2025-01-09T18:44:26.683262Z",
     "iopub.status.busy": "2025-01-09T18:44:26.682895Z",
     "iopub.status.idle": "2025-01-09T18:44:26.736157Z",
     "shell.execute_reply": "2025-01-09T18:44:26.735057Z",
     "shell.execute_reply.started": "2025-01-09T18:44:26.683226Z"
    },
    "trusted": true
   },
   "outputs": [],
   "source": [
    "df = df.drop(['source_id', 'source', 'html_text', 'gazette_number', 'attribute', 'note'], axis=1)"
   ]
  },
  {
   "cell_type": "code",
   "execution_count": 8,
   "metadata": {
    "execution": {
     "iopub.execute_input": "2025-01-09T18:44:26.740348Z",
     "iopub.status.busy": "2025-01-09T18:44:26.739880Z",
     "iopub.status.idle": "2025-01-09T18:44:26.786047Z",
     "shell.execute_reply": "2025-01-09T18:44:26.785303Z",
     "shell.execute_reply.started": "2025-01-09T18:44:26.740317Z"
    },
    "trusted": true
   },
   "outputs": [],
   "source": [
    "df = df.fillna('None')"
   ]
  },
  {
   "cell_type": "code",
   "execution_count": 9,
   "metadata": {
    "execution": {
     "iopub.execute_input": "2025-01-09T18:44:26.788054Z",
     "iopub.status.busy": "2025-01-09T18:44:26.787751Z",
     "iopub.status.idle": "2025-01-09T18:44:26.805108Z",
     "shell.execute_reply": "2025-01-09T18:44:26.804199Z",
     "shell.execute_reply.started": "2025-01-09T18:44:26.788030Z"
    },
    "trusted": true
   },
   "outputs": [
    {
     "data": {
      "text/html": [
       "<div>\n",
       "<style scoped>\n",
       "    .dataframe tbody tr th:only-of-type {\n",
       "        vertical-align: middle;\n",
       "    }\n",
       "\n",
       "    .dataframe tbody tr th {\n",
       "        vertical-align: top;\n",
       "    }\n",
       "\n",
       "    .dataframe thead th {\n",
       "        text-align: right;\n",
       "    }\n",
       "</style>\n",
       "<table border=\"1\" class=\"dataframe\">\n",
       "  <thead>\n",
       "    <tr style=\"text-align: right;\">\n",
       "      <th></th>\n",
       "      <th>url</th>\n",
       "      <th>title</th>\n",
       "      <th>full_text</th>\n",
       "      <th>official_number</th>\n",
       "      <th>document_info</th>\n",
       "      <th>document_status</th>\n",
       "      <th>place_issue</th>\n",
       "      <th>signer</th>\n",
       "      <th>document_type</th>\n",
       "      <th>document_field</th>\n",
       "      <th>issued_date</th>\n",
       "      <th>effective_date</th>\n",
       "      <th>enforced_date</th>\n",
       "    </tr>\n",
       "  </thead>\n",
       "  <tbody>\n",
       "    <tr>\n",
       "      <th>0</th>\n",
       "      <td>https://thuvienphapluat.vn/van-ban/Tien-te-Nga...</td>\n",
       "      <td>Thông báo 6905/TB-KBNN</td>\n",
       "      <td>BỘ TÀI CHÍNH \\nKHO BẠC NHÀ NƯỚC \\n CỘNG HÒA XÃ...</td>\n",
       "      <td>6905/TB-KBNN</td>\n",
       "      <td>Thông báo 6905/TB-KBNN về Tỷ giá hạch toán ngo...</td>\n",
       "      <td>Đã biết</td>\n",
       "      <td>kho bạc nhà nước</td>\n",
       "      <td>Trần Quân</td>\n",
       "      <td>Thông báo</td>\n",
       "      <td>Tiền tệ - Ngân hàng</td>\n",
       "      <td>29/11/2024</td>\n",
       "      <td>Đã biết</td>\n",
       "      <td>Dữ liệu đang cập nhật</td>\n",
       "    </tr>\n",
       "  </tbody>\n",
       "</table>\n",
       "</div>"
      ],
      "text/plain": [
       "                                                 url                   title  \\\n",
       "0  https://thuvienphapluat.vn/van-ban/Tien-te-Nga...  Thông báo 6905/TB-KBNN   \n",
       "\n",
       "                                           full_text official_number  \\\n",
       "0  BỘ TÀI CHÍNH \\nKHO BẠC NHÀ NƯỚC \\n CỘNG HÒA XÃ...    6905/TB-KBNN   \n",
       "\n",
       "                                       document_info document_status  \\\n",
       "0  Thông báo 6905/TB-KBNN về Tỷ giá hạch toán ngo...         Đã biết   \n",
       "\n",
       "        place_issue     signer document_type       document_field issued_date  \\\n",
       "0  kho bạc nhà nước  Trần Quân     Thông báo  Tiền tệ - Ngân hàng  29/11/2024   \n",
       "\n",
       "  effective_date          enforced_date  \n",
       "0        Đã biết  Dữ liệu đang cập nhật  "
      ]
     },
     "execution_count": 9,
     "metadata": {},
     "output_type": "execute_result"
    }
   ],
   "source": [
    "first_row = df.iloc[[0]]\n",
    "first_row"
   ]
  },
  {
   "cell_type": "code",
   "execution_count": 10,
   "metadata": {
    "execution": {
     "iopub.execute_input": "2025-01-09T18:44:26.806525Z",
     "iopub.status.busy": "2025-01-09T18:44:26.806123Z",
     "iopub.status.idle": "2025-01-09T18:44:26.822288Z",
     "shell.execute_reply": "2025-01-09T18:44:26.821469Z",
     "shell.execute_reply.started": "2025-01-09T18:44:26.806474Z"
    },
    "trusted": true
   },
   "outputs": [
    {
     "data": {
      "text/html": [
       "<div>\n",
       "<style scoped>\n",
       "    .dataframe tbody tr th:only-of-type {\n",
       "        vertical-align: middle;\n",
       "    }\n",
       "\n",
       "    .dataframe tbody tr th {\n",
       "        vertical-align: top;\n",
       "    }\n",
       "\n",
       "    .dataframe thead th {\n",
       "        text-align: right;\n",
       "    }\n",
       "</style>\n",
       "<table border=\"1\" class=\"dataframe\">\n",
       "  <thead>\n",
       "    <tr style=\"text-align: right;\">\n",
       "      <th></th>\n",
       "      <th>url</th>\n",
       "      <th>title</th>\n",
       "      <th>full_text</th>\n",
       "      <th>official_number</th>\n",
       "      <th>document_info</th>\n",
       "      <th>document_status</th>\n",
       "      <th>place_issue</th>\n",
       "      <th>signer</th>\n",
       "      <th>document_type</th>\n",
       "      <th>document_field</th>\n",
       "      <th>issued_date</th>\n",
       "      <th>effective_date</th>\n",
       "      <th>enforced_date</th>\n",
       "    </tr>\n",
       "  </thead>\n",
       "  <tbody>\n",
       "    <tr>\n",
       "      <th>0</th>\n",
       "      <td>https://thuvienphapluat.vn/van-ban/Tien-te-Nga...</td>\n",
       "      <td>Thông báo 6905/TB-KBNN</td>\n",
       "      <td>BỘ TÀI CHÍNH \\nKHO BẠC NHÀ NƯỚC \\n CỘNG HÒA XÃ...</td>\n",
       "      <td>6905/TB-KBNN</td>\n",
       "      <td>Thông báo 6905/TB-KBNN về Tỷ giá hạch toán ngo...</td>\n",
       "      <td>Đã biết</td>\n",
       "      <td>kho bạc nhà nước</td>\n",
       "      <td>Trần Quân</td>\n",
       "      <td>Thông báo</td>\n",
       "      <td>Tiền tệ - Ngân hàng</td>\n",
       "      <td>29/11/2024</td>\n",
       "      <td>Đã biết</td>\n",
       "      <td>Dữ liệu đang cập nhật</td>\n",
       "    </tr>\n",
       "    <tr>\n",
       "      <th>1</th>\n",
       "      <td>https://thuvienphapluat.vn/cong-van/Bao-hiem/C...</td>\n",
       "      <td>Công văn 17509/BTC-HCSN</td>\n",
       "      <td>BỘ TÀI CHÍNH \\n CỘNG HÒA XÃ HỘI CHỦ NGHĨA VIỆT...</td>\n",
       "      <td>17509/BTC-HCSN</td>\n",
       "      <td>Công văn 17509/BTC-HCSN năm 2013 ngân sách nhà...</td>\n",
       "      <td>Đã biết</td>\n",
       "      <td>Bộ Tài chính</td>\n",
       "      <td>Nguyễn Thị Minh</td>\n",
       "      <td>Công văn</td>\n",
       "      <td>Bảo hiểm, Lao động - Tiền lương, Tài chính nhà...</td>\n",
       "      <td>18/12/2013</td>\n",
       "      <td>Đã biết</td>\n",
       "      <td>Dữ liệu đang cập nhật</td>\n",
       "    </tr>\n",
       "    <tr>\n",
       "      <th>2</th>\n",
       "      <td>https://thuvienphapluat.vn/van-ban/Bo-may-hanh...</td>\n",
       "      <td>Kế hoạch 749/KH-UBND</td>\n",
       "      <td>ỦY BAN NHÂN DÂN \\nTỈNH QUẢNG BÌNH \\n CỘNG HÒA ...</td>\n",
       "      <td>749/KH-UBND</td>\n",
       "      <td>Kế hoạch 749/KH-UBND năm 2022 thực hiện Quyết ...</td>\n",
       "      <td>Đã biết</td>\n",
       "      <td>Tỉnh Quảng Bình</td>\n",
       "      <td>Hồ An Phong</td>\n",
       "      <td>Kế hoạch</td>\n",
       "      <td>Bộ máy hành chính</td>\n",
       "      <td>09/05/2022</td>\n",
       "      <td>Đã biết</td>\n",
       "      <td>Dữ liệu đang cập nhật</td>\n",
       "    </tr>\n",
       "  </tbody>\n",
       "</table>\n",
       "</div>"
      ],
      "text/plain": [
       "                                                 url                    title  \\\n",
       "0  https://thuvienphapluat.vn/van-ban/Tien-te-Nga...   Thông báo 6905/TB-KBNN   \n",
       "1  https://thuvienphapluat.vn/cong-van/Bao-hiem/C...  Công văn 17509/BTC-HCSN   \n",
       "2  https://thuvienphapluat.vn/van-ban/Bo-may-hanh...     Kế hoạch 749/KH-UBND   \n",
       "\n",
       "                                           full_text official_number  \\\n",
       "0  BỘ TÀI CHÍNH \\nKHO BẠC NHÀ NƯỚC \\n CỘNG HÒA XÃ...    6905/TB-KBNN   \n",
       "1  BỘ TÀI CHÍNH \\n CỘNG HÒA XÃ HỘI CHỦ NGHĨA VIỆT...  17509/BTC-HCSN   \n",
       "2  ỦY BAN NHÂN DÂN \\nTỈNH QUẢNG BÌNH \\n CỘNG HÒA ...     749/KH-UBND   \n",
       "\n",
       "                                       document_info document_status  \\\n",
       "0  Thông báo 6905/TB-KBNN về Tỷ giá hạch toán ngo...         Đã biết   \n",
       "1  Công văn 17509/BTC-HCSN năm 2013 ngân sách nhà...         Đã biết   \n",
       "2  Kế hoạch 749/KH-UBND năm 2022 thực hiện Quyết ...         Đã biết   \n",
       "\n",
       "        place_issue           signer document_type  \\\n",
       "0  kho bạc nhà nước        Trần Quân     Thông báo   \n",
       "1      Bộ Tài chính  Nguyễn Thị Minh      Công văn   \n",
       "2   Tỉnh Quảng Bình      Hồ An Phong      Kế hoạch   \n",
       "\n",
       "                                      document_field issued_date  \\\n",
       "0                                Tiền tệ - Ngân hàng  29/11/2024   \n",
       "1  Bảo hiểm, Lao động - Tiền lương, Tài chính nhà...  18/12/2013   \n",
       "2                                  Bộ máy hành chính  09/05/2022   \n",
       "\n",
       "  effective_date          enforced_date  \n",
       "0        Đã biết  Dữ liệu đang cập nhật  \n",
       "1        Đã biết  Dữ liệu đang cập nhật  \n",
       "2        Đã biết  Dữ liệu đang cập nhật  "
      ]
     },
     "execution_count": 10,
     "metadata": {},
     "output_type": "execute_result"
    }
   ],
   "source": [
    "rows = df.iloc[:3,:]\n",
    "rows"
   ]
  },
  {
   "cell_type": "code",
   "execution_count": 11,
   "metadata": {
    "execution": {
     "iopub.execute_input": "2025-01-09T18:44:26.823636Z",
     "iopub.status.busy": "2025-01-09T18:44:26.823287Z",
     "iopub.status.idle": "2025-01-09T18:44:26.840915Z",
     "shell.execute_reply": "2025-01-09T18:44:26.840063Z",
     "shell.execute_reply.started": "2025-01-09T18:44:26.823611Z"
    },
    "trusted": true
   },
   "outputs": [],
   "source": [
    "loader = DataFrameLoader(rows, page_content_column=\"full_text\")\n",
    "\n",
    "documents = loader.load()"
   ]
  },
  {
   "cell_type": "code",
   "execution_count": 12,
   "metadata": {
    "execution": {
     "iopub.execute_input": "2025-01-09T18:44:26.841903Z",
     "iopub.status.busy": "2025-01-09T18:44:26.841647Z",
     "iopub.status.idle": "2025-01-09T18:44:26.857439Z",
     "shell.execute_reply": "2025-01-09T18:44:26.856667Z",
     "shell.execute_reply.started": "2025-01-09T18:44:26.841881Z"
    },
    "trusted": true
   },
   "outputs": [
    {
     "data": {
      "text/plain": [
       "6458"
      ]
     },
     "execution_count": 12,
     "metadata": {},
     "output_type": "execute_result"
    }
   ],
   "source": [
    "len(documents[0].page_content)"
   ]
  },
  {
   "cell_type": "code",
   "execution_count": 13,
   "metadata": {
    "execution": {
     "iopub.execute_input": "2025-01-09T18:44:26.858538Z",
     "iopub.status.busy": "2025-01-09T18:44:26.858275Z",
     "iopub.status.idle": "2025-01-09T18:44:26.873073Z",
     "shell.execute_reply": "2025-01-09T18:44:26.872182Z",
     "shell.execute_reply.started": "2025-01-09T18:44:26.858517Z"
    },
    "trusted": true
   },
   "outputs": [],
   "source": [
    "def flatten(xss):\n",
    "    return [x for xs in xss for x in xs]"
   ]
  },
  {
   "cell_type": "markdown",
   "metadata": {},
   "source": [
    "# Load Embeddings Model"
   ]
  },
  {
   "cell_type": "code",
   "execution_count": 6,
   "metadata": {
    "execution": {
     "iopub.execute_input": "2025-01-09T20:44:25.313507Z",
     "iopub.status.busy": "2025-01-09T20:44:25.313174Z",
     "iopub.status.idle": "2025-01-09T20:44:27.023562Z",
     "shell.execute_reply": "2025-01-09T20:44:27.022783Z",
     "shell.execute_reply.started": "2025-01-09T20:44:25.313460Z"
    },
    "trusted": true
   },
   "outputs": [
    {
     "name": "stderr",
     "output_type": "stream",
     "text": [
      "d:\\App\\Anaconda\\envs\\psang\\Lib\\site-packages\\sentence_transformers\\cross_encoder\\CrossEncoder.py:11: TqdmWarning: IProgress not found. Please update jupyter and ipywidgets. See https://ipywidgets.readthedocs.io/en/stable/user_install.html\n",
      "  from tqdm.autonotebook import tqdm, trange\n",
      "d:\\App\\Anaconda\\envs\\psang\\Lib\\site-packages\\huggingface_hub\\file_download.py:1132: FutureWarning: `resume_download` is deprecated and will be removed in version 1.0.0. Downloads always resume when possible. If you want to force a new download, use `force_download=True`.\n",
      "  warnings.warn(\n"
     ]
    }
   ],
   "source": [
    "embedding = HuggingFaceEmbeddings(\n",
    "    model_name='hiieu/halong_embedding',\n",
    "    model_kwargs={'device': device},\n",
    "    encode_kwargs= {'normalize_embeddings': False}\n",
    ")"
   ]
  },
  {
   "cell_type": "markdown",
   "metadata": {},
   "source": [
    "# Chunking Methods"
   ]
  },
  {
   "cell_type": "code",
   "execution_count": 7,
   "metadata": {
    "execution": {
     "iopub.execute_input": "2025-01-09T18:44:33.699053Z",
     "iopub.status.busy": "2025-01-09T18:44:33.698381Z",
     "iopub.status.idle": "2025-01-09T18:44:33.703388Z",
     "shell.execute_reply": "2025-01-09T18:44:33.702286Z",
     "shell.execute_reply.started": "2025-01-09T18:44:33.699026Z"
    },
    "trusted": true
   },
   "outputs": [],
   "source": [
    "parent_splitter = RecursiveCharacterTextSplitter(chunk_size=8096*2)\n",
    "child_splitter = RecursiveCharacterTextSplitter(chunk_size=2048, chunk_overlap=512)"
   ]
  },
  {
   "cell_type": "code",
   "execution_count": 16,
   "metadata": {
    "execution": {
     "iopub.execute_input": "2025-01-09T18:44:33.704818Z",
     "iopub.status.busy": "2025-01-09T18:44:33.704449Z",
     "iopub.status.idle": "2025-01-09T18:44:41.132187Z",
     "shell.execute_reply": "2025-01-09T18:44:41.131415Z",
     "shell.execute_reply.started": "2025-01-09T18:44:33.704786Z"
    },
    "trusted": true
   },
   "outputs": [
    {
     "data": {
      "text/plain": [
       "19367"
      ]
     },
     "execution_count": 16,
     "metadata": {},
     "output_type": "execute_result"
    }
   ],
   "source": [
    "import uuid\n",
    "def prepare_parent_chunks(data):\n",
    "    chunks = []\n",
    "    base_metadata = {\n",
    "        \"url\": data['url'] if data.get('url') else \"\",\n",
    "        \"title\": data['title'] if data.get('title') else \"\",\n",
    "        \"official_number\": data.get(\"official_number\") if data.get(\"official_number\") else \"\" ,\n",
    "        \"document_info\": data.get(\"document_info\") if data.get(\"document_info\") else \"\",\n",
    "        \"document_status\": data.get(\"document_status\") if data.get(\"document_status\") else \"\",\n",
    "        \"place_issue\": data.get(\"document_info\") if data.get(\"place_issue\") else \"\",\n",
    "        \"signer\": data.get(\"signer\") if data.get(\"signer\") else \"\",\n",
    "        \"document_type\": data.get(\"document_type\") if data.get(\"document_type\") else \"\",\n",
    "        \"document_field\": data.get(\"document_field\") if data.get(\"document_field\") else \"\",\n",
    "        \"issued_date\": data.get(\"issued_date\") if data.get(\"issued_date\") else \"\",\n",
    "        \"effective_date\": data.get(\"effective_date\") if data.get(\"effective_date\") else \"\",\n",
    "        \"enforced_date\": data.get(\"enforced_date\") if data.get(\"enforced_date\") else \"\",\n",
    "    }\n",
    "\n",
    "    docs = parent_splitter.split_text(data[\"full_text\"])\n",
    "    for doc in docs:\n",
    "        chunks.append({\n",
    "            \"key\":str(uuid.uuid4()),\n",
    "            \"page_content\": doc,\n",
    "            \"metadata\": base_metadata\n",
    "        })\n",
    "        \n",
    "    return chunks\n",
    "\n",
    "parent_chunks = [prepare_parent_chunks(sample) for sample in df.iloc]\n",
    "len(parent_chunks)"
   ]
  },
  {
   "cell_type": "code",
   "execution_count": 17,
   "metadata": {
    "execution": {
     "iopub.execute_input": "2025-01-09T18:44:41.133292Z",
     "iopub.status.busy": "2025-01-09T18:44:41.133032Z",
     "iopub.status.idle": "2025-01-09T18:44:41.141602Z",
     "shell.execute_reply": "2025-01-09T18:44:41.140716Z",
     "shell.execute_reply.started": "2025-01-09T18:44:41.133258Z"
    },
    "trusted": true
   },
   "outputs": [
    {
     "data": {
      "text/plain": [
       "37966"
      ]
     },
     "execution_count": 17,
     "metadata": {},
     "output_type": "execute_result"
    }
   ],
   "source": [
    "flatten_parent_chunks = flatten(parent_chunks)\n",
    "len(flatten_parent_chunks)"
   ]
  },
  {
   "cell_type": "code",
   "execution_count": 18,
   "metadata": {
    "execution": {
     "iopub.execute_input": "2025-01-09T18:44:41.142786Z",
     "iopub.status.busy": "2025-01-09T18:44:41.142521Z",
     "iopub.status.idle": "2025-01-09T18:44:49.628790Z",
     "shell.execute_reply": "2025-01-09T18:44:49.627424Z",
     "shell.execute_reply.started": "2025-01-09T18:44:41.142764Z"
    },
    "trusted": true
   },
   "outputs": [
    {
     "data": {
      "text/plain": [
       "37966"
      ]
     },
     "execution_count": 18,
     "metadata": {},
     "output_type": "execute_result"
    }
   ],
   "source": [
    "def prepare_child_chunks(data):\n",
    "    chunks = []\n",
    "    base_metadata = {\n",
    "        \"doc_id\": data.get(\"key\"),\n",
    "        **data.get(\"metadata\")\n",
    "    }\n",
    "    text = data.get(\"page_content\")\n",
    "    docs = child_splitter.split_text(text)\n",
    "    for doc in docs:\n",
    "        chunks.append({\n",
    "            \"key\":str(uuid.uuid4()),\n",
    "            \"page_content\": doc,\n",
    "            \"metadata\": base_metadata\n",
    "        })\n",
    "        \n",
    "    return chunks\n",
    "\n",
    "child_chunks = [prepare_child_chunks(sample) for sample in flatten_parent_chunks]\n",
    "len(child_chunks)"
   ]
  },
  {
   "cell_type": "code",
   "execution_count": 19,
   "metadata": {
    "execution": {
     "iopub.execute_input": "2025-01-09T18:44:49.630393Z",
     "iopub.status.busy": "2025-01-09T18:44:49.629988Z",
     "iopub.status.idle": "2025-01-09T18:44:49.648216Z",
     "shell.execute_reply": "2025-01-09T18:44:49.646969Z",
     "shell.execute_reply.started": "2025-01-09T18:44:49.630352Z"
    },
    "trusted": true
   },
   "outputs": [
    {
     "data": {
      "text/plain": [
       "271673"
      ]
     },
     "execution_count": 19,
     "metadata": {},
     "output_type": "execute_result"
    }
   ],
   "source": [
    "flatten_child_chunks = flatten(child_chunks)\n",
    "len(flatten_child_chunks)"
   ]
  },
  {
   "cell_type": "markdown",
   "metadata": {},
   "source": [
    "# Embedding child chunks"
   ]
  },
  {
   "cell_type": "code",
   "execution_count": 20,
   "metadata": {
    "execution": {
     "iopub.execute_input": "2025-01-09T18:44:49.649842Z",
     "iopub.status.busy": "2025-01-09T18:44:49.649413Z",
     "iopub.status.idle": "2025-01-09T18:44:49.662664Z",
     "shell.execute_reply": "2025-01-09T18:44:49.661573Z",
     "shell.execute_reply.started": "2025-01-09T18:44:49.649804Z"
    },
    "trusted": true
   },
   "outputs": [],
   "source": [
    "def custom_collate_fn(batch):\n",
    "    \"\"\"Collate function to handle variable-sized data.\"\"\"\n",
    "    collated_batch = {\"metadata\": [], \"data\": []}\n",
    "    for item in batch:\n",
    "        collated_batch[\"metadata\"].append(item.get(\"metadata\", {}))\n",
    "        collated_batch[\"data\"].append(item.get(\"page_content\", None))\n",
    "    return collated_batch"
   ]
  },
  {
   "cell_type": "code",
   "execution_count": 21,
   "metadata": {
    "execution": {
     "iopub.execute_input": "2025-01-09T18:44:49.663853Z",
     "iopub.status.busy": "2025-01-09T18:44:49.663596Z",
     "iopub.status.idle": "2025-01-09T18:44:49.682230Z",
     "shell.execute_reply": "2025-01-09T18:44:49.681108Z",
     "shell.execute_reply.started": "2025-01-09T18:44:49.663832Z"
    },
    "trusted": true
   },
   "outputs": [],
   "source": [
    "from torch.utils.data import DataLoader\n",
    "\n",
    "loader = DataLoader(\n",
    "    flatten_child_chunks,\n",
    "    batch_size=32,\n",
    "    collate_fn=custom_collate_fn,\n",
    "    shuffle=False,\n",
    ")"
   ]
  },
  {
   "cell_type": "code",
   "execution_count": 22,
   "metadata": {
    "execution": {
     "iopub.execute_input": "2025-01-09T18:44:49.683727Z",
     "iopub.status.busy": "2025-01-09T18:44:49.683318Z",
     "iopub.status.idle": "2025-01-09T18:44:49.699036Z",
     "shell.execute_reply": "2025-01-09T18:44:49.697925Z",
     "shell.execute_reply.started": "2025-01-09T18:44:49.683699Z"
    },
    "trusted": true
   },
   "outputs": [],
   "source": [
    "def create_embeddings(batch):\n",
    "    texts = [chunk for chunk in batch[\"data\"]]\n",
    "    batch_embeddings = embedding.embed_documents(texts) \n",
    "    return batch_embeddings"
   ]
  },
  {
   "cell_type": "code",
   "execution_count": 23,
   "metadata": {
    "execution": {
     "iopub.execute_input": "2025-01-09T18:44:49.700502Z",
     "iopub.status.busy": "2025-01-09T18:44:49.700122Z",
     "iopub.status.idle": "2025-01-09T20:02:11.206085Z",
     "shell.execute_reply": "2025-01-09T20:02:11.205056Z",
     "shell.execute_reply.started": "2025-01-09T18:44:49.700448Z"
    },
    "trusted": true
   },
   "outputs": [
    {
     "name": "stderr",
     "output_type": "stream",
     "text": [
      "Embedding batches: 100%|██████████| 8490/8490 [1:17:20<00:00,  1.83it/s]\n"
     ]
    }
   ],
   "source": [
    "from concurrent.futures import ThreadPoolExecutor\n",
    "from torch.utils.data import DataLoader\n",
    "from tqdm import tqdm\n",
    "\n",
    "embeddings = []\n",
    "with ThreadPoolExecutor(max_workers=10) as executor:\n",
    "    futures = []\n",
    "    for batch in loader:\n",
    "        futures.append(executor.submit(create_embeddings, batch))\n",
    "    \n",
    "    for future in tqdm(futures, desc=\"Embedding batches\"):\n",
    "        embeddings.extend(future.result())"
   ]
  },
  {
   "cell_type": "code",
   "execution_count": 35,
   "metadata": {
    "execution": {
     "iopub.execute_input": "2025-01-09T20:07:14.620202Z",
     "iopub.status.busy": "2025-01-09T20:07:14.619881Z",
     "iopub.status.idle": "2025-01-09T20:07:14.626597Z",
     "shell.execute_reply": "2025-01-09T20:07:14.625592Z",
     "shell.execute_reply.started": "2025-01-09T20:07:14.620176Z"
    },
    "trusted": true
   },
   "outputs": [
    {
     "data": {
      "text/plain": [
       "271673"
      ]
     },
     "execution_count": 35,
     "metadata": {},
     "output_type": "execute_result"
    }
   ],
   "source": [
    "len(embeddings)"
   ]
  },
  {
   "cell_type": "code",
   "execution_count": 36,
   "metadata": {
    "execution": {
     "iopub.execute_input": "2025-01-09T20:07:18.066945Z",
     "iopub.status.busy": "2025-01-09T20:07:18.066618Z",
     "iopub.status.idle": "2025-01-09T20:07:18.125615Z",
     "shell.execute_reply": "2025-01-09T20:07:18.124807Z",
     "shell.execute_reply.started": "2025-01-09T20:07:18.066920Z"
    },
    "trusted": true
   },
   "outputs": [],
   "source": [
    "for chunk, embedding in zip(flatten_child_chunks, embeddings):\n",
    "    chunk[\"embedding\"] = embedding"
   ]
  },
  {
   "cell_type": "code",
   "execution_count": 37,
   "metadata": {
    "execution": {
     "iopub.execute_input": "2025-01-09T20:07:19.698099Z",
     "iopub.status.busy": "2025-01-09T20:07:19.697720Z",
     "iopub.status.idle": "2025-01-09T20:07:19.964393Z",
     "shell.execute_reply": "2025-01-09T20:07:19.963580Z",
     "shell.execute_reply.started": "2025-01-09T20:07:19.698072Z"
    },
    "trusted": true
   },
   "outputs": [
    {
     "data": {
      "text/html": [
       "<div>\n",
       "<style scoped>\n",
       "    .dataframe tbody tr th:only-of-type {\n",
       "        vertical-align: middle;\n",
       "    }\n",
       "\n",
       "    .dataframe tbody tr th {\n",
       "        vertical-align: top;\n",
       "    }\n",
       "\n",
       "    .dataframe thead th {\n",
       "        text-align: right;\n",
       "    }\n",
       "</style>\n",
       "<table border=\"1\" class=\"dataframe\">\n",
       "  <thead>\n",
       "    <tr style=\"text-align: right;\">\n",
       "      <th></th>\n",
       "      <th>key</th>\n",
       "      <th>page_content</th>\n",
       "      <th>metadata</th>\n",
       "      <th>embedding</th>\n",
       "    </tr>\n",
       "  </thead>\n",
       "  <tbody>\n",
       "    <tr>\n",
       "      <th>0</th>\n",
       "      <td>602a02b4-37fe-498d-936e-c489ba1bc138</td>\n",
       "      <td>BỘ TÀI CHÍNH \\nKHO BẠC NHÀ NƯỚC \\n CỘNG HÒA XÃ...</td>\n",
       "      <td>{'doc_id': 'e0804ac4-6ee1-432b-b9fa-fbba4f7ae2...</td>\n",
       "      <td>[0.0407029390335083, 0.07425945997238159, -0.0...</td>\n",
       "    </tr>\n",
       "    <tr>\n",
       "      <th>1</th>\n",
       "      <td>d98d9f5c-3501-4496-8268-ef542983776b</td>\n",
       "      <td>Nơi nhận: \\n VPQH, VPCP, VP CTN; \\n Viện KSNDT...</td>\n",
       "      <td>{'doc_id': 'e0804ac4-6ee1-432b-b9fa-fbba4f7ae2...</td>\n",
       "      <td>[0.063381627202034, 0.0036498084664344788, -0....</td>\n",
       "    </tr>\n",
       "    <tr>\n",
       "      <th>2</th>\n",
       "      <td>2d795588-55b8-4b45-aa2b-b1bf6b9b12bd</td>\n",
       "      <td>1 UAE DIRHAM AED 6.609 \\n2 AFGHAN AFGHANI AFN ...</td>\n",
       "      <td>{'doc_id': 'e0804ac4-6ee1-432b-b9fa-fbba4f7ae2...</td>\n",
       "      <td>[0.023174073547124863, 0.02648521400988102, -0...</td>\n",
       "    </tr>\n",
       "    <tr>\n",
       "      <th>3</th>\n",
       "      <td>968e04d8-1422-4cb8-bccd-71d33995f9f7</td>\n",
       "      <td>59 GUINEA FRANC GNF 3 \\n60 QUETZAL GTQ 3.149 \\...</td>\n",
       "      <td>{'doc_id': 'e0804ac4-6ee1-432b-b9fa-fbba4f7ae2...</td>\n",
       "      <td>[0.02090383879840374, 0.02827535569667816, -0....</td>\n",
       "    </tr>\n",
       "    <tr>\n",
       "      <th>4</th>\n",
       "      <td>77e055c6-c7cf-45f1-8f50-c7bd20a2a385</td>\n",
       "      <td>121 ZLOTY PLN 5.960 \\n122 GUARANI PYG 3 \\n123 ...</td>\n",
       "      <td>{'doc_id': 'e0804ac4-6ee1-432b-b9fa-fbba4f7ae2...</td>\n",
       "      <td>[0.020989082753658295, 0.05037805810570717, 0....</td>\n",
       "    </tr>\n",
       "  </tbody>\n",
       "</table>\n",
       "</div>"
      ],
      "text/plain": [
       "                                    key  \\\n",
       "0  602a02b4-37fe-498d-936e-c489ba1bc138   \n",
       "1  d98d9f5c-3501-4496-8268-ef542983776b   \n",
       "2  2d795588-55b8-4b45-aa2b-b1bf6b9b12bd   \n",
       "3  968e04d8-1422-4cb8-bccd-71d33995f9f7   \n",
       "4  77e055c6-c7cf-45f1-8f50-c7bd20a2a385   \n",
       "\n",
       "                                        page_content  \\\n",
       "0  BỘ TÀI CHÍNH \\nKHO BẠC NHÀ NƯỚC \\n CỘNG HÒA XÃ...   \n",
       "1  Nơi nhận: \\n VPQH, VPCP, VP CTN; \\n Viện KSNDT...   \n",
       "2  1 UAE DIRHAM AED 6.609 \\n2 AFGHAN AFGHANI AFN ...   \n",
       "3  59 GUINEA FRANC GNF 3 \\n60 QUETZAL GTQ 3.149 \\...   \n",
       "4  121 ZLOTY PLN 5.960 \\n122 GUARANI PYG 3 \\n123 ...   \n",
       "\n",
       "                                            metadata  \\\n",
       "0  {'doc_id': 'e0804ac4-6ee1-432b-b9fa-fbba4f7ae2...   \n",
       "1  {'doc_id': 'e0804ac4-6ee1-432b-b9fa-fbba4f7ae2...   \n",
       "2  {'doc_id': 'e0804ac4-6ee1-432b-b9fa-fbba4f7ae2...   \n",
       "3  {'doc_id': 'e0804ac4-6ee1-432b-b9fa-fbba4f7ae2...   \n",
       "4  {'doc_id': 'e0804ac4-6ee1-432b-b9fa-fbba4f7ae2...   \n",
       "\n",
       "                                           embedding  \n",
       "0  [0.0407029390335083, 0.07425945997238159, -0.0...  \n",
       "1  [0.063381627202034, 0.0036498084664344788, -0....  \n",
       "2  [0.023174073547124863, 0.02648521400988102, -0...  \n",
       "3  [0.02090383879840374, 0.02827535569667816, -0....  \n",
       "4  [0.020989082753658295, 0.05037805810570717, 0....  "
      ]
     },
     "execution_count": 37,
     "metadata": {},
     "output_type": "execute_result"
    }
   ],
   "source": [
    "df_embeded = pd.DataFrame(data=flatten_child_chunks)\n",
    "df_embeded.head()"
   ]
  },
  {
   "cell_type": "code",
   "execution_count": 8,
   "metadata": {
    "execution": {
     "iopub.execute_input": "2025-01-09T20:07:26.277618Z",
     "iopub.status.busy": "2025-01-09T20:07:26.277244Z",
     "iopub.status.idle": "2025-01-09T20:07:26.283658Z",
     "shell.execute_reply": "2025-01-09T20:07:26.282305Z",
     "shell.execute_reply.started": "2025-01-09T20:07:26.277589Z"
    },
    "trusted": true
   },
   "outputs": [],
   "source": [
    "def convert_numpy_types(obj):\n",
    "    \"\"\"Convert numpy types to Python native types\"\"\"\n",
    "    if isinstance(obj, np.integer):\n",
    "        return int(obj)\n",
    "    elif isinstance(obj, np.floating):\n",
    "        return float(obj)\n",
    "    elif isinstance(obj, np.ndarray):\n",
    "        return obj.tolist()\n",
    "    elif isinstance(obj, dict):\n",
    "        return {key: convert_numpy_types(value) for key, value in obj.items()}\n",
    "    elif isinstance(obj, list):\n",
    "        return [convert_numpy_types(item) for item in obj]\n",
    "    return obj"
   ]
  },
  {
   "cell_type": "markdown",
   "metadata": {},
   "source": [
    "# Connect to Qdrant & PostgresSQL"
   ]
  },
  {
   "cell_type": "code",
   "execution_count": 10,
   "metadata": {
    "execution": {
     "iopub.execute_input": "2025-01-09T20:07:28.027963Z",
     "iopub.status.busy": "2025-01-09T20:07:28.027581Z",
     "iopub.status.idle": "2025-01-09T20:07:28.137085Z",
     "shell.execute_reply": "2025-01-09T20:07:28.135986Z",
     "shell.execute_reply.started": "2025-01-09T20:07:28.027931Z"
    },
    "trusted": true
   },
   "outputs": [],
   "source": [
    "# from kaggle_secrets import UserSecretsClient\n",
    "# user_secrets = UserSecretsClient()\n",
    "\n",
    "# QDRANT_API = user_secrets.get_secret(\"Qdrant_Demo_GraphRAG\")\n",
    "QDRANT_API = \"SjRcv7rzROCd-HD59KQRfy7mHgWrLyn0LBaWfQ5zIBNLDns4OlFjHg\"\n",
    "QDRANT_URL = \"https://21a75178-7457-4e63-974b-666f8174af84.us-west-2-0.aws.cloud.qdrant.io:6333\"\n",
    "QDRANT_COLLECTION = 'corpus_tvpl'"
   ]
  },
  {
   "cell_type": "code",
   "execution_count": 11,
   "metadata": {
    "execution": {
     "iopub.execute_input": "2025-01-09T20:07:28.947141Z",
     "iopub.status.busy": "2025-01-09T20:07:28.946788Z",
     "iopub.status.idle": "2025-01-09T20:07:29.014282Z",
     "shell.execute_reply": "2025-01-09T20:07:29.013573Z",
     "shell.execute_reply.started": "2025-01-09T20:07:28.947110Z"
    },
    "trusted": true
   },
   "outputs": [],
   "source": [
    "client = QdrantClient(\n",
    "    url=QDRANT_URL,\n",
    "    api_key=QDRANT_API\n",
    ")"
   ]
  },
  {
   "cell_type": "code",
   "execution_count": 42,
   "metadata": {
    "execution": {
     "iopub.execute_input": "2025-01-09T20:08:16.214624Z",
     "iopub.status.busy": "2025-01-09T20:08:16.214184Z",
     "iopub.status.idle": "2025-01-09T20:08:16.620653Z",
     "shell.execute_reply": "2025-01-09T20:08:16.619637Z",
     "shell.execute_reply.started": "2025-01-09T20:08:16.214589Z"
    },
    "trusted": true
   },
   "outputs": [
    {
     "name": "stdout",
     "output_type": "stream",
     "text": [
      "Collection đã được tạo thành công.\n"
     ]
    }
   ],
   "source": [
    "from qdrant_client.models import VectorParams, Distance, CollectionConfig\n",
    "\n",
    "client.create_collection(\n",
    "   collection_name=\"corpus_tvpl\",\n",
    "    vectors_config=VectorParams(\n",
    "       size=768,  # Kích thước vector của embedding (chỉnh sửa theo embedding của bạn)\n",
    "       distance=Distance.COSINE,  # Khoảng cách cosine là phổ biến cho các embedding dense\n",
    "   ),\n",
    ")\n",
    "print(\"Collection đã được tạo thành công.\")"
   ]
  },
  {
   "cell_type": "code",
   "execution_count": 14,
   "metadata": {
    "execution": {
     "iopub.execute_input": "2025-01-09T20:08:18.311445Z",
     "iopub.status.busy": "2025-01-09T20:08:18.311119Z",
     "iopub.status.idle": "2025-01-09T20:08:18.401997Z",
     "shell.execute_reply": "2025-01-09T20:08:18.401223Z",
     "shell.execute_reply.started": "2025-01-09T20:08:18.311418Z"
    },
    "trusted": true
   },
   "outputs": [],
   "source": [
    "from dotenv import load_dotenv\n",
    "import os\n",
    "\n",
    "load_dotenv()\n",
    "\n",
    "\n",
    "# URL Ngrok\n",
    "NGROK_URL = \"0.tcp.ap.ngrok.io\"\n",
    "NGROK_PORT = 11865\n",
    "DB_URL = \"localhost:5432\"\n",
    "\n",
    "# Thông tin PostgreSQL\n",
    "DB_NAME = 'parent'\n",
    "DB_USER = 'postgres'\n",
    "# DB_PASSWORD = user_secrets.get_secret(\"pw_db_postgre\")\n",
    "DB_PASSWORD = os.getenv(\"DB_PASSWORD\") "
   ]
  },
  {
   "cell_type": "code",
   "execution_count": 15,
   "metadata": {
    "execution": {
     "iopub.execute_input": "2025-01-09T20:08:19.400990Z",
     "iopub.status.busy": "2025-01-09T20:08:19.400682Z",
     "iopub.status.idle": "2025-01-09T20:08:24.052255Z",
     "shell.execute_reply": "2025-01-09T20:08:24.051353Z",
     "shell.execute_reply.started": "2025-01-09T20:08:19.400969Z"
    },
    "trusted": true
   },
   "outputs": [],
   "source": [
    "URL_STRING = f\"postgresql://{DB_USER}:{DB_PASSWORD}@{DB_URL}/{DB_NAME}\"\n",
    "document_store = PostgresStore(URL_STRING)"
   ]
  },
  {
   "cell_type": "code",
   "execution_count": 16,
   "metadata": {
    "execution": {
     "iopub.execute_input": "2025-01-09T20:44:39.185354Z",
     "iopub.status.busy": "2025-01-09T20:44:39.184967Z",
     "iopub.status.idle": "2025-01-09T20:44:39.437879Z",
     "shell.execute_reply": "2025-01-09T20:44:39.436976Z",
     "shell.execute_reply.started": "2025-01-09T20:44:39.185321Z"
    },
    "trusted": true
   },
   "outputs": [],
   "source": [
    "vector_store = QdrantVectorStore(\n",
    "    client=client, \n",
    "    collection_name='corpus_tvpl',\n",
    "    embedding=embedding\n",
    ")"
   ]
  },
  {
   "cell_type": "markdown",
   "metadata": {},
   "source": [
    "# Add Documents to Qdrant"
   ]
  },
  {
   "cell_type": "code",
   "execution_count": 46,
   "metadata": {
    "execution": {
     "iopub.execute_input": "2025-01-09T20:08:28.682644Z",
     "iopub.status.busy": "2025-01-09T20:08:28.682291Z",
     "iopub.status.idle": "2025-01-09T20:11:22.658299Z",
     "shell.execute_reply": "2025-01-09T20:11:22.657224Z",
     "shell.execute_reply.started": "2025-01-09T20:08:28.682615Z"
    },
    "trusted": true
   },
   "outputs": [],
   "source": [
    "from qdrant_client.models import PointStruct\n",
    "import numpy as np \n",
    "\n",
    "batch_size = 1000\n",
    "\n",
    "points = [\n",
    "    PointStruct(\n",
    "        id=row[\"key\"],  # Convert numpy.int64 to string\n",
    "        vector=convert_numpy_types(row[\"embedding\"]),  # Convert numpy array to list if needed\n",
    "        payload={\n",
    "            \"page_content\": row[\"page_content\"],\n",
    "            \"metadata\": convert_numpy_types(row[\"metadata\"])\n",
    "        }\n",
    "    )\n",
    "    for _, row in df_embeded.iterrows()\n",
    "]"
   ]
  },
  {
   "cell_type": "code",
   "execution_count": 47,
   "metadata": {
    "execution": {
     "iopub.execute_input": "2025-01-09T20:11:22.661267Z",
     "iopub.status.busy": "2025-01-09T20:11:22.660959Z",
     "iopub.status.idle": "2025-01-09T20:18:49.446579Z",
     "shell.execute_reply": "2025-01-09T20:18:49.445609Z",
     "shell.execute_reply.started": "2025-01-09T20:11:22.661240Z"
    },
    "trusted": true
   },
   "outputs": [
    {
     "name": "stdout",
     "output_type": "stream",
     "text": [
      "Batch 50 uploaded successfully (1000 points)\n",
      "Batch 100 uploaded successfully (1000 points)\n",
      "Batch 150 uploaded successfully (1000 points)\n",
      "Batch 200 uploaded successfully (1000 points)\n",
      "Batch 250 uploaded successfully (1000 points)\n",
      "Data upload completed.\n"
     ]
    }
   ],
   "source": [
    "for i in range(0, len(points), batch_size):\n",
    "    batch_points = points[i:i + batch_size]\n",
    "    try:\n",
    "        vector_store.client.upsert(\n",
    "            collection_name=\"corpus_tvpl\",\n",
    "            points=batch_points\n",
    "        )\n",
    "        if (i//batch_size + 1) % 50 == 0:\n",
    "            print(f\"Batch {i//batch_size + 1} uploaded successfully ({len(batch_points)} points)\")\n",
    "    except Exception as e:\n",
    "        print(f\"Error uploading batch {i//batch_size + 1}: {str(e)}\")\n",
    "\n",
    "print(\"Data upload completed.\")"
   ]
  },
  {
   "cell_type": "markdown",
   "metadata": {},
   "source": [
    "# Add Documents to PostgresSQL"
   ]
  },
  {
   "cell_type": "code",
   "execution_count": 48,
   "metadata": {
    "execution": {
     "iopub.execute_input": "2025-01-09T20:19:48.536444Z",
     "iopub.status.busy": "2025-01-09T20:19:48.536059Z",
     "iopub.status.idle": "2025-01-09T20:19:48.584749Z",
     "shell.execute_reply": "2025-01-09T20:19:48.583924Z",
     "shell.execute_reply.started": "2025-01-09T20:19:48.536411Z"
    },
    "trusted": true
   },
   "outputs": [
    {
     "name": "stdout",
     "output_type": "stream",
     "text": [
      "(37966, 3)\n"
     ]
    },
    {
     "data": {
      "text/html": [
       "<div>\n",
       "<style scoped>\n",
       "    .dataframe tbody tr th:only-of-type {\n",
       "        vertical-align: middle;\n",
       "    }\n",
       "\n",
       "    .dataframe tbody tr th {\n",
       "        vertical-align: top;\n",
       "    }\n",
       "\n",
       "    .dataframe thead th {\n",
       "        text-align: right;\n",
       "    }\n",
       "</style>\n",
       "<table border=\"1\" class=\"dataframe\">\n",
       "  <thead>\n",
       "    <tr style=\"text-align: right;\">\n",
       "      <th></th>\n",
       "      <th>key</th>\n",
       "      <th>page_content</th>\n",
       "      <th>metadata</th>\n",
       "    </tr>\n",
       "  </thead>\n",
       "  <tbody>\n",
       "    <tr>\n",
       "      <th>0</th>\n",
       "      <td>e0804ac4-6ee1-432b-b9fa-fbba4f7ae20a</td>\n",
       "      <td>BỘ TÀI CHÍNH \\nKHO BẠC NHÀ NƯỚC \\n CỘNG HÒA XÃ...</td>\n",
       "      <td>{'url': 'https://thuvienphapluat.vn/van-ban/Ti...</td>\n",
       "    </tr>\n",
       "    <tr>\n",
       "      <th>1</th>\n",
       "      <td>9a30a9e5-fdb6-407d-b674-f0185a25741c</td>\n",
       "      <td>BỘ TÀI CHÍNH \\n CỘNG HÒA XÃ HỘI CHỦ NGHĨA VIỆT...</td>\n",
       "      <td>{'url': 'https://thuvienphapluat.vn/cong-van/B...</td>\n",
       "    </tr>\n",
       "  </tbody>\n",
       "</table>\n",
       "</div>"
      ],
      "text/plain": [
       "                                    key  \\\n",
       "0  e0804ac4-6ee1-432b-b9fa-fbba4f7ae20a   \n",
       "1  9a30a9e5-fdb6-407d-b674-f0185a25741c   \n",
       "\n",
       "                                        page_content  \\\n",
       "0  BỘ TÀI CHÍNH \\nKHO BẠC NHÀ NƯỚC \\n CỘNG HÒA XÃ...   \n",
       "1  BỘ TÀI CHÍNH \\n CỘNG HÒA XÃ HỘI CHỦ NGHĨA VIỆT...   \n",
       "\n",
       "                                            metadata  \n",
       "0  {'url': 'https://thuvienphapluat.vn/van-ban/Ti...  \n",
       "1  {'url': 'https://thuvienphapluat.vn/cong-van/B...  "
      ]
     },
     "execution_count": 48,
     "metadata": {},
     "output_type": "execute_result"
    }
   ],
   "source": [
    "df_flatten_parent_chunks = pd.DataFrame(flatten_parent_chunks)\n",
    "print(df_flatten_parent_chunks.shape)\n",
    "df_flatten_parent_chunks.head(2)"
   ]
  },
  {
   "cell_type": "code",
   "execution_count": 49,
   "metadata": {
    "execution": {
     "iopub.execute_input": "2025-01-09T20:19:50.884421Z",
     "iopub.status.busy": "2025-01-09T20:19:50.884071Z",
     "iopub.status.idle": "2025-01-09T20:19:50.889444Z",
     "shell.execute_reply": "2025-01-09T20:19:50.888422Z",
     "shell.execute_reply.started": "2025-01-09T20:19:50.884391Z"
    },
    "trusted": true
   },
   "outputs": [],
   "source": [
    "import pandas as pd\n",
    "from sqlalchemy import create_engine\n",
    "import io\n",
    "\n",
    "engine = create_engine(URL_STRING)"
   ]
  },
  {
   "cell_type": "code",
   "execution_count": 50,
   "metadata": {
    "execution": {
     "iopub.execute_input": "2025-01-09T20:19:52.796563Z",
     "iopub.status.busy": "2025-01-09T20:19:52.796128Z",
     "iopub.status.idle": "2025-01-09T20:19:52.802657Z",
     "shell.execute_reply": "2025-01-09T20:19:52.801658Z",
     "shell.execute_reply.started": "2025-01-09T20:19:52.796521Z"
    },
    "trusted": true
   },
   "outputs": [
    {
     "data": {
      "text/plain": [
       "{'url': 'https://thuvienphapluat.vn/van-ban/Tien-te-Ngan-hang/Thong-bao-6905-TB-KBNN-2024-Ty-gia-hach-toan-ngoai-te-thang-12-635137.aspx',\n",
       " 'title': 'Thông báo 6905/TB-KBNN',\n",
       " 'official_number': '6905/TB-KBNN',\n",
       " 'document_info': 'Thông báo 6905/TB-KBNN về Tỷ giá hạch toán ngoại tệ tháng 12 năm 2024 do Kho bạc Nhà nước ban hành',\n",
       " 'document_status': 'Đã biết',\n",
       " 'place_issue': 'Thông báo 6905/TB-KBNN về Tỷ giá hạch toán ngoại tệ tháng 12 năm 2024 do Kho bạc Nhà nước ban hành',\n",
       " 'signer': 'Trần Quân',\n",
       " 'document_type': 'Thông báo',\n",
       " 'document_field': 'Tiền tệ - Ngân hàng',\n",
       " 'issued_date': '29/11/2024',\n",
       " 'effective_date': 'Đã biết',\n",
       " 'enforced_date': 'Dữ liệu đang cập nhật'}"
      ]
     },
     "execution_count": 50,
     "metadata": {},
     "output_type": "execute_result"
    }
   ],
   "source": [
    "df_flatten_parent_chunks.iloc[0]['metadata']"
   ]
  },
  {
   "cell_type": "code",
   "execution_count": 51,
   "metadata": {
    "execution": {
     "iopub.execute_input": "2025-01-09T20:19:53.786671Z",
     "iopub.status.busy": "2025-01-09T20:19:53.786282Z",
     "iopub.status.idle": "2025-01-09T20:19:59.901678Z",
     "shell.execute_reply": "2025-01-09T20:19:59.900651Z",
     "shell.execute_reply.started": "2025-01-09T20:19:53.786636Z"
    },
    "trusted": true
   },
   "outputs": [],
   "source": [
    "import json\n",
    "\n",
    "df_processed = [\n",
    "    {\n",
    "        \"key\": row.get('key'),\n",
    "        \"value\": {\n",
    "            **row.get('metadata'),\n",
    "            'page_content': row.get('page_content')\n",
    "        }\n",
    "    }\n",
    "    for _, row in df_flatten_parent_chunks.iterrows()\n",
    "]\n",
    "df_processed = pd.DataFrame(df_processed)\n",
    "df_processed['value'] = df_processed['value'].apply(json.dumps)"
   ]
  },
  {
   "cell_type": "code",
   "execution_count": 52,
   "metadata": {
    "execution": {
     "iopub.execute_input": "2025-01-09T20:20:04.388925Z",
     "iopub.status.busy": "2025-01-09T20:20:04.388580Z",
     "iopub.status.idle": "2025-01-09T20:24:55.839843Z",
     "shell.execute_reply": "2025-01-09T20:24:55.838943Z",
     "shell.execute_reply.started": "2025-01-09T20:20:04.388893Z"
    },
    "trusted": true
   },
   "outputs": [],
   "source": [
    "try:\n",
    "    df_processed.to_sql(\n",
    "        'docstore',\n",
    "        engine,\n",
    "        if_exists='append',\n",
    "        index=False,\n",
    "        method='multi',  \n",
    "        chunksize=1000   \n",
    "    )\n",
    "except Exception as e:\n",
    "    print(f\"Error: {e}\")\n",
    "    engine.rollback()  # Rollback the transaction\n",
    "finally:\n",
    "    engine.dispose()  # Ensure connection is closed\n"
   ]
  },
  {
   "cell_type": "markdown",
   "metadata": {},
   "source": [
    "# Retriever"
   ]
  },
  {
   "cell_type": "code",
   "execution_count": 58,
   "metadata": {
    "execution": {
     "iopub.execute_input": "2025-01-09T20:31:43.963874Z",
     "iopub.status.busy": "2025-01-09T20:31:43.963427Z",
     "iopub.status.idle": "2025-01-09T20:31:48.584829Z",
     "shell.execute_reply": "2025-01-09T20:31:48.583956Z",
     "shell.execute_reply.started": "2025-01-09T20:31:43.963839Z"
    },
    "trusted": true
   },
   "outputs": [],
   "source": [
    "document_store = PostgresStore(URL_STRING)"
   ]
  },
  {
   "cell_type": "code",
   "execution_count": 59,
   "metadata": {
    "execution": {
     "iopub.execute_input": "2025-01-09T20:31:48.586306Z",
     "iopub.status.busy": "2025-01-09T20:31:48.586023Z",
     "iopub.status.idle": "2025-01-09T20:31:50.768421Z",
     "shell.execute_reply": "2025-01-09T20:31:50.767533Z",
     "shell.execute_reply.started": "2025-01-09T20:31:48.586277Z"
    },
    "trusted": true
   },
   "outputs": [
    {
     "data": {
      "text/plain": [
       "37966"
      ]
     },
     "execution_count": 59,
     "metadata": {},
     "output_type": "execute_result"
    }
   ],
   "source": [
    "len(list(document_store.yield_keys()))"
   ]
  },
  {
   "cell_type": "code",
   "execution_count": 17,
   "metadata": {
    "execution": {
     "iopub.execute_input": "2025-01-09T20:46:26.523824Z",
     "iopub.status.busy": "2025-01-09T20:46:26.523420Z",
     "iopub.status.idle": "2025-01-09T20:46:26.528542Z",
     "shell.execute_reply": "2025-01-09T20:46:26.527483Z",
     "shell.execute_reply.started": "2025-01-09T20:46:26.523793Z"
    },
    "trusted": true
   },
   "outputs": [],
   "source": [
    "parent_document_retriever = ParentDocumentRetriever(\n",
    "    vectorstore=vector_store,\n",
    "    docstore=document_store,\n",
    "    child_splitter=child_splitter,\n",
    "    parent_splitter=parent_splitter\n",
    ")"
   ]
  },
  {
   "cell_type": "code",
   "execution_count": 18,
   "metadata": {
    "execution": {
     "iopub.execute_input": "2025-01-09T20:41:02.127875Z",
     "iopub.status.busy": "2025-01-09T20:41:02.127529Z",
     "iopub.status.idle": "2025-01-09T20:41:02.156160Z",
     "shell.execute_reply": "2025-01-09T20:41:02.155288Z",
     "shell.execute_reply.started": "2025-01-09T20:41:02.127847Z"
    },
    "trusted": true
   },
   "outputs": [
    {
     "name": "stdout",
     "output_type": "stream",
     "text": [
      "Query vector: [0.05239662528038025, -0.05257686600089073, -0.05722544342279434, -0.03124828264117241, 0.010826312936842442]\n"
     ]
    }
   ],
   "source": [
    "query = \"Chạy vượt đèn đỏ\"\n",
    "query_vector = embedding.embed_query(query)\n",
    "print(\"Query vector:\", query_vector[:5])\n"
   ]
  },
  {
   "cell_type": "code",
   "execution_count": 19,
   "metadata": {
    "execution": {
     "iopub.execute_input": "2025-01-09T20:45:02.219410Z",
     "iopub.status.busy": "2025-01-09T20:45:02.219056Z",
     "iopub.status.idle": "2025-01-09T20:45:02.544298Z",
     "shell.execute_reply": "2025-01-09T20:45:02.543501Z",
     "shell.execute_reply.started": "2025-01-09T20:45:02.219378Z"
    },
    "trusted": true
   },
   "outputs": [
    {
     "data": {
      "text/plain": [
       "[Document(metadata={'doc_id': '8151cbcf-438d-48fc-8073-e02a051205d6', 'url': 'https://thuvienphapluat.vn/van-ban/Giao-thong-Van-tai/Thong-tu-05-2024-TT-BGTVT-sua-doi-Thong-tu-van-tai-duong-bo-dich-vu-ho-tro-van-tai-duong-bo-604598.aspx', 'title': 'Thông tư 05/2024/TT-BGTVT', 'official_number': '05/2024/TT-BGTVT', 'document_info': 'Thông tư 05/2024/TT-BGTVT sửa đổi Thông tư liên quan đến lĩnh vực vận tải đường bộ, dịch vụ hỗ trợ vận tải đường bộ, phương tiện và người lái do Bộ trưởng Bộ Giao thông vận tải ban hành', 'document_status': 'Đã biết', 'place_issue': 'Thông tư 05/2024/TT-BGTVT sửa đổi Thông tư liên quan đến lĩnh vực vận tải đường bộ, dịch vụ hỗ trợ vận tải đường bộ, phương tiện và người lái do Bộ trưởng Bộ Giao thông vận tải ban hành', 'signer': 'Nguyễn Duy Lâm', 'document_type': 'Thông tư', 'document_field': 'Giao thông - Vận tải', 'issued_date': '31/03/2024', 'effective_date': 'Đã biết', 'enforced_date': '19/04/2024', '_id': '9ffbd705-9446-4c12-b529-19eb3ae15f26', '_collection_name': 'corpus_tvpl'}, page_content='1. Chấp hành theo tín hiệu đèn điều khiển giao thông: Đèn tín hiệu màu đỏ phải dừng lại; Đèn tín hiệu màu xanh hoặc vàng được phép đi. 2. Dừng xe để khoảng cách từ hình chiếu thanh cản phía trước của xe xuống mặt đường đến vạch dừng (khoảng cách A) không quá 500mm; 3. Bật đèn xi nhan trái khi qua ngã tư rẽ trái; 4. Bật đèn xi nhan phải khi qua ngã tư rẽ phải; 5. Lái xe qua ngã tư trong thời gian quy định; 6. Lái xe qua ngã tư không vi phạm vạch kẻ đường; 7. Lái xe đến bài sát hạch tiếp theo. 1. Chấp hành theo tín hiệu đèn điều khiển giao thông; 2. Dừng xe cách vạch dừng quy định không quá 500mm; 3. Bật đèn xi nhan trái khi rẽ trái; 4. Bật đèn xi nhan phải khi rẽ phải 5. Xe qua ngã tư trong thời thời gian 20 giây; 6. Lái xe qua ngã tư không vi phạm quy tắc giao thông đường bộ; 7. Giữ động cơ hoạt động liên tục; 8. Giữ tốc độ động cơ không quá 4000 vòng/phút; 9. Tốc độ xe chạy không quá: 24 km/h đối với hạng B, D 20 km/h đối với hạng C, E 1. Vi phạm tín hiệu đèn điều khiển giao thông (đi qua ngã tư khi đèn tín hiệu màu đỏ), bị trừ 10 điểm; 2. Dừng xe quá vạch dừng quy định, bị trừ 05 điểm; 3. Dừng xe chưa đến vạch dừng quy định, bị trừ 05 điểm; 4. Không bật đèn xi nhan khi rẽ trái hoặc rẽ phải, bị trừ 05 điểm; 5. Quá 20 giây từ khi đèn tín hiệu màu xanh bật sáng không lái xe qua được vạch kết thúc ngã tư, bị trừ 05 điểm; 6. Quá 30 giây từ khi đèn tín hiệu màu xanh bật sáng không lái xe qua được vạch kết thúc ngã tư, bị đình chỉ sát hạch; 7. Lái xe vi phạm vạch kẻ đường để thiết bị báo không thực hiện đúng trình tự bài thi, bị đình chỉ sát hạch. 8. Lái xe lên vỉa hè bị đình chỉ sát hạch; 9. Xử lý tình huống không hợp lý gây tai nạn, bị đình chỉ sát hạch; 10. Xe bị chết máy, mỗi lần bị trừ 05 điểm; 11. Để tốc độ động cơ quá 4000 vòng/phút, mỗi lần bị trừ 05 điểm; 12. Xe quá tốc độ quy định, cứ 03 giây bị trừ 01 điểm. 13. Tổng thời gian đến bài sát hạch đang thực hiện quá quy định, cứ 03 giây bị trừ 01 điểm; 14. Điểm sát hạch dưới 80 điểm, bị đình chỉ sát hạch. \\n\\ne) Bài sát hạch: Qua đường vòng quanh co'),\n",
       " Document(metadata={'doc_id': '73e01e54-f06b-4e63-9626-1f26fb736214', 'url': 'https://thuvienphapluat.vn/van-ban/Giao-thong-Van-tai/Nghi-dinh-168-2024-ND-CP-xu-phat-vi-pham-hanh-chinh-an-toan-giao-thong-duong-bo-619502.aspx', 'title': 'Nghị định 168/2024/NĐ-CP', 'official_number': '168/2024/NĐ-CP', 'document_info': 'Nghị định 168/2024/NĐ-CP quy định xử phạt vi phạm hành chính về trật tự, an toàn giao thông trong lĩnh vực giao thông đường bộ; trừ điểm, phục hồi điểm Giấy phép lái xe', 'document_status': 'Đã biết', 'place_issue': 'Nghị định 168/2024/NĐ-CP quy định xử phạt vi phạm hành chính về trật tự, an toàn giao thông trong lĩnh vực giao thông đường bộ; trừ điểm, phục hồi điểm Giấy phép lái xe', 'signer': 'Trần Hồng Hà', 'document_type': 'Nghị định', 'document_field': 'Vi phạm hành chính, Giao thông - Vận tải', 'issued_date': '26/12/2024', 'effective_date': 'Đã biết', 'enforced_date': 'Dữ liệu đang cập nhật', '_id': '20cf63fe-1da6-48e5-a094-e5ab5ff91aa7', '_collection_name': 'corpus_tvpl'}, page_content='d) Khi ra, vào vị trí dừng xe, đỗ xe không có tín hiệu báo cho người điều\\nkhiển phương tiện khác biết;\\n\\nđ) Đỗ, để xe ở vỉa hè trái phép.\\n\\n3. Phạt tiền từ 800.000 đồng đến 1.000.000 đồng đối với người điều khiển xe\\nthực hiện một trong các hành vi vi phạm sau đây:\\n\\na) Chạy quá tốc độ quy định từ 05 km/h đến dưới 10 km/h;\\n\\nb) Sử dụng còi, rú ga liên tục; sử dụng còi hơi, sử dụng đèn chiếu xa khi gặp\\nngười đi bộ qua đường hoặc khi đi trên đoạn đường qua khu dân cư có hệ thống\\nchiếu sáng đang hoạt động hoặc khi gặp xe đi ngược chiều (trừ trường hợp dải\\nphân cách có khả năng chống chói) hoặc khi chuyển hướng xe tại nơi đường giao\\nnhau, trừ các xe ưu tiên đang đi làm nhiệm vụ theo quy định;\\n\\nc) Không sử dụng hoặc sử dụng không đủ đèn chiếu sáng trong thời gian từ 18\\ngiờ ngày hôm trước đến 06 giờ ngày hôm sau hoặc khi có sương mù, khói, bụi,\\ntrời mưa, thời tiết xấu làm hạn chế tầm nhìn;\\n\\nd) Tránh xe, vượt xe không đúng quy định; không nhường đường cho xe đi ngược\\nchiều theo quy định tại nơi đường hẹp, đường dốc, nơi có chướng ngại vật;\\n\\nđ) Điều khiển xe chạy dưới tốc độ tối thiểu trên đoạn đường bộ có quy định tốc\\nđộ tối thiểu cho phép.\\n\\n4. Phạt tiền từ 1.000.000 đồng đến 2.000.000 đồng đối với người điều khiển xe\\nthực hiện một trong các hành vi vi phạm sau đây:\\n\\na) Chạy quá tốc độ quy định từ 10 km/h đến 20 km/h;\\n\\nb) Chạy xe trong hầm đường bộ không sử dụng đèn chiếu sáng gần;\\n\\nc) Không tuân thủ các quy định về dừng xe, đỗ xe tại nơi đường bộ giao nhau\\ncùng mức với đường sắt; dừng xe, đỗ xe trong phạm vi bảo vệ công trình đường\\nsắt, phạm vi an toàn của đường sắt;\\n\\nd) Quay đầu xe tại nơi đường bộ giao nhau cùng mức với đường sắt; quay đầu xe\\ntại nơi đường hẹp, đường dốc, đoạn đường cong tầm nhìn bị che khuất, nơi có\\nbiển báo hiệu có nội dung cấm quay đầu đối với loại phương tiện đang điều\\nkhiển; điều khiển xe rẽ trái tại nơi có biển báo hiệu có nội dung cấm rẽ trái\\nđối với loại phương tiện đang điều khiển; điều khiển xe rẽ phải tại nơi có\\nbiển báo hiệu có nội dung cấm rẽ phải đối với loại phương tiện đang điều\\nkhiển;'),\n",
       " Document(metadata={'doc_id': 'e82882e1-4524-4542-9205-7a4f0c74daca', 'url': 'https://thuvienphapluat.vn/van-ban/Giao-thong-Van-tai/Nghi-dinh-168-2024-ND-CP-xu-phat-vi-pham-hanh-chinh-an-toan-giao-thong-duong-bo-619502.aspx', 'title': 'Nghị định 168/2024/NĐ-CP', 'official_number': '168/2024/NĐ-CP', 'document_info': 'Nghị định 168/2024/NĐ-CP quy định xử phạt vi phạm hành chính về trật tự, an toàn giao thông trong lĩnh vực giao thông đường bộ; trừ điểm, phục hồi điểm Giấy phép lái xe', 'document_status': 'Đã biết', 'place_issue': 'Nghị định 168/2024/NĐ-CP quy định xử phạt vi phạm hành chính về trật tự, an toàn giao thông trong lĩnh vực giao thông đường bộ; trừ điểm, phục hồi điểm Giấy phép lái xe', 'signer': 'Trần Hồng Hà', 'document_type': 'Nghị định', 'document_field': 'Vi phạm hành chính, Giao thông - Vận tải', 'issued_date': '26/12/2024', 'effective_date': 'Đã biết', 'enforced_date': 'Dữ liệu đang cập nhật', '_id': '539df722-a7e2-4ddc-b26f-fb044294a7d0', '_collection_name': 'corpus_tvpl'}, page_content='d) Không nhường đường cho xe xin vượt khi có đủ điều kiện an toàn hoặc gây cản\\ntrở đối với xe cơ giới xin vượt, gây cản trở xe ưu tiên;\\n\\nđ) Không chấp hành hiệu lệnh của đèn tín hiệu giao thông.\\n\\n3. Phạt tiền từ 300.000 đồng đến 400.000 đồng đối với người điều khiển xe\\nthực hiện một trong các hành vi vi phạm sau đây:\\n\\na) Điều khiển xe lạng lách, đánh võng; đuổi nhau trên đường;\\n\\nb) Đi xe bằng một bánh đối với xe đạp, xe đạp máy; đi xe bằng hai bánh đối với\\nxe xích lô;\\n\\nc) Đi vào khu vực cấm, đường có biển báo hiệu nội dung cấm đi vào đối với loại\\nphương tiện đang điều khiển; đi ngược chiều đường của đường một chiều, đường\\ncó biển “Cấm đi ngược chiều\";\\n\\nd) Điều khiển xe trên đường mà trong máu hoặc hơi thở có nồng độ cồn vượt quá\\n50 miligam đến 80 miligam/100 mililít máu hoặc vượt quá 0,25 miligam đến 0,4\\nmiligam/1 lít khí thở.\\n\\n4. Phạt tiền từ 400.000 đồng đến 600.000 đồng đối với người điều khiển xe\\nthực hiện một trong các hành vi vi phạm sau đây:\\n\\na) Gây tai nạn giao thông không dừng ngay phương tiện, không giữ nguyên hiện\\ntrường, không trợ giúp người bị nạn, không ở lại hiện trường hoặc không đến\\ntrình báo ngay với cơ quan công an, Ủy ban nhân dân nơi gần nhất;\\n\\nb) Điều khiển xe trên đường mà trong máu hoặc hơi thở có nồng độ cồn vượt quá\\n80 miligam/100 mililít máu hoặc vượt quá 0,4 miligam/1 lít khí thở;\\n\\nc) Không chấp hành yêu cầu kiểm tra về nồng độ cồn của người thi hành công vụ;\\n\\nd) Người điều khiển xe đạp máy không đội “mũ bảo hiểm cho người đi mô tô, xe\\nmáy” hoặc đội “mũ bảo hiểm cho người đi mô tô, xe máy” không cài quai đúng quy\\ncách khi tham gia giao thông trên đường bộ;\\n\\nđ) Chở người ngồi trên xe đạp máy không đội “mũ bảo hiểm cho người đi mô tô,\\nxe máy” hoặc đội “mũ bảo hiểm cho người đi mô tô, xe máy” không cài quai đúng\\nquy cách, trừ trường hợp chở người bệnh đi cấp cứu, trẻ em dưới 06 tuổi, áp\\ngiải người có hành vi vi phạm pháp luật.\\n\\n5. Phạt tiền từ 800.000 đồng đến 1.200.000 đồng đối với người điều khiển xe\\nđi vào đường cao tốc, trừ phương tiện phục vụ việc quản lý, bảo trì đường cao\\ntốc.'),\n",
       " Document(metadata={'doc_id': '58b7b042-d721-46c0-979f-378bd7a62547', 'url': 'https://thuvienphapluat.vn/van-ban/Vi-pham-hanh-chinh/Nghi-dinh-100-2019-ND-CP-xu-phat-vi-pham-hanh-chinh-linh-vuc-giao-thong-duong-bo-va-duong-sat-426369.aspx', 'title': 'Nghị định 100/2019/NĐ-CP', 'official_number': '100/2019/NĐ-CP', 'document_info': 'Nghị định 100/2019/NĐ-CP quy định về xử phạt vi phạm hành chính trong lĩnh vực giao thông đường bộ và đường sắt', 'document_status': 'Đã biết', 'place_issue': 'Nghị định 100/2019/NĐ-CP quy định về xử phạt vi phạm hành chính trong lĩnh vực giao thông đường bộ và đường sắt', 'signer': 'Nguyễn Xuân Phúc', 'document_type': 'Nghị định', 'document_field': 'Vi phạm hành chính, Giao thông - Vận tải', 'issued_date': '30/12/2019', 'effective_date': 'Đã biết', 'enforced_date': '08/01/2020', '_id': '734dddfd-650b-4798-93f4-e7b9080b00e9', '_collection_name': 'corpus_tvpl'}, page_content='k) Người đang điều khiển xe hoặc chở người ngồi trên xe bám, kéo, đẩy xe khác,\\nvật khác, dẫn dắt súc vật, mang vác vật cồng kềnh; chở người đứng trên yên,\\ngiá đèo hàng hoặc ngồi trên tay lái; xếp hàng hóa trên xe vượt quá giới hạn\\nquy định; điều khiển xe kéo theo xe khác, vật khác;\\n\\nl) Chở hàng vượt trọng tải thiết kế được ghi trong Giấy đăng ký xe đối với\\nloại xe có quy định về trọng tải thiết kế;\\n\\nm) Chạy trong hầm đường bộ không sử dụng đèn chiếu sáng gần.\\n\\n4. Phạt tiền từ 600.000 đồng đến 1.000.000 đồng đối với người điều khiển xe\\nthực hiện một trong các hành vi vi phạm sau đây:\\n\\na) Điều khiển xe chạy quá tốc độ quy định từ 10 km/h đến 20 km/h;\\n\\nb) Dừng xe, đỗ xe trong hầm đường bộ không đúng nơi quy định;\\n\\nc) Vượt xe trong những trường hợp không được vượt, vượt xe tại đoạn đường có\\nbiển báo hiệu có nội dung cấm vượt đối với loại phương tiện đang điều khiển,\\ntrừ các hành vi vi phạm quy định tại điểm h khoản 3 Điều này;\\n\\nd) Vượt xe trong hầm đường bộ không đúng nơi quy định; quay đầu xe trong hầm\\nđường bộ;\\n\\nđ) Không nhường đường hoặc gây cản trở xe được quyền ưu tiên đang phát tín\\nhiệu ưu tiên đi làm nhiệm vụ;\\n\\ne) Không chấp hành hiệu lệnh của đèn tín hiệu giao thông;\\n\\ng) Không chấp hành hiệu lệnh, hướng dẫn của người điều khiển giao thông hoặc\\nngười kiểm soát giao thông;\\n\\nh) Người đang điều khiển xe sử dụng ô (dù), điện thoại di động, thiết bị âm\\nthanh, trừ thiết bị trợ thính.\\n\\n5. Phạt tiền từ 1.000.000 đồng đến 2.000.000 đồng đối với người điều khiển xe\\nthực hiện hành vi đi ngược chiều của đường một chiều, đi ngược chiều trên\\nđường có biển “Cấm đi ngược chiều”, trừ hành vi vi phạm quy định tại điểm b\\nkhoản 6 Điều này và các trường hợp xe ưu tiên đang đi làm nhiệm vụ khẩn cấp\\ntheo quy định.\\n\\n6. Phạt tiền từ 2.000.000 đồng đến 3.000.000 đồng đối với người điều khiển xe\\nthực hiện một trong các hành vi vi phạm sau đây:\\n\\na) Sử dụng chân chống hoặc vật khác quệt xuống đường khi xe đang chạy;\\n\\nb) Điều khiển xe đi vào đường cao tốc, trừ xe phục vụ việc quản lý, bảo trì\\nđường cao tốc;'),\n",
       " Document(metadata={'doc_id': '78c2b940-abff-4598-8a64-97e352cdeb87', 'url': 'https://thuvienphapluat.vn/van-ban/Vi-pham-hanh-chinh/Nghi-dinh-100-2019-ND-CP-xu-phat-vi-pham-hanh-chinh-linh-vuc-giao-thong-duong-bo-va-duong-sat-426369.aspx', 'title': 'Nghị định 100/2019/NĐ-CP', 'official_number': '100/2019/NĐ-CP', 'document_info': 'Nghị định 100/2019/NĐ-CP quy định về xử phạt vi phạm hành chính trong lĩnh vực giao thông đường bộ và đường sắt', 'document_status': 'Đã biết', 'place_issue': 'Nghị định 100/2019/NĐ-CP quy định về xử phạt vi phạm hành chính trong lĩnh vực giao thông đường bộ và đường sắt', 'signer': 'Nguyễn Xuân Phúc', 'document_type': 'Nghị định', 'document_field': 'Vi phạm hành chính, Giao thông - Vận tải', 'issued_date': '30/12/2019', 'effective_date': 'Đã biết', 'enforced_date': '08/01/2020', '_id': '82e6ea30-3cfe-4249-a682-f7cff43dea23', '_collection_name': 'corpus_tvpl'}, page_content='i) Điều khiển xe chạy dưới tốc độ tối thiểu trên những đoạn đường bộ có quy\\nđịnh tốc độ tối thiểu cho phép.\\n\\n4. Phạt tiền từ 800.000 đồng đến 1.000.000 đồng đối với người điều khiển xe\\nthực hiện một trong các hành vi vi phạm sau đây:\\n\\na) Chạy quá tốc độ quy định từ 10 km/h đến 20 km/h;\\n\\nb) Chạy xe trong hầm đường bộ không sử dụng đèn chiếu sáng;\\n\\nc) Đi ngược chiều của đường một chiều, đi ngược chiều trên đường có biển “Cấm\\nđi ngược chiều”, trừ các hành vi vi phạm quy định tại điểm a khoản 8 Điều này\\nvà các trường hợp xe ưu tiên đang đi làm nhiệm vụ khẩn cấp theo quy định;\\n\\nd) Không tuân thủ các quy định khi vào hoặc ra đường cao tốc; điều khiển xe\\nchạy ở làn dừng xe khẩn cấp hoặc phần lề đường của đường cao tốc; chuyển làn\\nđường không đúng nơi cho phép hoặc không có tín hiệu báo trước khi chạy trên\\nđường cao tốc; không tuân thủ quy định về khoảng cách an toàn đối với xe chạy\\nliền trước khi chạy trên đường cao tốc;\\n\\nđ) Không tuân thủ các quy định về dừng xe, đỗ xe tại nơi đường bộ giao nhau\\ncùng mức với đường sắt; dừng xe, đỗ xe trong phạm vi an toàn của đường sắt,\\ntrừ hành vi vi phạm quy định tại điểm b khoản 2, điểm b khoản 3 Điều 49 Nghị\\nđịnh này;\\n\\ne) Không nhường đường hoặc gây cản trở xe được quyền ưu tiên đang phát tín\\nhiệu ưu tiên đi làm nhiệm vụ;\\n\\ng) Quay đầu xe tại nơi đường bộ giao nhau cùng mức với đường sắt; quay đầu xe\\ntại nơi đường hẹp, đường dốc, đoạn đường cong tầm nhìn bị che khuất, nơi có\\nbiển báo “Cấm quay đầu xe”.\\n\\n5. Phạt tiền từ 1.000.000 đồng đến 2.000.000 đồng đối với người điều khiển xe\\nthực hiện một trong các hành vi vi phạm sau đây:\\n\\na) Lùi xe, quay đầu xe trong hầm đường bộ;\\n\\nb) Không thực hiện biện pháp bảo đảm an toàn theo quy định khi phương tiện bị\\như hỏng trên đoạn đường bộ giao nhau cùng mức với đường sắt;\\n\\nc) Dừng xe, đỗ xe trong hầm đường bộ không đúng nơi quy định;\\n\\nd) Không chấp hành hiệu lệnh, hướng dẫn của người điều khiển giao thông hoặc\\nngười kiểm soát giao thông;\\n\\nđ) Không chấp hành hiệu lệnh của đèn tín hiệu giao thông.')]"
      ]
     },
     "execution_count": 19,
     "metadata": {},
     "output_type": "execute_result"
    }
   ],
   "source": [
    "results = vector_store.similarity_search(query, k=5)\n",
    "results"
   ]
  },
  {
   "cell_type": "code",
   "execution_count": 22,
   "metadata": {
    "execution": {
     "iopub.execute_input": "2025-01-09T20:46:30.087925Z",
     "iopub.status.busy": "2025-01-09T20:46:30.087609Z",
     "iopub.status.idle": "2025-01-09T20:46:33.529425Z",
     "shell.execute_reply": "2025-01-09T20:46:33.528491Z",
     "shell.execute_reply.started": "2025-01-09T20:46:30.087902Z"
    },
    "trusted": true
   },
   "outputs": [
    {
     "data": {
      "text/plain": [
       "[Document(metadata={'url': 'https://thuvienphapluat.vn/van-ban/Vi-pham-hanh-chinh/Nghi-dinh-100-2019-ND-CP-xu-phat-vi-pham-hanh-chinh-linh-vuc-giao-thong-duong-bo-va-duong-sat-426369.aspx', 'title': 'Nghị định 100/2019/NĐ-CP', 'signer': 'Nguyễn Xuân Phúc', 'issued_date': '30/12/2019', 'place_issue': 'Nghị định 100/2019/NĐ-CP quy định về xử phạt vi phạm hành chính trong lĩnh vực giao thông đường bộ và đường sắt'}, page_content='e) Không gắn biển báo hiệu ở phía trước xe kéo, phía sau xe được kéo; điều\\nkhiển xe kéo rơ moóc không có biển báo hiệu theo quy định;\\n\\ng) Bấm còi trong đô thị và khu đông dân cư trong thời gian từ 22 giờ ngày hôm\\ntrước đến 05 giờ ngày hôm sau, trừ các xe ưu tiên đang đi làm nhiệm vụ theo\\nquy định.\\n\\n2. Phạt tiền từ 400.000 đồng đến 600.000 đồng đối với người điều khiển xe\\nthực hiện một trong các hành vi vi phạm sau đây:\\n\\na) Chuyển làn đường không đúng nơi cho phép hoặc không có tín hiệu báo trước,\\ntrừ các hành vi vi phạm quy định tại điểm g khoản 5 Điều này;\\n\\nb) Điều khiển xe chạy tốc độ thấp hơn các xe khác đi cùng chiều mà không đi về\\nbên phải phần đường xe chạy, trừ trường hợp các xe khác đi cùng chiều chạy quá\\ntốc độ quy định;\\n\\nc) Chở người trên buồng lái quá số lượng quy định;\\n\\nd) Không tuân thủ các quy định về nhường đường tại nơi đường bộ giao nhau, trừ\\ncác hành vi vi phạm quy định tại điểm m, điểm n khoản 3 Điều này;\\n\\nđ) Điều khiển xe có liên quan trực tiếp đến vụ tai nạn giao thông mà không\\ndừng lại, không giữ nguyên hiện trường, không tham gia cấp cứu người bị nạn,\\ntrừ hành vi vi phạm quy định tại điểm b khoản 8 Điều này;\\n\\ne) Xe được quyền ưu tiên lắp đặt, sử dụng thiết bị phát tín hiệu ưu tiên không\\nđúng quy định hoặc sử dụng thiết bị phát tín hiệu ưu tiên mà không có giấy\\nphép của cơ quan có thẩm quyền cấp hoặc có giấy phép của cơ quan có thẩm quyền\\ncấp nhưng không còn giá trị sử dụng theo quy định;\\n\\ng) Dừng xe, đỗ xe trên phần đường xe chạy ở đoạn đường ngoài đô thị nơi có lề\\nđường rộng; dừng xe, đỗ xe không sát mép đường phía bên phải theo chiều đi ở\\nnơi đường có lề đường hẹp hoặc không có lề đường; dừng xe, đỗ xe ngược với\\nchiều lưu thông của làn đường; dừng xe, đỗ xe trên dải phân cách cố định ở\\ngiữa hai phần đường xe chạy; đỗ xe trên dốc không chèn bánh; mở cửa xe, để cửa\\nxe mở không bảo đảm an toàn;\\n\\nh) Dừng xe không sát theo lề đường, hè phố phía bên phải theo chiều đi hoặc\\nbánh xe gần nhất cách lề đường, hè phố quá 0,25 m; dừng xe trên đường xe điện,\\nđường dành riêng cho xe buýt; dừng xe trên miệng cống thoát nước, miệng hầm\\ncủa đường điện thoại, điện cao thế, chỗ dành riêng cho xe chữa cháy lấy nước;\\nrời vị trí lái, tắt máy khi dừng xe; dừng xe, đỗ xe không đúng vị trí quy định\\nở những đoạn có bố trí nơi dừng xe, đỗ xe; dừng xe, đỗ xe trên phần đường dành\\ncho người đi bộ qua đường; dừng xe nơi có biển “Cấm dừng xe và đỗ xe”, trừ\\nhành vi vi phạm quy định tại điểm i khoản 4, điểm b khoản 6 Điều này;\\n\\ni) Quay đầu xe trái quy định trong khu dân cư;\\n\\nk) Quay đầu xe ở phần đường dành cho người đi bộ qua đường, trên cầu, đầu cầu,\\nngầm, gầm cầu vượt, trừ trường hợp tổ chức giao thông tại những khu vực này có\\nbố trí nơi quay đầu xe.\\n\\n3. Phạt tiền từ 800.000 đồng đến 1.000.000 đồng đối với người điều khiển xe\\nthực hiện một trong các hành vi vi phạm sau đây:\\n\\na) Điều khiển xe chạy quá tốc độ quy định từ 05 km/h đến dưới 10 km/h;\\n\\nb) Bấm còi, rú ga liên tục; bấm còi hơi, sử dụng đèn chiếu xa trong đô thị,\\nkhu đông dân cư, trừ các xe ưu tiên đang đi làm nhiệm vụ theo quy định;\\n\\nc) Chuyển hướng không giảm tốc độ hoặc không có tín hiệu báo hướng rẽ (trừ\\ntrường hợp điều khiển xe đi theo hướng cong của đoạn đường bộ ở nơi đường\\nkhông giao nhau cùng mức);\\n\\nd) Không tuân thủ các quy định về dừng xe, đỗ xe tại nơi đường bộ giao nhau\\ncùng mức với đường sắt; dừng xe, đỗ xe trong phạm vi an toàn của đường sắt,\\ntrừ hành vi vi phạm quy định tại điểm b khoản 2, điểm b khoản 3 Điều 49 Nghị\\nđịnh này;\\n\\nđ) Dừng xe, đỗ xe tại vị trí: nơi đường bộ giao nhau hoặc trong phạm vi 05 m\\ntính từ mép đường giao nhau; điểm dừng đón, trả khách của xe buýt; trước cổng\\nhoặc trong phạm vi 05 m hai bên cổng trụ sở cơ quan, tổ chức có bố trí đường\\ncho xe ô tô ra vào; nơi phần đường có bề rộng chỉ đủ cho một làn xe; che khuất\\nbiển báo hiệu đường bộ; nơi mở dải phân cách giữa;\\n\\ne) Đỗ xe không sát theo lề đường, hè phố phía bên phải theo chiều đi hoặc bánh\\nxe gần nhất cách lề đường, hè phố quá 0,25 m; đỗ xe trên đường xe điện, đường\\ndành riêng cho xe buýt; đỗ xe trên miệng cống thoát nước, miệng hầm của đường\\nđiện thoại, điện cao thế, chỗ dành riêng cho xe chữa cháy lấy nước; đỗ, để xe\\nở hè phố trái quy định của pháp luật; đỗ xe nơi có biển “Cấm đỗ xe” hoặc biển\\n“Cấm dừng xe và đỗ xe”, trừ hành vi vi phạm quy định tại điểm i khoản 4, điểm\\nb khoản 6 Điều này;\\n\\ng) Không sử dụng hoặc sử dụng không đủ đèn chiếu sáng trong thời gian từ 19\\ngiờ ngày hôm trước đến 05 giờ ngày hôm sau, khi sương mù, thời tiết xấu hạn\\nchế tầm nhìn; sử dụng đèn chiếu xa khi tránh xe đi ngược chiều;\\n\\nh) Điều khiển xe ô tô kéo theo xe khác, vật khác (trừ trường hợp kéo theo một\\nrơ moóc, sơ mi rơ moóc hoặc một xe ô tô, xe máy chuyên dùng khác khi xe này\\nkhông tự chạy được); điều khiển xe ô tô đẩy xe khác, vật khác; điều khiển xe\\nkéo rơ moóc, sơ mi rơ moóc kéo thêm rơ moóc hoặc xe khác, vật khác; không nối\\nchắc chắn, an toàn giữa xe kéo và xe được kéo khi kéo nhau;\\n\\ni) Chở người trên xe được kéo, trừ người điều khiển;\\n\\nk) Quay đầu xe tại nơi đường bộ giao nhau cùng mức với đường sắt; quay đầu xe\\ntại nơi đường hẹp, đường dốc, đoạn đường cong tầm nhìn bị che khuất, nơi có\\nbiển báo “Cấm quay đầu xe”;\\n\\nl) Không giữ khoảng cách an toàn để xảy ra va chạm với xe chạy liền trước hoặc\\nkhông giữ khoảng cách theo quy định của biển báo hiệu “Cự ly tối thiểu giữa\\nhai xe”, trừ các hành vi vi phạm quy định tại điểm g khoản 5 Điều này;\\n\\nm) Không giảm tốc độ và nhường đường khi điều khiển xe chạy từ trong ngõ,\\nđường nhánh ra đường chính;\\n\\nn) Không nhường đường cho xe đi trên đường ưu tiên, đường chính từ bất kỳ\\nhướng nào tới tại nơi đường giao nhau;\\n\\no) Lùi xe ở đường một chiều, đường có biển “Cấm đi ngược chiều”, khu vực cấm\\ndừng, trên phần đường dành cho người đi bộ qua đường, nơi đường bộ giao nhau,\\nnơi đường bộ giao nhau cùng mức với đường sắt, nơi tầm nhìn bị che khuất; lùi\\nxe không quan sát hoặc không có tín hiệu báo trước, trừ hành vi vi phạm quy\\nđịnh tại điểm a khoản 8 Điều này;\\n\\np) Không thắt dây an toàn khi điều khiển xe chạy trên đường;\\n\\nq) Chở người trên xe ô tô không thắt dây an toàn (tại vị trí có trang bị dây\\nan toàn) khi xe đang chạy;\\n\\nr) Chạy trong hầm đường bộ không sử dụng đèn chiếu sáng gần;\\n\\ns) Điều khiển xe chạy dưới tốc độ tối thiểu trên những đoạn đường bộ có quy\\nđịnh tốc độ tối thiểu cho phép.\\n\\n4. Phạt tiền từ 1.000.000 đồng đến 2.000.000 đồng đối với người điều khiển xe\\nthực hiện một trong các hành vi vi phạm sau đây:\\n\\na) Dùng tay sử dụng điện thoại di động khi đang điều khiển xe chạy trên đường;\\n\\nb) Đi vào khu vực cấm, đường có biển báo hiệu có nội dung cấm đi vào đối với\\nloại phương tiện đang điều khiển, trừ các hành vi vi phạm quy định tại điểm c\\nkhoản 5, điểm a khoản 8 Điều này và các trường hợp xe ưu tiên đang đi làm\\nnhiệm vụ khẩn cấp theo quy định;\\n\\nc) Điều khiển xe không đủ điều kiện để thu phí theo hình thức điện tử tự động\\nkhông dừng đi vào làn đường dành riêng thu phí theo hình thức điện tử tự động\\nkhông dừng tại các trạm thu phí;\\n\\nd) Dừng xe, đỗ xe tại vị trí: Bên trái đường một chiều hoặc bên trái (theo\\nhướng lưu thông) của đường đôi; trên đoạn đường cong hoặc gần đầu dốc nơi tầm\\nnhìn bị che khuất; trên cầu, gầm cầu vượt, song song với một xe khác đang\\ndừng, đỗ, trừ hành vi vi phạm quy định tại điểm b khoản 6 Điều này;\\n\\nđ) Dừng xe, đỗ xe, quay đầu xe trái quy định gây ùn tắc giao thông;\\n\\ne) Xe không được quyền ưu tiên lắp đặt, sử dụng thiết bị phát tín hiệu của xe\\nđược quyền ưu tiên;\\n\\ng) Không thực hiện biện pháp bảo đảm an toàn theo quy định khi xe ô tô bị hư\\nhỏng ngay tại nơi đường bộ giao nhau cùng mức với đường sắt;\\n\\nh) Không nhường đường cho xe xin vượt khi có đủ điều kiện an toàn;\\n\\ni) Lùi xe, quay đầu xe trong hầm đường bộ; dừng xe, đỗ xe, vượt xe trong hầm\\nđường bộ không đúng nơi quy định.\\n\\n5. Phạt tiền từ 3.000.000 đồng đến 5.000.000 đồng đối với người điều khiển xe\\nthực hiện một trong các hành vi vi phạm sau đây:\\n\\na) Không chấp hành hiệu lệnh của đèn tín hiệu giao thông;\\n\\nb) Không chấp hành hiệu lệnh, hướng dẫn của người điều khiển giao thông hoặc\\nngười kiểm soát giao thông;\\n\\nc) Đi ngược chiều của đường một chiều, đi ngược chiều trên đường có biển “Cấm\\nđi ngược chiều”, trừ các hành vi vi phạm quy định tại điểm a khoản 8 Điều này\\nvà các trường hợp xe ưu tiên đang đi làm nhiệm vụ khẩn cấp theo quy định;\\n\\nd) Vượt xe trong những trường hợp không được vượt, vượt xe tại đoạn đường có\\nbiển báo hiệu có nội dung cấm vượt (đối với loại phương tiện đang điều khiển);\\nkhông có báo hiệu trước khi vượt; vượt bên phải xe khác trong trường hợp không\\nđược phép, trừ trường hợp tại đoạn đường có nhiều làn đường cho xe đi cùng\\nchiều được phân biệt bằng vạch kẻ phân làn đường mà xe chạy trên làn đường bên\\nphải chạy nhanh hơn xe đang chạy trên làn đường bên trái;\\n\\nđ) Điều khiển xe không đi bên phải theo chiều đi của mình; đi không đúng phần\\nđường hoặc làn đường quy định (làn cùng chiều hoặc làn ngược chiều) trừ hành\\nvi quy định tại điểm c khoản 4 Điều này; điều khiển xe đi qua dải phân cách cố\\nđịnh ở giữa hai phần đường xe chạy; điều khiển xe đi trên hè phố, trừ trường\\nhợp điều khiển xe đi qua hè phố để vào nhà;\\n\\ne) Tránh xe đi ngược chiều không đúng quy định, trừ hành vi vi phạm sử dụng\\nđèn chiếu xa khi tránh xe đi ngược chiều quy định tại điểm g khoản 3 Điều này;\\nkhông nhường đường cho xe đi ngược chiều theo quy định tại nơi đường hẹp,\\nđường dốc, nơi có chướng ngại vật;\\n\\ng) Không tuân thủ các quy định khi vào hoặc ra đường cao tốc; điều khiển xe\\nchạy ở làn dừng xe khẩn cấp hoặc phần lề đường của đường cao tốc; chuyển làn\\nđường không đúng nơi cho phép hoặc không có tín hiệu báo trước khi chạy trên\\nđường cao tốc; không tuân thủ quy định về khoảng cách an toàn đối với xe chạy\\nliền trước khi chạy trên đường cao tốc;\\n\\nh) Không nhường đường hoặc gây cản trở xe được quyền ưu tiên đang phát tín\\nhiệu ưu tiên đi làm nhiệm vụ;\\n\\ni) Điều khiển xe chạy quá tốc độ quy định từ 10 km/h đến 20 km/h.\\n\\n6. Phạt tiền từ 6.000.000 đồng đến 8.000.000 đồng đối với người điều khiển xe\\nthực hiện một trong các hành vi vi phạm sau đây:\\n\\na) Điều khiển xe chạy quá tốc độ quy định trên 20 km/h đến 35 km/h;\\n\\nb) Dừng xe, đỗ xe trên đường cao tốc không đúng nơi quy định; không có báo\\nhiệu để người lái xe khác biết khi buộc phải dừng xe, đỗ xe trên đường cao tốc\\nkhông đúng nơi quy định; quay đầu xe trên đường cao tốc;\\n\\nc) Điều khiển xe trên đường mà trong máu hoặc hơi thở có nồng độ cồn nhưng\\nchưa vượt quá 50 miligam/100 mililít máu hoặc chưa vượt quá 0,25 miligam/1 lít\\nkhí thở.\\n\\n7. Phạt tiền từ 10.000.000 đồng đến 12.000.000 đồng đối với người điều khiển\\nxe thực hiện một trong các hành vi vi phạm sau đây:\\n\\na) Không chú ý quan sát, điều khiển xe chạy quá tốc độ quy định gây tai nạn\\ngiao thông; dừng xe, đỗ xe, quay đầu xe, lùi xe, tránh xe, vượt xe, chuyển\\nhướng, chuyển làn đường không đúng quy định gây tai nạn giao thông; không đi\\nđúng phần đường, làn đường, không giữ khoảng cách an toàn giữa hai xe theo quy\\nđịnh gây tai nạn giao thông hoặc đi vào đường có biển báo hiệu có nội dung cấm\\nđi vào đối với loại phương tiện đang điều khiển, đi ngược chiều của đường một\\nchiều, đi ngược chiều trên đường có biển “Cấm đi ngược chiều” gây tai nạn giao\\nthông, trừ các hành vi vi phạm quy định tại điểm a khoản 8 Điều này;\\n\\nb) Điều khiển xe lạng lách, đánh võng; chạy quá tốc độ đuổi nhau trên đường\\nbộ; dùng chân điều khiển vô lăng xe khi xe đang chạy trên đường;\\n\\nc) Điều khiển xe chạy quá tốc độ quy định trên 35 km/h.\\n\\n8. Phạt tiền từ 16.000.000 đồng đến 18.000.000 đồng đối với người điều khiển\\nxe thực hiện một trong các hành vi vi phạm sau đây:\\n\\na) Điều khiển xe đi ngược chiều trên đường cao tốc, lùi xe trên đường cao tốc,\\ntrừ các xe ưu tiên đang đi làm nhiệm vụ khẩn cấp theo quy định;\\n\\nb) Gây tai nạn giao thông không dừng lại, không giữ nguyên hiện trường, bỏ\\ntrốn không đến trình báo với cơ quan có thẩm quyền, không tham gia cấp cứu\\nngười bị nạn;\\n\\nc) Điều khiển xe trên đường mà trong máu hoặc hơi thở có nồng độ cồn vượt quá\\n50 miligam đến 80 miligam/100 mililít máu hoặc vượt quá 0,25 miligam đến 0,4\\nmiligam/1 lít khí thở.\\n\\n9. Phạt tiền từ 18.000.000 đồng đến 20.000.000 đồng đối với hành vi vi phạm\\nquy định tại điểm b khoản 7 Điều này mà không chấp hành hiệu lệnh dừng xe của\\nngười thi hành công vụ hoặc gây tai nạn giao thông.\\n\\n10. Phạt tiền từ 30.000.000 đồng đến 40.000.000 đồng đối với người điều khiển\\nxe thực hiện một trong các hành vi vi phạm sau đây:\\n\\na) Điều khiển xe trên đường mà trong máu hoặc hơi thở có nồng độ cồn vượt quá\\n80 miligam/100 mililít máu hoặc vượt quá 0,4 miligam/1 lít khí thở;\\n\\nb) Không chấp hành yêu cầu kiểm tra về nồng độ cồn của người thi hành công vụ;\\n\\nc) Điều khiển xe trên đường mà trong cơ thể có chất ma túy;\\n\\nd) Không chấp hành yêu cầu kiểm tra về chất ma túy của người thi hành công vụ.\\n\\n11. Ngoài việc bị phạt tiền, người điều khiển xe thực hiện hành vi vi phạm\\ncòn bị áp dụng các hình thức xử phạt bổ sung sau đây:\\n\\na) Thực hiện hành vi quy định tại điểm e khoản 4 Điều này bị tịch thu thiết bị\\nphát tín hiệu ưu tiên lắp đặt sử dụng trái quy định;\\n\\nb) Thực hiện hành vi quy định tại điểm đ khoản 2; điểm h, điểm i khoản 3;\\nkhoản 4; điểm a, điểm b, điểm d, điểm đ, điểm g, điểm h, điểm i khoản 5 Điều\\nnày bị tước quyền sử dụng Giấy phép lái xe từ 01 tháng đến 03 tháng;\\n\\nc) Thực hiện hành vi quy định tại điểm c khoản 5; điểm a, điểm b khoản 6;\\nkhoản 7 Điều này bị tước quyền sử dụng Giấy phép lái xe từ 02 tháng đến 04\\ntháng. Thực hiện hành vi quy định tại một trong các điểm, khoản sau của Điều\\nnày mà gây tai nạn giao thông thì bị tước quyền sử dụng Giấy phép lái xe từ 02\\ntháng đến 04 tháng: điểm a, điểm d, điểm đ, điểm e, điểm g khoản 1; điểm b,\\nđiểm d, điểm g khoản 2; điểm b, điểm g, điểm h, điểm m, điểm n, điểm r, điểm s\\nkhoản 3; điểm a, điểm c, điểm e, điểm g, điểm h khoản 4; điểm a, điểm b, điểm\\ne, điểm g, điểm h khoản 5 Điều này;\\n\\nd) Thực hiện hành vi quy định tại khoản 9 Điều này hoặc tái phạm hành vi quy\\nđịnh tại điểm b khoản 7 Điều này, bị tước quyền sử dụng Giấy phép lái xe từ 03\\ntháng đến 05 tháng;\\n\\nđ) Thực hiện hành vi quy định tại điểm a, điểm b khoản 8 Điều này bị tước\\nquyền sử dụng Giấy phép lái xe từ 05 tháng đến 07 tháng;\\n\\ne) Thực hiện hành vi quy định tại điểm c khoản 6 Điều này bị tước quyền sử\\ndụng Giấy phép lái xe từ 10 tháng đến 12 tháng;\\n\\ng) Thực hiện hành vi quy định tại điểm c khoản 8 Điều này bị tước quyền sử\\ndụng Giấy phép lái xe từ 16 tháng đến 18 tháng;\\n\\nh) Thực hiện hành vi quy định tại khoản 10 Điều này bị tước quyền sử dụng Giấy\\nphép lái xe từ 22 tháng đến 24 tháng.\\n\\nĐiều 6. Xử phạt người điều khiển xe mô tô, xe gắn máy (kể cả xe máy điện),\\ncác loại xe tương tự xe mô tô và các loại xe tương tự xe gắn máy vi phạm quy\\ntắc giao thông đường bộ\\n\\n1. Phạt tiền từ 100.000 đồng đến 200.000 đồng đối với người điều khiển xe\\nthực hiện một trong các hành vi vi phạm sau đây:\\n\\na) Không chấp hành hiệu lệnh, chỉ dẫn của biển báo hiệu, vạch kẻ đường, trừ\\ncác hành vi vi phạm quy định tại điểm c, điểm đ, điểm e, điểm h khoản 2; điểm\\nd, điểm g, điểm i, điểm m khoản 3; điểm a, điểm b, điểm c, điểm d, điểm e\\nkhoản 4; khoản 5; điểm b khoản 6; điểm a, điểm b khoản 7; điểm d khoản 8 Điều\\nnày;\\n\\nb) Không có báo hiệu xin vượt trước khi vượt;\\n\\nc) Không giữ khoảng cách an toàn để xảy ra va chạm với xe chạy liền trước hoặc\\nkhông giữ khoảng cách theo quy định của biển báo hiệu “Cự ly tối thiểu giữa\\nhai xe”;\\n\\nd) Chuyển hướng không nhường quyền đi trước cho: Người đi bộ, xe lăn của người\\nkhuyết tật qua đường tại nơi có vạch kẻ đường dành cho người đi bộ; xe thô sơ\\nđang đi trên phần đường dành cho xe thô sơ;\\n\\nđ) Chuyển hướng không nhường đường cho: Các xe đi ngược chiều; người đi bộ, xe\\nlăn của người khuyết tật đang qua đường tại nơi không có vạch kẻ đường cho\\nngười đi bộ;\\n\\ne) Lùi xe mô tô ba bánh không quan sát hoặc không có tín hiệu báo trước;\\n\\ng) Chở người ngồi trên xe sử dụng ô (dù);\\n\\nh) Không tuân thủ các quy định về nhường đường tại nơi đường giao nhau, trừ\\ncác hành vi vi phạm quy định tại điểm b, điểm e khoản 2 Điều này;\\n\\ni) Chuyển làn đường không đúng nơi được phép hoặc không có tín hiệu báo trước;\\n\\nk) Điều khiển xe chạy dàn hàng ngang từ 03 xe trở lên;\\n\\nl) Không sử dụng đèn chiếu sáng trong thời gian từ 19 giờ ngày hôm trước đến\\n05 giờ ngày hôm sau hoặc khi sương mù, thời tiết xấu hạn chế tầm nhìn;'),\n",
       " Document(metadata={'url': 'https://thuvienphapluat.vn/van-ban/Vi-pham-hanh-chinh/Nghi-dinh-100-2019-ND-CP-xu-phat-vi-pham-hanh-chinh-linh-vuc-giao-thong-duong-bo-va-duong-sat-426369.aspx', 'title': 'Nghị định 100/2019/NĐ-CP', 'signer': 'Nguyễn Xuân Phúc', 'issued_date': '30/12/2019', 'place_issue': 'Nghị định 100/2019/NĐ-CP quy định về xử phạt vi phạm hành chính trong lĩnh vực giao thông đường bộ và đường sắt'}, page_content='l) Không sử dụng đèn chiếu sáng trong thời gian từ 19 giờ ngày hôm trước đến\\n05 giờ ngày hôm sau hoặc khi sương mù, thời tiết xấu hạn chế tầm nhìn;\\n\\nm) Tránh xe không đúng quy định; sử dụng đèn chiếu xa khi tránh xe đi ngược\\nchiều; không nhường đường cho xe đi ngược chiều theo quy định tại nơi đường\\nhẹp, đường dốc, nơi có chướng ngại vật;\\n\\nn) Bấm còi trong thời gian từ 22 giờ ngày hôm trước đến 05 giờ ngày hôm sau,\\nsử dụng đèn chiếu xa trong đô thị, khu đông dân cư, trừ các xe ưu tiên đang đi\\nlàm nhiệm vụ theo quy định;\\n\\no) Xe được quyền ưu tiên lắp đặt, sử dụng thiết bị phát tín hiệu ưu tiên không\\nđúng quy định hoặc sử dụng thiết bị phát tín hiệu ưu tiên mà không có Giấy\\nphép của cơ quan có thẩm quyền cấp hoặc có Giấy phép của cơ quan có thẩm quyền\\ncấp nhưng không còn giá trị sử dụng theo quy định;\\n\\np) Quay đầu xe tại nơi không được quay đầu xe, trừ hành vi vi phạm quy định\\ntại điểm d khoản 4 Điều này;\\n\\nq) Điều khiển xe chạy dưới tốc độ tối thiểu trên những đoạn đường bộ có quy\\nđịnh tốc độ tối thiểu cho phép.\\n\\n2. Phạt tiền từ 200.000 đồng đến 300.000 đồng đối với người điều khiển xe\\nthực hiện một trong các hành vi vi phạm sau đây:\\n\\na) Dừng xe, đỗ xe trên phần đường xe chạy ở đoạn đường ngoài đô thị nơi có lề\\nđường;\\n\\nb) Không giảm tốc độ và nhường đường khi điều khiển xe chạy từ trong ngõ,\\nđường nhánh ra đường chính;\\n\\nc) Điều khiển xe chạy quá tốc độ quy định từ 05 km/h đến dưới 10 km/h;\\n\\nd) Điều khiển xe chạy tốc độ thấp mà không đi bên phải phần đường xe chạy gây\\ncản trở giao thông;\\n\\nđ) Dừng xe, đỗ xe ở lòng đường đô thị gây cản trở giao thông; tụ tập từ 03 xe\\ntrở lên ở lòng đường, trong hầm đường bộ; đỗ, để xe ở lòng đường đô thị, hè\\nphố trái quy định của pháp luật;\\n\\ne) Không nhường đường cho xe xin vượt khi có đủ điều kiện an toàn; không\\nnhường đường cho xe đi trên đường ưu tiên, đường chính từ bất kỳ hướng nào tới\\ntại nơi đường giao nhau;\\n\\ng) Xe không được quyền ưu tiên lắp đặt, sử dụng thiết bị phát tín hiệu của xe\\nđược quyền ưu tiên;\\n\\nh) Dừng xe, đỗ xe trên đường xe điện, điểm dừng đón trả khách của xe buýt, nơi\\nđường bộ giao nhau, trên phần đường dành cho người đi bộ qua đường; dừng xe\\nnơi có biển “Cấm dừng xe và đỗ xe”; đỗ xe tại nơi có biển “Cấm đỗ xe” hoặc\\nbiển “Cấm dừng xe và đỗ xe”; không tuân thủ các quy định về dừng xe, đỗ xe tại\\nnơi đường bộ giao nhau cùng mức với đường sắt; dừng xe, đỗ xe trong phạm vi an\\ntoàn của đường sắt, trừ hành vi vi phạm quy định tại điểm b khoản 2, điểm b\\nkhoản 3 Điều 49 Nghị định này;\\n\\ni) Không đội “mũ bảo hiểm cho người đi mô tô, xe máy” hoặc đội “mũ bảo hiểm\\ncho người đi mô tô, xe máy” không cài quai đúng quy cách khi điều khiển xe\\ntham gia giao thông trên đường bộ;\\n\\nk) Chở người ngồi trên xe không đội “mũ bảo hiểm cho người đi mô tô, xe máy”\\nhoặc đội “mũ bảo hiểm cho người đi mô tô, xe máy” không cài quai đúng quy\\ncách, trừ trường hợp chở người bệnh đi cấp cứu, trẻ em dưới 06 tuổi, áp giải\\nngười có hành vi vi phạm pháp luật;\\n\\nl) Chở theo 02 người trên xe, trừ trường hợp chở người bệnh đi cấp cứu, trẻ em\\ndưới 14 tuổi, áp giải người có hành vi vi phạm pháp luật;\\n\\nm) Ngồi phía sau vòng tay qua người ngồi trước để điều khiển xe, trừ trường\\nhợp chở trẻ em ngồi phía trước.\\n\\n3. Phạt tiền từ 400.000 đồng đến 600.000 đồng đối với người điều khiển xe\\nthực hiện một trong các hành vi vi phạm sau đây:\\n\\na) Chuyển hướng không giảm tốc độ hoặc không có tín hiệu báo hướng rẽ (trừ\\ntrường hợp điều khiển xe đi theo hướng cong của đoạn đường bộ ở nơi đường\\nkhông giao nhau cùng mức);\\n\\nb) Chở theo từ 03 người trở lên trên xe;\\n\\nc) Bấm còi, rú ga (nẹt pô) liên tục trong đô thị, khu đông dân cư, trừ các xe\\nưu tiên đang đi làm nhiệm vụ theo quy định;\\n\\nd) Dừng xe, đỗ xe trên cầu;\\n\\nđ) Điều khiển xe thành đoàn gây cản trở giao thông, trừ trường hợp được cơ\\nquan có thẩm quyền cấp phép;\\n\\ne) Điều khiển xe có liên quan trực tiếp đến vụ tai nạn giao thông mà không\\ndừng lại, không giữ nguyên hiện trường, không tham gia cấp cứu người bị nạn,\\ntrừ hành vi vi phạm quy định tại điểm đ khoản 8 Điều này;\\n\\ng) Điều khiển xe không đi bên phải theo chiều đi của mình; đi không đúng phần\\nđường, làn đường quy định (làn cùng chiều hoặc làn ngược chiều); điều khiển xe\\nđi qua dải phân cách cố định ở giữa hai phần đường xe chạy; điều khiển xe đi\\ntrên hè phố, trừ trường hợp điều khiển xe đi qua hè phố để vào nhà;\\n\\nh) Vượt bên phải trong trường hợp không được phép;\\n\\ni) Đi vào khu vực cấm, đường có biển báo hiệu có nội dung cấm đi vào đối với\\nloại phương tiện đang điều khiển, trừ các hành vi vi phạm quy định tại khoản\\n5, điểm b khoản 6 Điều này và các trường hợp xe ưu tiên đang đi làm nhiệm vụ\\nkhẩn cấp theo quy định;\\n\\nk) Người đang điều khiển xe hoặc chở người ngồi trên xe bám, kéo, đẩy xe khác,\\nvật khác, dẫn dắt súc vật, mang vác vật cồng kềnh; chở người đứng trên yên,\\ngiá đèo hàng hoặc ngồi trên tay lái; xếp hàng hóa trên xe vượt quá giới hạn\\nquy định; điều khiển xe kéo theo xe khác, vật khác;\\n\\nl) Chở hàng vượt trọng tải thiết kế được ghi trong Giấy đăng ký xe đối với\\nloại xe có quy định về trọng tải thiết kế;\\n\\nm) Chạy trong hầm đường bộ không sử dụng đèn chiếu sáng gần.\\n\\n4. Phạt tiền từ 600.000 đồng đến 1.000.000 đồng đối với người điều khiển xe\\nthực hiện một trong các hành vi vi phạm sau đây:\\n\\na) Điều khiển xe chạy quá tốc độ quy định từ 10 km/h đến 20 km/h;\\n\\nb) Dừng xe, đỗ xe trong hầm đường bộ không đúng nơi quy định;\\n\\nc) Vượt xe trong những trường hợp không được vượt, vượt xe tại đoạn đường có\\nbiển báo hiệu có nội dung cấm vượt đối với loại phương tiện đang điều khiển,\\ntrừ các hành vi vi phạm quy định tại điểm h khoản 3 Điều này;\\n\\nd) Vượt xe trong hầm đường bộ không đúng nơi quy định; quay đầu xe trong hầm\\nđường bộ;\\n\\nđ) Không nhường đường hoặc gây cản trở xe được quyền ưu tiên đang phát tín\\nhiệu ưu tiên đi làm nhiệm vụ;\\n\\ne) Không chấp hành hiệu lệnh của đèn tín hiệu giao thông;\\n\\ng) Không chấp hành hiệu lệnh, hướng dẫn của người điều khiển giao thông hoặc\\nngười kiểm soát giao thông;\\n\\nh) Người đang điều khiển xe sử dụng ô (dù), điện thoại di động, thiết bị âm\\nthanh, trừ thiết bị trợ thính.\\n\\n5. Phạt tiền từ 1.000.000 đồng đến 2.000.000 đồng đối với người điều khiển xe\\nthực hiện hành vi đi ngược chiều của đường một chiều, đi ngược chiều trên\\nđường có biển “Cấm đi ngược chiều”, trừ hành vi vi phạm quy định tại điểm b\\nkhoản 6 Điều này và các trường hợp xe ưu tiên đang đi làm nhiệm vụ khẩn cấp\\ntheo quy định.\\n\\n6. Phạt tiền từ 2.000.000 đồng đến 3.000.000 đồng đối với người điều khiển xe\\nthực hiện một trong các hành vi vi phạm sau đây:\\n\\na) Sử dụng chân chống hoặc vật khác quệt xuống đường khi xe đang chạy;\\n\\nb) Điều khiển xe đi vào đường cao tốc, trừ xe phục vụ việc quản lý, bảo trì\\nđường cao tốc;\\n\\nc) Điều khiển xe trên đường mà trong máu hoặc hơi thở có nồng độ cồn nhưng\\nchưa vượt quá 50 miligam/100 mililít máu hoặc chưa vượt quá 0,25 miligam/1 lít\\nkhí thở.\\n\\n7. Phạt tiền từ 4.000.000 đồng đến 5.000.000 đồng đối với người điều khiển xe\\nthực hiện một trong các hành vi vi phạm sau đây:\\n\\na) Điều khiển xe chạy quá tốc độ quy định trên 20 km/h;\\n\\nb) Không chú ý quan sát, điều khiển xe chạy quá tốc độ quy định gây tai nạn\\ngiao thông; đi vào đường cao tốc, dừng xe, đỗ xe, quay đầu xe, lùi xe, tránh\\nxe, vượt xe, chuyển hướng, chuyển làn đường không đúng quy định gây tai nạn\\ngiao thông; không đi đúng phần đường, làn đường, không giữ khoảng cách an toàn\\ngiữa hai xe theo quy định gây tai nạn giao thông hoặc đi vào đường có biển báo\\nhiệu có nội dung cấm đi vào đối với loại phương tiện đang điều khiển, đi ngược\\nchiều của đường một chiều, đi ngược chiều trên đường có biển “Cấm đi ngược\\nchiều” gây tai nạn giao thông, trừ hành vi vi phạm quy định tại điểm d khoản 8\\nĐiều này;\\n\\nc) Điều khiển xe trên đường mà trong máu hoặc hơi thở có nồng độ cồn vượt quá\\n50 miligam đến 80 miligam/100 mililít máu hoặc vượt quá 0,25 miligam đến 0,4\\nmiligam/1 lít khí thở.\\n\\n8. Phạt tiền từ 6.000.000 đồng đến 8.000.000 đồng đối với người điều khiển xe\\nthực hiện một trong các hành vi vi phạm sau đây:\\n\\na) Buông cả hai tay khi đang điều khiển xe; dùng chân điều khiển xe; ngồi về\\nmột bên điều khiển xe; nằm trên yên xe điều khiển xe; thay người điều khiển\\nkhi xe đang chạy; quay người về phía sau để điều khiển xe hoặc bịt mắt điều\\nkhiển xe;\\n\\nb) Điều khiển xe lạng lách hoặc đánh võng trên đường bộ trong, ngoài đô thị;\\n\\nc) Điều khiển xe chạy bằng một bánh đối với xe hai bánh, chạy bằng hai bánh\\nđối với xe ba bánh;\\n\\nd) Điều khiển xe thành nhóm từ 02 xe trở lên chạy quá tốc độ quy định;\\n\\nđ) Gây tai nạn giao thông không dừng lại, không giữ nguyên hiện trường, bỏ\\ntrốn không đến trình báo với cơ quan có thẩm quyền, không tham gia cấp cứu\\nngười bị nạn;\\n\\ne) Điều khiển xe trên đường mà trong máu hoặc hơi thở có nồng độ cồn vượt quá\\n80 miligam/100 mililít máu hoặc vượt quá 0,4 miligam/1 lít khí thở;\\n\\ng) Không chấp hành yêu cầu kiểm tra về nồng độ cồn của người thi hành công vụ;\\n\\nh) Điều khiển xe trên đường mà trong cơ thể có chất ma túy;\\n\\ni) Không chấp hành yêu cầu kiểm tra về chất ma túy của người thi hành công vụ.\\n\\n9. Phạt tiền từ 10.000.000 đồng đến 14.000.000 đồng đối với hành vi vi phạm\\nquy định tại điểm a, điểm b, điểm c, điểm d khoản 8 Điều này mà gây tai nạn\\ngiao thông hoặc không chấp hành hiệu lệnh dừng xe của người thi hành công vụ.\\n\\n10. Ngoài việc bị phạt tiền, người điều khiển xe thực hiện hành vi vi phạm\\ncòn bị áp dụng các hình thức xử phạt bổ sung sau đây:\\n\\na) Thực hiện hành vi quy định tại điểm g khoản 2 Điều này bị tịch thu thiết bị\\nphát tín hiệu ưu tiên lắp đặt, sử dụng trái quy định;\\n\\nb) Thực hiện hành vi quy định tại điểm b, điểm e, điểm i khoản 3; điểm đ, điểm\\ne, điểm g, điểm h khoản 4; khoản 5 Điều này bị tước quyền sử dụng Giấy phép\\nlái xe từ 01 tháng đến 03 tháng;\\n\\nc) Thực hiện hành vi quy định tại điểm a khoản 6; điểm a, điểm b khoản 7; điểm\\na, điểm b, điểm c, điểm d khoản 8 Điều này bị tước quyền sử dụng Giấy phép lái\\nxe từ 02 tháng đến 04 tháng; tái phạm hoặc vi phạm nhiều lần hành vi quy định\\ntại điểm a, điểm b, điểm c, điểm d khoản 8 Điều này bị tước quyền sử dụng Giấy\\nphép lái xe từ 03 tháng đến 05 tháng, tịch thu phương tiện. Thực hiện hành vi\\nquy định tại một trong các điểm, khoản sau của Điều này mà gây tai nạn giao\\nthông thì bị tước quyền sử dụng Giấy phép lái xe từ 02 tháng đến 04 tháng:\\nĐiểm a, điểm g, điểm h, điểm k, điểm l, điểm m, điểm n, điểm q khoản 1; điểm\\nb, điểm d, điểm e, điểm g, điểm l, điểm m khoản 2; điểm b, điểm c, điểm k,\\nđiểm m khoản 3; điểm đ, điểm e, điểm g, điểm h khoản 4 Điều này;\\n\\nd) Thực hiện hành vi quy định tại điểm b khoản 6; điểm đ khoản 8; khoản 9 Điều\\nnày bị tước quyền sử dụng Giấy phép lái xe từ 03 tháng đến 05 tháng;\\n\\nđ) Thực hiện hành vi quy định tại điểm c khoản 6 Điều này bị tước quyền sử\\ndụng Giấy phép lái xe từ 10 tháng đến 12 tháng;\\n\\ne) Thực hiện hành vi quy định tại điểm c khoản 7 Điều này bị tước quyền sử\\ndụng Giấy phép lái xe từ 16 tháng đến 18 tháng;\\n\\ng) Thực hiện hành vi quy định tại điểm e, điểm g, điểm h, điểm i khoản 8 Điều\\nnày bị tước quyền sử dụng Giấy phép lái xe từ 22 tháng đến 24 tháng.\\n\\nĐiều 7. Xử phạt người điều khiển máy kéo, xe máy chuyên dùng (sau đây gọi\\nchung là xe) vi phạm quy tắc giao thông đường bộ\\n\\n1. Phạt tiền từ 100.000 đồng đến 200.000 đồng đối với người điều khiển xe\\nthực hiện một trong các hành vi vi phạm sau đây:\\n\\na) Không chấp hành hiệu lệnh, chỉ dẫn của biển báo hiệu, vạch kẻ đường, trừ\\ncác hành vi vi phạm quy định tại điểm a, điểm b, điểm c, điểm d, điểm đ, điểm\\ne khoản 2; điểm a, điểm b, điểm c, điểm đ, điểm h, điểm i khoản 3; điểm a,\\nđiểm b, điểm c, điểm d, điểm đ, điểm g khoản 4; điểm a, điểm c, điểm đ khoản\\n5; điểm a, điểm b khoản 6; điểm a khoản 7; điểm a, điểm b khoản 8 Điều này;\\n\\nb) Chuyển hướng không nhường quyền đi trước cho: Người đi bộ, xe lăn của người\\nkhuyết tật qua đường tại nơi có vạch kẻ đường dành cho người đi bộ; xe thô sơ\\nđang đi trên phần đường dành cho xe thô sơ;\\n\\nc) Chuyển hướng không nhường đường cho: Các xe đi ngược chiều; người đi bộ, xe\\nlăn của người khuyết tật đang qua đường tại nơi không có vạch kẻ đường cho\\nngười đi bộ.\\n\\n2. Phạt tiền từ 200.000 đồng đến 400.000 đồng đối với người điều khiển xe\\nthực hiện một trong các hành vi vi phạm sau đây:\\n\\na) Quay đầu xe ở phần đường dành cho người đi bộ qua đường, trên cầu, đầu cầu,\\nngầm, gầm cầu vượt, trừ trường hợp tổ chức giao thông tại những khu vực này có\\nbố trí nơi quay đầu xe;\\n\\nb) Lùi xe ở đường một chiều, đường có biển “Cấm đi ngược chiều”, khu vực cấm\\ndừng, trên phần đường dành cho người đi bộ qua đường, nơi đường bộ giao nhau,\\nnơi đường bộ giao nhau cùng mức với đường sắt, nơi tầm nhìn bị che khuất; lùi\\nxe không quan sát hoặc không có tín hiệu báo trước;\\n\\nc) Đỗ, để xe ở hè phố trái quy định của pháp luật;\\n\\nd) Dừng xe, đỗ xe trên phần đường xe chạy ở đoạn đường ngoài đô thị nơi có lề\\nđường rộng; dừng xe, đỗ xe không sát mép đường phía bên phải theo chiều đi ở\\nnơi đường có lề đường hẹp hoặc không có lề đường; dừng xe, đỗ xe ngược với\\nchiều lưu thông của làn đường; dừng xe, đỗ xe trên dải phân cách cố định ở\\ngiữa hai phần đường xe chạy; dừng xe, đỗ xe không đúng vị trí quy định ở những\\nđoạn đường đã có bố trí nơi dừng xe, đỗ xe; đỗ xe trên dốc không chèn bánh;\\ndừng xe nơi có biển “Cấm dừng xe và đỗ xe”; đỗ xe nơi có biển “Cấm đỗ xe” hoặc\\nbiển “Cấm dừng xe và đỗ xe”, trừ hành vi vi phạm quy định tại điểm a khoản 6\\nĐiều này;\\n\\nđ) Dừng xe, đỗ xe tại các vị trí: Bên trái đường một chiều hoặc bên trái (theo\\nhướng lưu thông) của đường đôi; trên đoạn đường cong hoặc gần đầu dốc nơi tầm\\nnhìn bị che khuất; trên cầu, gầm cầu vượt, song song với một xe khác đang\\ndừng, đỗ; nơi đường bộ giao nhau hoặc trong phạm vi 05 m tính từ mép đường\\ngiao nhau; điểm dừng đón, trả khách của xe buýt; trước cổng hoặc trong phạm vi\\n05 m hai bên cổng trụ sở cơ quan, tổ chức có bố trí đường cho xe ô tô ra vào;\\nnơi phần đường có bề rộng chỉ đủ cho một làn xe; che khuất biển báo hiệu đường\\nbộ; nơi mở dải phân cách giữa, trừ hành vi vi phạm quy định tại điểm a khoản 6\\nĐiều này;\\n\\ne) Dừng xe, đỗ xe ở lòng đường đô thị trái quy định; dừng xe, đỗ xe trên đường\\nxe điện, đường dành riêng cho xe buýt, trên miệng cống thoát nước, miệng hầm\\ncủa đường điện thoại, điện cao thế, các chỗ dành riêng cho xe chữa cháy lấy\\nnước, trên phần đường dành cho người đi bộ qua đường; rời vị trí lái, tắt máy\\nkhi dừng xe; mở cửa xe, để cửa xe mở không bảo đảm an toàn;\\n\\ng) Khi dừng xe, đỗ xe không có tín hiệu báo cho người điều khiển phương tiện\\nkhác biết;\\n\\nh) Khi đỗ xe chiếm một phần đường xe chạy không đặt ngay báo hiệu nguy hiểm\\ntheo quy định, trừ hành vi vi phạm quy định tại điểm a khoản 6 Điều này và\\ntrường hợp đỗ xe tại vị trí quy định được phép đỗ xe.\\n\\n3. Phạt tiền từ 400.000 đồng đến 600.000 đồng đối với người điều khiển xe\\nthực hiện một trong các hành vi vi phạm sau đây:\\n\\na) Chạy quá tốc độ quy định từ 05 km/h đến dưới 10 km/h;\\n\\nb) Đi vào khu vực cấm, đường có biển báo hiệu có nội dung cấm đi vào đối với\\nloại phương tiện đang điều khiển, trừ các hành vi vi phạm quy định tại điểm c\\nkhoản 4; điểm a khoản 8 Điều này và các trường hợp xe ưu tiên đang đi làm\\nnhiệm vụ khẩn cấp theo quy định;\\n\\nc) Không đi bên phải theo chiều đi của mình; đi không đúng phần đường hoặc làn\\nđường quy định (làn cùng chiều hoặc làn ngược chiều); điều khiển xe đi qua dải\\nphân cách cố định ở giữa hai phần đường xe chạy, trừ các hành vi vi phạm quy\\nđịnh tại điểm c, điểm d khoản 4; điểm a khoản 8 Điều này;\\n\\nd) Bấm còi, rú ga liên tục; bấm còi hơi, sử dụng đèn chiếu xa trong đô thị,\\nkhu đông dân cư, trừ các xe ưu tiên đang đi làm nhiệm vụ theo quy định;\\n\\nđ) Không nhường đường cho xe đi trên đường ưu tiên, đường chính từ bất kỳ\\nhướng nào tới tại nơi đường giao nhau;\\n\\ne) Không sử dụng hoặc sử dụng không đủ đèn chiếu sáng trong thời gian từ 19\\ngiờ ngày hôm trước đến 05 giờ ngày hôm sau, khi sương mù, thời tiết xấu hạn\\nchế tầm nhìn; sử dụng đèn chiếu xa khi tránh xe đi ngược chiều;\\n\\ng) Điều khiển xe có liên quan trực tiếp đến vụ tai nạn giao thông mà không\\ndừng lại, không giữ nguyên hiện trường, không tham gia cấp cứu người bị nạn,\\ntrừ hành vi vi phạm quy định tại điểm c khoản 8 Điều này;\\n\\nh) Tránh xe, vượt xe không đúng quy định; không nhường đường cho xe đi ngược\\nchiều theo quy định tại nơi đường hẹp, đường dốc, nơi có chướng ngại vật;\\n\\ni) Điều khiển xe chạy dưới tốc độ tối thiểu trên những đoạn đường bộ có quy\\nđịnh tốc độ tối thiểu cho phép.'),\n",
       " Document(metadata={'url': 'https://thuvienphapluat.vn/van-ban/Giao-thong-Van-tai/Nghi-dinh-168-2024-ND-CP-xu-phat-vi-pham-hanh-chinh-an-toan-giao-thong-duong-bo-619502.aspx', 'title': 'Nghị định 168/2024/NĐ-CP', 'signer': 'Trần Hồng Hà', 'issued_date': '26/12/2024', 'place_issue': 'Nghị định 168/2024/NĐ-CP quy định xử phạt vi phạm hành chính về trật tự, an toàn giao thông trong lĩnh vực giao thông đường bộ; trừ điểm, phục hồi điểm Giấy phép lái xe'}, page_content='Chương II\\n\\nHÀNH VI VI PHẠM, HÌNH THỨC, MỨC XỬ PHẠT, MỨC TRỪ ĐIỂM GIẤY PHÉP LÁI XE VÀ\\nBIỆN PHÁP KHẮC PHỤC HẬU QUẢ VI PHẠM HÀNH CHÍNH VỀ TRẬT TỰ, AN TOÀN GIAO THÔNG\\nTRONG LĨNH VỰC GIAO THÔNG ĐƯỜNG BỘ\\n\\nMục 1. VI PHẠM QUY TẮC GIAO THÔNG ĐƯỜNG BỘ\\n\\nĐiều 6. Xử phạt, trừ điểm giấy phép lái xe của người điều khiển xe ô tô, xe\\nchở người bốn bánh có gắn động cơ, xe chở hàng bốn bánh có gắn động cơ và các\\nloại xe tương tự xe ô tô vi phạm quy tắc giao thông đường bộ\\n\\n1. Phạt tiền từ 400.000 đồng đến 600.000 đồng đối với người điều khiển xe\\nthực hiện một trong các hành vi vi phạm sau đây:\\n\\na) Không chấp hành hiệu lệnh, chỉ dẫn của biển báo hiệu, vạch kẻ đường, trừ\\ncác hành vi vi phạm quy định tại điểm a, điểm c, điểm d, điểm đ khoản 2; điểm\\na, điểm d, điểm đ, điểm e, điểm n, điểm o khoản 3; điểm a, điểm b, điểm đ,\\nđiểm e, điểm i, điểm k, điểm l khoản 4; điểm a, điểm b, điểm c, điểm d, điểm\\nđ, điểm i, điểm k khoản 5; điểm a khoản 6; khoản 7; điểm b, điểm d khoản 9;\\nđiểm a khoản 10; điểm đ khoản 11 Điều này;\\n\\nb) Khi ra, vào vị trí dừng xe, đỗ xe không có tín hiệu báo cho người điều\\nkhiển phương tiện khác biết;\\n\\nc) Không báo hiệu bằng đèn khẩn cấp hoặc không đặt biển cảnh báo “Chú ý xe đỗ”\\ntheo quy định trong trường hợp gặp sự cố kỹ thuật (hoặc bất khả kháng khác)\\nbuộc phải đỗ xe chiếm một phần đường xe chạy hoặc tại nơi không được phép đỗ\\nxe, trừ hành vi vi phạm quy định tại điểm c khoản 7 Điều này;\\n\\nd) Không gắn biển báo hiệu ở phía trước xe kéo, phía sau xe được kéo; điều\\nkhiển xe kéo rơ moóc không có biển báo hiệu theo quy định;\\n\\nđ) Sử dụng còi trong thời gian từ 22 giờ ngày hôm trước đến 05 giờ ngày hôm\\nsau trong khu đông dân cư, khu vực cơ sở khám bệnh, chữa bệnh, trừ các xe ưu\\ntiên đang đi làm nhiệm vụ theo quy định.\\n\\n2. Phạt tiền từ 600.000 đồng đến 800.000 đồng đối với người điều khiển xe\\nthực hiện một trong các hành vi vi phạm sau đây:\\n\\na) Chuyển làn đường không đúng nơi cho phép hoặc không có tín hiệu báo trước\\nhoặc chuyển làn đường không đúng quy định “mỗi lần chuyển làn đường chỉ được\\nphép chuyển sang một làn đường liền kề”, trừ các hành vi vi phạm quy định tại\\nđiểm g khoản 5 Điều này;\\n\\nb) Chở người trên buồng lái quá số lượng quy định;\\n\\nc) Không tuân thủ các quy định về nhường đường tại nơi đường bộ giao nhau, trừ\\ncác hành vi vi phạm quy định tại điểm n, điểm o khoản 5 Điều này;\\n\\nd) Dừng xe, đỗ xe trên phần đường xe chạy ở đoạn đường ngoài đô thị nơi có lề\\nđường rộng; dừng xe, đỗ xe không sát mép đường phía bên phải theo chiều đi ở\\nnơi đường có lề đường hẹp hoặc không có lề đường; dừng xe, đỗ xe ngược với\\nchiều lưu thông của làn đường; dừng xe, đỗ xe trên dải phân cách cố định ở\\ngiữa hai phần đường xe chạy; đỗ xe trên dốc không chèn bánh;\\n\\nđ) Dừng xe không sát theo lề đường, vỉa hè phía bên phải theo chiều đi hoặc\\nbánh xe gần nhất cách lề đường, vỉa hè quá 0,25 mét; dừng xe trên đường dành\\nriêng cho xe buýt; dừng xe trên miệng cống thoát nước, miệng hầm của đường\\nđiện thoại, điện cao thế, chỗ dành riêng cho xe chữa cháy lấy nước; rời vị trí\\nlái, tắt máy khi dừng xe (trừ trường hợp rời khỏi vị trí lái để đóng, mở cửa\\nxe, xếp dỡ hàng hóa, kiểm tra kỹ thuật xe) hoặc rời vị trí lái khi dừng xe\\nnhưng không sử dụng phanh đỗ xe (hoặc thực hiện biện pháp an toàn khác); dừng\\nxe, đỗ xe không đúng vị trí quy định ở những đoạn có bố trí nơi dừng xe, đỗ\\nxe; dừng xe, đỗ xe trên phần đường dành cho người đi bộ qua đường; dừng xe nơi\\ncó biển “Cấm dừng xe và đỗ xe”, trừ hành vi vi phạm quy định tại điểm đ khoản\\n4, điểm c khoản 7 Điều này.\\n\\n3. Phạt tiền từ 800.000 đồng đến 1.000.000 đồng đối với người điều khiển xe\\nthực hiện một trong các hành vi vi phạm sau đây:\\n\\na) Điều khiển xe chạy quá tốc độ quy định từ 05 km/h đến dưới 10 km/h;\\n\\nb) Sử dụng còi, rú ga liên tục; sử dụng còi hơi, sử dụng đèn chiếu xa khi gặp\\nngười đi bộ qua đường hoặc khi đi trên đoạn đường qua khu dân cư có hệ thống\\nchiếu sáng đang hoạt động hoặc khi gặp xe đi ngược chiều (trừ trường hợp dải\\nphân cách có khả năng chống chói) hoặc khi chuyển hướng xe tại nơi đường giao\\nnhau, trừ các xe ưu tiên đang đi làm nhiệm vụ theo quy định;\\n\\nc) Chuyển hướng không quan sát hoặc không bảo đảm khoảng cách an toàn với xe\\nphía sau hoặc không giảm tốc độ hoặc không có tín hiệu báo hướng rẽ hoặc có\\ntín hiệu báo hướng rẽ nhưng không sử dụng liên tục trong quá trình chuyển\\nhướng (trừ trường hợp điều khiển xe đi theo hướng cong của đoạn đường bộ ở nơi\\nđường không giao nhau cùng mức);\\n\\nd) Không tuân thủ các quy định về dừng xe, đỗ xe tại nơi đường bộ giao nhau\\ncùng mức với đường sắt; dừng xe, đỗ xe trong phạm vi bảo vệ công trình đường\\nsắt, phạm vi an toàn của đường sắt;\\n\\nđ) Dừng xe, đỗ xe tại vị trí: nơi đường bộ giao nhau hoặc trong phạm vi 05 mét\\ntính từ mép đường giao nhau; điểm đón, trả khách; trước cổng hoặc trong phạm\\nvi 05 mét hai bên cổng trụ sở cơ quan, tổ chức có bố trí đường cho xe ra, vào;\\nnơi phần đường có bề rộng chỉ đủ cho một làn xe cơ giới; che khuất biển báo\\nhiệu đường bộ, đèn tín hiệu giao thông; nơi mở dải phân cách giữa; cách xe ô\\ntô đang đỗ ngược chiều dưới 20 mét trên đường phố hẹp, dưới 40 mét trên đường\\ncó một làn xe cơ giới trên một chiều đường;\\n\\ne) Đỗ xe không sát theo lề đường, vỉa hè phía bên phải theo chiều đi hoặc bánh\\nxe gần nhất cách lề đường, vỉa hè quá 0,25 mét; đỗ xe trên đường dành riêng\\ncho xe buýt; đỗ xe trên miệng cống thoát nước, miệng hầm của đường điện thoại,\\nđiện cao thế, chỗ dành riêng cho xe chữa cháy lấy nước; đỗ, để xe ở vỉa hè\\ntrái quy định của pháp luật; đỗ xe nơi có biển “Cấm đỗ xe” hoặc biển “Cấm dừng\\nxe và đỗ xe”, trừ hành vi vi phạm quy định tại điểm đ khoản 4, điểm c khoản 7\\nĐiều này;\\n\\ng) Không sử dụng hoặc sử dụng không đủ đèn chiếu sáng trong thời gian từ 18\\ngiờ ngày hôm trước đến 06 giờ ngày hôm sau hoặc khi có sương mù, khói, bụi,\\ntrời mưa, thời tiết xấu làm hạn chế tầm nhìn;\\n\\nh) Điều khiển xe ô tô kéo theo xe khác, vật khác (trừ trường hợp kéo theo một\\nrơ moóc, sơ mi rơ moóc hoặc một xe ô tô, xe máy chuyên dùng khác khi xe này\\nkhông tự chạy được); điều khiển xe ô tô đẩy xe khác, vật khác; điều khiển xe\\nkéo rơ moóc, sơ mi rơ moóc kéo thêm rơ moóc hoặc xe khác, vật khác; không nối\\nchắc chắn, an toàn giữa xe kéo và xe được kéo khi kéo nhau;\\n\\ni) Chở người trên xe được kéo, trừ người điều khiển;\\n\\nk) Không thắt dây đai an toàn khi điều khiển xe chạy trên đường;\\n\\nl) Chở người trên xe ô tô không thắt dây đai an toàn (tại vị trí có trang bị\\ndây đai an toàn) khi xe đang chạy;\\n\\nm) Chở trẻ em dưới 10 tuổi và chiều cao dưới 1,35 mét trên xe ô tô ngồi cùng\\nhàng ghế với người lái xe (trừ loại xe ô tô chỉ có một hàng ghế) hoặc không sử\\ndụng thiết bị an toàn phù hợp cho trẻ em theo quy định;\\n\\nn) Chạy trong hầm đường bộ không sử dụng đèn chiếu sáng gần;\\n\\no) Điều khiển xe chạy dưới tốc độ tối thiểu trên đoạn đường bộ có quy định tốc\\nđộ tối thiểu cho phép;\\n\\np) Điều khiển xe chạy tốc độ thấp hơn các xe khác đi cùng chiều mà không đi về\\nlàn đường bên phải chiều đi của mình, trừ trường hợp các xe khác đi cùng chiều\\nchạy quá tốc độ quy định.\\n\\n4. Phạt tiền từ 2.000.000 đồng đến 3.000.000 đồng đối với người điều khiển xe\\nthực hiện một trong các hành vi vi phạm sau đây:\\n\\na) Điều khiển xe không đủ điều kiện đã thu phí theo hình thức điện tử tự động\\nkhông dừng (xe không gắn thẻ đầu cuối) đi vào làn đường dành riêng thu phí\\ntheo hình thức điện tử tự động không dừng tại các trạm thu phí;\\n\\nb) Dừng xe, đỗ xe tại vị trí: bên trái đường một chiều hoặc bên trái (theo\\nhướng lưu thông) của đường đôi; trên đoạn đường cong hoặc gần đầu dốc nơi tầm\\nnhìn bị che khuất; trên cầu (trừ trường hợp tổ chức giao thông cho phép), gầm\\ncầu vượt (trừ những nơi cho phép dừng xe, đỗ xe), song song với một xe khác\\nđang dừng, đỗ, trừ hành vi vi phạm quy định tại điểm c khoản 7 Điều này;\\n\\nc) Không thực hiện biện pháp bảo đảm an toàn theo quy định khi xe ô tô bị hư\\nhỏng ngay tại nơi đường bộ giao nhau cùng mức với đường sắt;\\n\\nd) Không nhường đường cho xe xin vượt khi có đủ điều kiện an toàn;\\n\\nđ) Lùi xe, quay đầu xe trong hầm đường bộ; dừng xe, đỗ xe trong hầm đường bộ\\nkhông đúng nơi quy định; không có báo hiệu bằng đèn khẩn cấp, không đặt biển\\ncảnh báo \"Chú ý xe đỗ\" (hoặc đèn cảnh báo) về phía sau xe khoảng cách đảm bảo\\nan toàn khi dừng xe, đỗ xe trong hầm đường bộ trong trường hợp gặp sự cố kỹ\\nthuật hoặc bất khả kháng khác buộc phải dừng xe, đỗ xe;\\n\\ne) Lùi xe ở đường một chiều, đường có biển “Cấm đi ngược chiều”, khu vực cấm\\ndừng, trên phần đường dành cho người đi bộ qua đường, nơi đường bộ giao nhau,\\nnơi đường bộ giao nhau cùng mức với đường sắt, nơi tầm nhìn bị che khuất; lùi\\nxe không quan sát hai bên, phía sau xe hoặc không có tín hiệu lùi xe, trừ hành\\nvi vi phạm quy định tại điểm đ khoản 11 Điều này;\\n\\ng) Điều khiển xe có liên quan trực tiếp đến vụ tai nạn giao thông mà không\\ndừng ngay phương tiện, không giữ nguyên hiện trường, không trợ giúp người bị\\nnạn, trừ hành vi vi phạm quy định tại khoản 8 Điều này;\\n\\nh) Xe được quyền ưu tiên lắp đặt, sử dụng thiết bị phát tín hiệu ưu tiên không\\nđúng quy định hoặc sử dụng thiết bị phát tín hiệu ưu tiên mà không có giấy\\nphép của cơ quan có thẩm quyền cấp hoặc có giấy phép của cơ quan có thẩm quyền\\ncấp nhưng không còn giá trị sử dụng theo quy định;\\n\\ni) Quay đầu xe ở phần đường dành cho người đi bộ qua đường, trên cầu, đầu cầu,\\ngầm cầu vượt, ngầm, tại nơi đường bộ giao nhau cùng mức với đường sắt, đường\\nhẹp, đường dốc, đoạn đường cong tầm nhìn bị che khuất, trên đường một chiều,\\ntrừ khi có hiệu lệnh của người điều khiển giao thông hoặc chỉ dẫn của biển báo\\nhiệu tạm thời hoặc tổ chức giao thông tại những khu vực này có bố trí nơi quay\\nđầu xe;\\n\\nk) Quay đầu xe tại nơi có biển báo hiệu có nội dung cấm quay đầu đối với loại\\nphương tiện đang điều khiển; điều khiển xe rẽ trái tại nơi có biển báo hiệu có\\nnội dung cấm rẽ trái đối với loại phương tiện đang điều khiển; điều khiển xe\\nrẽ phải tại nơi có biển báo hiệu có nội dung cấm rẽ phải đối với loại phương\\ntiện đang điều khiển;\\n\\nl) Không giữ khoảng cách an toàn để xảy ra va chạm với xe chạy liền trước hoặc\\nkhông giữ khoảng cách theo quy định của biển báo hiệu “Cự ly tối thiểu giữa\\nhai xe”, trừ các hành vi vi phạm quy định tại điểm d khoản 5 Điều này.\\n\\n5. Phạt tiền từ 4.000.000 đồng đến 6.000.000 đồng đối với người điều khiển xe\\nthực hiện một trong các hành vi vi phạm sau đây:\\n\\na) Vượt xe trong những trường hợp không được vượt, vượt xe tại đoạn đường có\\nbiển báo hiệu có nội dung cấm vượt (đối với loại phương tiện đang điều khiển);\\nkhông có tín hiệu trước khi vượt hoặc có tín hiệu vượt xe nhưng không sử dụng\\ntrong suốt quá trình vượt xe; vượt bên phải xe khác trong trường hợp không\\nđược phép;\\n\\nb) Điều khiển xe không đi bên phải theo chiều đi của mình; đi không đúng phần\\nđường hoặc làn đường quy định (làn cùng chiều hoặc làn ngược chiều) trừ hành\\nvi quy định tại điểm a khoản 4 Điều này; điều khiển xe đi qua dải phân cách cố\\nđịnh ở giữa hai phần đường xe chạy;\\n\\nc) Tránh xe đi ngược chiều không đúng quy định (trừ hành vi vi phạm sử dụng\\nđèn chiếu xa khi tránh xe đi ngược chiều quy định tại điểm b khoản 3 Điều\\nnày); không nhường đường cho xe đi ngược chiều theo quy định tại nơi đường\\nhẹp, đường dốc, nơi có chướng ngại vật;\\n\\nd) Không tuân thủ quy định khi vào hoặc ra đường cao tốc; điều khiển xe chạy ở\\nlàn dừng xe khẩn cấp hoặc phần lề đường của đường cao tốc; không tuân thủ quy\\nđịnh về khoảng cách an toàn đối với xe chạy liền trước khi chạy trên đường cao\\ntốc;\\n\\nđ) Điều khiển xe chạy quá tốc độ quy định từ 10 km/h đến 20 km/h;\\n\\ne) Xe không được quyền ưu tiên lắp đặt, sử dụng thiết bị phát tín hiệu của xe\\nđược quyền ưu tiên;\\n\\ng) Chuyển làn đường không đúng nơi cho phép hoặc không có tín hiệu báo trước\\nhoặc chuyển làn đường không đúng quy định “mỗi lần chuyển làn đường chỉ được\\nphép chuyển sang một làn đường liền kề” khi chạy trên đường cao tốc;\\n\\nh) Dùng tay cầm và sử dụng điện thoại hoặc các thiết bị điện tử khác khi điều\\nkhiển phương tiện tham gia giao thông đang di chuyển trên đường bộ;\\n\\ni) Đi vào khu vực cấm, đường có biển báo hiệu có nội dung cấm đi vào đối với\\nloại phương tiện đang điều khiển, trừ các hành vi vi phạm quy định tại điểm d\\nkhoản 9, điểm đ khoản 11 Điều này, hành vi bị cấm đi vào công trình thủy lợi\\nvà các trường hợp xe ưu tiên đang đi làm nhiệm vụ khẩn cấp theo quy định;\\n\\nk) Dừng xe, đỗ xe, quay đầu xe trái quy định gây ùn tắc giao thông;\\n\\nl) Chuyển hướng không nhường quyền đi trước cho: người đi bộ, xe lăn của người\\nkhuyết tật qua đường tại nơi có vạch kẻ đường dành cho người đi bộ; xe thô sơ\\nđang đi trên phần đường dành cho xe thô sơ;\\n\\nm) Chuyển hướng không nhường đường cho: các xe đi ngược chiều; người đi bộ, xe\\nthô sơ đang qua đường tại nơi không có vạch kẻ đường cho người đi bộ;\\n\\nn) Không giảm tốc độ (hoặc dừng lại) và nhường đường khi điều khiển xe đi từ\\nđường không ưu tiên ra đường ưu tiên, từ đường nhánh ra đường chính;\\n\\no) Không giảm tốc độ và nhường đường cho xe đi đến từ bên phải tại nơi đường\\ngiao nhau không có báo hiệu đi theo vòng xuyến; không giảm tốc độ và nhường\\nđường cho xe đi đến từ bên trái tại nơi đường giao nhau có báo hiệu đi theo\\nvòng xuyến;\\n\\np) Chở người trên thùng xe trái quy định; chở người trên nóc xe; để người đu\\nbám ở cửa xe, bên ngoài thành xe khi xe đang chạy;\\n\\nq) Mở cửa xe, để cửa xe mở không bảo đảm an toàn.\\n\\n6. Phạt tiền từ 6.000.000 đồng đến 8.000.000 đồng đối với người điều khiển xe\\nthực hiện một trong các hành vi vi phạm sau đây:\\n\\na) Điều khiển xe chạy quá tốc độ quy định trên 20 km/h đến 35 km/h;\\n\\nb) Không nhường đường hoặc gây cản trở xe được quyền ưu tiên đang phát tín\\nhiệu ưu tiên đi làm nhiệm vụ;\\n\\nc) Điều khiển xe trên đường mà trong máu hoặc hơi thở có nồng độ cồn nhưng\\nchưa vượt quá 50 miligam/100 mililít máu hoặc chưa vượt quá 0,25 miligam/1 lít\\nkhí thở;\\n\\nd) Điều khiển xe đi trên vỉa hè, trừ trường hợp điều khiển xe đi qua vỉa hè để\\nvào nhà, cơ quan.\\n\\n7. Phạt tiền từ 12.000.000 đồng đến 14.000.000 đồng đối với người điều khiển\\nxe thực hiện một trong các hành vi vi phạm sau đây:\\n\\na) Điều khiển xe chạy quá tốc độ quy định trên 35 km/h;\\n\\nb) Điều khiển xe chở người bốn bánh có gắn động cơ, xe chở hàng bốn bánh có\\ngắn động cơ đi vào đường cao tốc;\\n\\nc) Dừng xe, đỗ xe trên đường cao tốc không đúng nơi quy định; không có báo\\nhiệu bằng đèn khẩn cấp khi gặp sự cố kỹ thuật hoặc bất khả kháng khác buộc\\nphải dừng xe, đỗ xe ở làn dừng xe khẩn cấp trên đường cao tốc; không có báo\\nhiệu bằng đèn khẩn cấp, không đặt biển cảnh báo “Chú ý xe đỗ” (hoặc đèn cảnh\\nbáo) về phía sau xe khoảng cách tối thiểu 150 mét khi dừng xe, đỗ xe trong\\ntrường hợp gặp sự cố kỹ thuật hoặc bất khả kháng khác buộc phải dừng xe, đỗ xe\\ntrên một phần làn đường xe chạy trên đường cao tốc.\\n\\n8. Phạt tiền từ 16.000.000 đồng đến 18.000.000 đồng đối với người điều khiển\\nxe thực hiện hành vi vi phạm gây tai nạn giao thông không dừng ngay phương\\ntiện, không giữ nguyên hiện trường, không trợ giúp người bị nạn, không ở lại\\nhiện trường hoặc không đến trình báo ngay với cơ quan công an, Ủy ban nhân dân\\nnơi gần nhất.\\n\\n9. Phạt tiền từ 18.000.000 đồng đến 20.000.000 đồng đối với người điều khiển\\nxe thực hiện một trong các hành vi vi phạm sau đây:\\n\\na) Điều khiển xe trên đường mà trong máu hoặc hơi thở có nồng độ cồn vượt quá\\n50 miligam đến 80 miligam/100 mililít máu hoặc vượt quá 0,25 miligam đến 0,4\\nmiligam/1 lít khí thở;\\n\\nb) Không chấp hành hiệu lệnh của đèn tín hiệu giao thông;\\n\\nc) Không chấp hành hiệu lệnh, hướng dẫn của người điều khiển giao thông hoặc\\nngười kiểm soát giao thông;\\n\\nd) Đi ngược chiều của đường một chiều, đi ngược chiều trên đường có biển \"Cấm\\nđi ngược chiều”, trừ các hành vi vi phạm quy định tại điểm đ khoản 11 Điều này\\nvà các trường hợp xe ưu tiên đang đi làm nhiệm vụ khẩn cấp theo quy định.\\n\\n10. Phạt tiền từ 20.000.000 đồng đến 22.000.000 đồng đối với người điều khiển\\nxe thực hiện một trong các hành vi vi phạm sau đây:'),\n",
       " Document(metadata={'url': 'https://thuvienphapluat.vn/van-ban/Giao-thong-Van-tai/Nghi-dinh-168-2024-ND-CP-xu-phat-vi-pham-hanh-chinh-an-toan-giao-thong-duong-bo-619502.aspx', 'title': 'Nghị định 168/2024/NĐ-CP', 'signer': 'Trần Hồng Hà', 'issued_date': '26/12/2024', 'place_issue': 'Nghị định 168/2024/NĐ-CP quy định xử phạt vi phạm hành chính về trật tự, an toàn giao thông trong lĩnh vực giao thông đường bộ; trừ điểm, phục hồi điểm Giấy phép lái xe'}, page_content='b) Điều khiển xe chạy bằng một bánh đối với xe hai bánh, chạy bằng hai bánh\\nđối với xe ba bánh;\\n\\nc) Tái phạm hành vi điều khiển xe lạng lách, đánh võng quy định tại điểm a\\nkhoản 9 Điều này.\\n\\n12. Ngoài việc bị áp dụng hình thức xử phạt chính, người điều khiển xe thực\\nhiện hành vi vi phạm còn bị áp dụng các hình thức xử phạt bổ sung sau đây:\\n\\na) Thực hiện hành vi quy định tại điểm đ khoản 2 Điều này còn bị tịch thu\\nthiết bị phát tín hiệu ưu tiên lắp đặt, sử dụng trái quy định;\\n\\nb) Thực hiện hành vi quy định tại điểm a, điểm b, điểm h, điểm i, điểm k khoản\\n9 Điều này bị tước quyền sử dụng giấy phép lái xe từ 10 tháng đến 12 tháng;\\n\\nc) Thực hiện hành vi quy định tại điểm d, điểm đ, điểm e, điểm g khoản 9;\\nkhoản 11 Điều này bị tước quyền sử dụng giấy phép lái xe từ 22 tháng đến 24\\ntháng.\\n\\n13. Ngoài việc bị áp dụng hình thức xử phạt, người điều khiển xe thực hiện\\nhành vi vi phạm còn bị trừ điểm giấy phép lái xe như sau:\\n\\na) Thực hiện hành vi quy định tại điểm b khoản 3; khoản 5; điểm b, điểm c,\\nđiểm d khoản 6; điểm a khoản 7 Điều này bị trừ điểm giấy phép lái xe 02 điểm;\\n\\nb) Thực hiện hành vi quy định tại điểm đ khoản 4; điểm a khoản 6; điểm c, điểm\\nd, điểm đ khoản 7; điểm a khoản 8 Điều này bị trừ điểm giấy phép lái xe 04\\nđiểm;\\n\\nc) Thực hiện hành vi quy định tại điểm b khoản 7, điểm c khoản 9 Điều này bị\\ntrừ điểm giấy phép lái xe 06 điểm;\\n\\nd) Thực hiện hành vi quy định tại điểm b khoản 8, khoản 10 Điều này bị trừ\\nđiểm giấy phép lái xe 10 điểm.\\n\\nĐiều 8. Xử phạt người điều khiển xe máy chuyên dùng vi phạm quy tắc giao\\nthông đường bộ\\n\\n1. Phạt tiền từ 400.000 đồng đến 600.000 đồng đối với người điều khiển xe\\nthực hiện một trong các hành vi vi phạm sau đây:\\n\\na) Không chấp hành hiệu lệnh, chỉ dẫn của biển báo hiệu, vạch kẻ đường, trừ\\ncác hành vi vi phạm quy định tại điểm a, điểm b, điểm c, điểm đ khoản 2; điểm\\na, điểm d, điểm đ khoản 3; khoản 4; điểm a, điểm c khoản 5; điểm a, điểm b,\\nđiểm d, điểm đ, điểm e, điểm i khoản 6; điểm c, điểm d khoản 7; điểm a, điểm b\\nkhoản 8; điểm đ khoản 9 Điều này;\\n\\nb) Không báo hiệu bằng đèn khẩn cấp hoặc không đặt biển cảnh báo “Chú ý xe đỗ”\\ntheo quy định trong trường hợp gặp sự cố kỹ thuật (hoặc bất khả kháng khác)\\nbuộc phải đỗ xe chiếm một phần đường xe chạy hoặc tại nơi không được phép đỗ\\nxe, trừ hành vi vi phạm quy định tại điểm b khoản 6 Điều này.\\n\\n2. Phạt tiền từ 600.000 đồng đến 800.000 đồng đối với người điều khiển xe\\nthực hiện một trong các hành vi vi phạm sau đây:\\n\\na) Dừng xe, đỗ xe trên phần đường xe chạy ở đoạn đường ngoài đô thị nơi có lề\\nđường rộng; dừng xe, đỗ xe không sát mép đường phía bên phải theo chiều đi ở\\nnơi đường có lề đường hẹp hoặc không có lề đường; dừng xe, đỗ xe ngược với\\nchiều lưu thông của làn đường; dừng xe, đỗ xe trên dải phân cách cố định ở\\ngiữa hai phần đường xe chạy; dừng xe, đỗ xe không đúng vị trí quy định ở những\\nđoạn đường đã có bố trí nơi dừng xe, đỗ xe; đỗ xe trên dốc không chèn bánh;\\ndừng xe nơi có biển “Cấm dừng xe và đỗ xe”; đỗ xe nơi có biển “Cấm đỗ xe” hoặc\\nbiển “Cấm dừng xe và đỗ xe”, trừ hành vi vi phạm quy định tại điểm b khoản 6\\nĐiều này;\\n\\nb) Dừng xe, đỗ xe tại các vị trí: bên trái đường một chiều hoặc bên trái (theo\\nhướng lưu thông) của đường đôi; trên đoạn đường cong hoặc gần đầu dốc nơi tầm\\nnhìn bị che khuất; trên cầu (trừ trường hợp tổ chức giao thông cho phép), gầm\\ncầu vượt (trừ những nơi cho phép dừng xe, đỗ xe), song song với một xe khác\\nđang dừng, đỗ; nơi đường bộ giao nhau hoặc trong phạm vi 05 mét tính từ mép\\nđường giao nhau; điểm đón, trả khách; trước cổng hoặc trong phạm vi 05 mét hai\\nbên cổng trụ sở cơ quan, tổ chức có bố trí đường cho xe ra, vào; nơi phần\\nđường có bề rộng chỉ đủ cho một làn xe cơ giới; che khuất biển báo hiệu đường\\nbộ, đèn tín hiệu giao thông; nơi mở dải phân cách giữa; cách xe ô tô đang đỗ\\nngược chiều dưới 20 mét trên đường phố hẹp, dưới 40 mét trên đường có một làn\\nxe cơ giới trên một chiều đường, trừ hành vi vi phạm quy định tại điểm b khoản\\n6 Điều này;\\n\\nc) Dừng xe, đỗ xe ở lòng đường trái quy định; dừng xe, đỗ xe trên đường dành\\nriêng cho xe buýt, trên miệng cống thoát nước, miệng hầm của đường điện thoại,\\nđiện cao thế, chỗ dành riêng cho xe chữa cháy lấy nước, trên phần đường dành\\ncho người đi bộ qua đường; rời vị trí lái, tắt máy khi dừng xe (trừ trường hợp\\nrời khỏi vị trí lái để đóng, mở cửa xe, xếp dỡ hàng hóa, kiểm tra kỹ thuật xe)\\nhoặc rời vị trí lái khi dừng xe nhưng không sử dụng phanh đỗ xe (hoặc thực\\nhiện biện pháp an toàn khác); mở cửa xe, để cửa xe mở không bảo đảm an toàn;\\n\\nd) Khi ra, vào vị trí dừng xe, đỗ xe không có tín hiệu báo cho người điều\\nkhiển phương tiện khác biết;\\n\\nđ) Đỗ, để xe ở vỉa hè trái phép.\\n\\n3. Phạt tiền từ 800.000 đồng đến 1.000.000 đồng đối với người điều khiển xe\\nthực hiện một trong các hành vi vi phạm sau đây:\\n\\na) Chạy quá tốc độ quy định từ 05 km/h đến dưới 10 km/h;\\n\\nb) Sử dụng còi, rú ga liên tục; sử dụng còi hơi, sử dụng đèn chiếu xa khi gặp\\nngười đi bộ qua đường hoặc khi đi trên đoạn đường qua khu dân cư có hệ thống\\nchiếu sáng đang hoạt động hoặc khi gặp xe đi ngược chiều (trừ trường hợp dải\\nphân cách có khả năng chống chói) hoặc khi chuyển hướng xe tại nơi đường giao\\nnhau, trừ các xe ưu tiên đang đi làm nhiệm vụ theo quy định;\\n\\nc) Không sử dụng hoặc sử dụng không đủ đèn chiếu sáng trong thời gian từ 18\\ngiờ ngày hôm trước đến 06 giờ ngày hôm sau hoặc khi có sương mù, khói, bụi,\\ntrời mưa, thời tiết xấu làm hạn chế tầm nhìn;\\n\\nd) Tránh xe, vượt xe không đúng quy định; không nhường đường cho xe đi ngược\\nchiều theo quy định tại nơi đường hẹp, đường dốc, nơi có chướng ngại vật;\\n\\nđ) Điều khiển xe chạy dưới tốc độ tối thiểu trên đoạn đường bộ có quy định tốc\\nđộ tối thiểu cho phép.\\n\\n4. Phạt tiền từ 1.000.000 đồng đến 2.000.000 đồng đối với người điều khiển xe\\nthực hiện một trong các hành vi vi phạm sau đây:\\n\\na) Chạy quá tốc độ quy định từ 10 km/h đến 20 km/h;\\n\\nb) Chạy xe trong hầm đường bộ không sử dụng đèn chiếu sáng gần;\\n\\nc) Không tuân thủ các quy định về dừng xe, đỗ xe tại nơi đường bộ giao nhau\\ncùng mức với đường sắt; dừng xe, đỗ xe trong phạm vi bảo vệ công trình đường\\nsắt, phạm vi an toàn của đường sắt;\\n\\nd) Quay đầu xe tại nơi đường bộ giao nhau cùng mức với đường sắt; quay đầu xe\\ntại nơi đường hẹp, đường dốc, đoạn đường cong tầm nhìn bị che khuất, nơi có\\nbiển báo hiệu có nội dung cấm quay đầu đối với loại phương tiện đang điều\\nkhiển; điều khiển xe rẽ trái tại nơi có biển báo hiệu có nội dung cấm rẽ trái\\nđối với loại phương tiện đang điều khiển; điều khiển xe rẽ phải tại nơi có\\nbiển báo hiệu có nội dung cấm rẽ phải đối với loại phương tiện đang điều\\nkhiển;\\n\\nđ) Quay đầu xe ở phần đường dành cho người đi bộ qua đường, trên cầu, đầu cầu,\\nngầm, gầm cầu vượt, trừ khi có hiệu lệnh của người điều khiển giao thông hoặc\\nchỉ dẫn của biển báo hiệu tạm thời hoặc tổ chức giao thông tại những khu vực\\nnày có bố trí nơi quay đầu xe;\\n\\ne) Lùi xe ở đường một chiều, đường có biển “Cấm đi ngược chiều”, khu vực cấm\\ndừng, trên phần đường dành cho người đi bộ qua đường, nơi đường bộ giao nhau,\\nđường bộ giao nhau cùng mức với đường sắt, nơi tầm nhìn bị che khuất; lùi xe\\nkhông quan sát hai bên và phía sau xe hoặc không có tín hiệu lùi xe.\\n\\n5. Phạt tiền từ 2.000.000 đồng đến 3.000.000 đồng đối với người điều khiển xe\\nthực hiện một trong các hành vi vi phạm sau đây:\\n\\na) Lùi xe, quay đầu xe trong hầm đường bộ;\\n\\nb) Không thực hiện biện pháp bảo đảm an toàn theo quy định khi phương tiện bị\\như hỏng trên đoạn đường bộ giao nhau cùng mức với đường sắt;\\n\\nc) Dừng xe, đỗ xe trong hầm đường bộ không đúng nơi quy định; không có báo\\nhiệu bằng đèn khẩn cấp, không đặt biển cảnh báo “Chú ý xe đỗ” (hoặc đèn cảnh\\nbáo) về phía sau xe khoảng cách đảm bảo an toàn khi dừng xe, đỗ xe trong hầm\\nđường bộ trong trường hợp gặp sự cố kỹ thuật hoặc bất khả kháng khác buộc phải\\ndừng xe, đỗ xe;\\n\\nd) Điều khiển xe có liên quan trực tiếp đến vụ tai nạn giao thông mà không\\ndừng ngay phương tiện, không giữ nguyên hiện trường, không trợ giúp người bị\\nnạn, trừ hành vi vi phạm quy định tại điểm c khoản 8 Điều này;\\n\\nđ) Chuyển hướng không nhường quyền đi trước cho: người đi bộ, xe lăn của người\\nkhuyết tật qua đường tại nơi có vạch kẻ đường dành cho người đi bộ; xe thô sơ\\nđang đi trên phần đường dành cho xe thô sơ;\\n\\ne) Chuyển hướng không nhường đường cho: các xe đi ngược chiều; người đi bộ, xe\\nthô sơ đang qua đường tại nơi không có vạch kẻ đường cho người đi bộ.\\n\\n6. Phạt tiền từ 3.000.000 đồng đến 5.000.000 đồng đối với người điều khiển xe\\nthực hiện một trong các hành vi vi phạm sau đây:\\n\\na) Chạy quá tốc độ quy định trên 20 km/h;\\n\\nb) Dừng xe, đỗ xe trên đường cao tốc không đúng nơi quy định; không có báo\\nhiệu bằng đèn khẩn cấp khi gặp sự cố kỹ thuật hoặc bất khả kháng khác buộc\\nphải dừng xe, đỗ xe ở làn dừng xe khẩn cấp trên đường cao tốc; không có báo\\nhiệu bằng đèn khẩn cấp, không đặt biển cảnh báo “Chú ý xe đỗ” (hoặc đèn cảnh\\nbáo) về phía sau xe khoảng cách tối thiểu 150 mét khi gặp sự cố kỹ thuật hoặc\\nbất khả kháng khác buộc phải dừng xe, đỗ xe trên một phần làn đường xe chạy\\ntrên đường cao tốc;\\n\\nc) Điều khiển xe trên đường mà trong máu hoặc hơi thở có nồng độ cồn nhưng\\nchưa vượt quá 50 miligam/100 mililít máu hoặc chưa vượt quá 0,25 miligam/1 lít\\nkhí thở;\\n\\nd) Đi vào khu vực cấm, đường có biển báo hiệu có nội dung cấm đi vào đối với\\nloại phương tiện đang điều khiển, trừ các hành vi vi phạm quy định tại điểm d\\nkhoản 7, điểm đ khoản 9 Điều này và các trường hợp xe ưu tiên đang đi làm\\nnhiệm vụ khẩn cấp theo quy định;\\n\\nđ) Không đi bên phải theo chiều đi của mình; đi không đúng phần đường hoặc làn\\nđường quy định (làn cùng chiều hoặc làn ngược chiều); điều khiển xe đi qua dải\\nphân cách cố định ở giữa hai phần đường xe chạy, trừ các hành vi vi phạm quy\\nđịnh tại điểm e khoản 6, điểm d khoản 7, điểm đ khoản 9 Điều này;\\n\\ne) Không tuân thủ các quy định khi vào hoặc ra đường cao tốc; điều khiển xe\\nchạy ở làn dừng xe khẩn cấp hoặc phần lề đường của đường cao tốc; không tuân\\nthủ quy định về khoảng cách an toàn đối với xe chạy liền trước khi chạy trên\\nđường cao tốc;\\n\\ng) Không nhường đường hoặc gây cản trở xe được quyền ưu tiên đang phát tín\\nhiệu ưu tiên đi làm nhiệm vụ;\\n\\nh) Chuyển làn đường không đúng nơi cho phép hoặc không có tín hiệu báo trước\\nkhi chạy trên đường cao tốc hoặc chuyển làn đường không đúng quy định “mỗi lần\\nchuyển làn đường chỉ được phép chuyển sang một làn đường liền kề”;\\n\\ni) Không giảm tốc độ (hoặc dừng lại) và nhường đường khi điều khiển xe đi từ\\nđường không ưu tiên ra đường ưu tiên, từ đường nhánh ra đường chính.\\n\\n7. Phạt liền từ 6.000.000 đồng đến 8.000.000 đồng đối với người điều khiển xe\\nthực hiện một trong các hành vi vi phạm sau đây:\\n\\na) Điều khiển xe trên đường mà trong máu hoặc hơi thở có nồng độ cồn vượt quá\\n50 miligam đến 80 miligam/100 mililít máu hoặc vượt quá 0,25 miligam đến 0,4\\nmiligam/1 lít khí thở;\\n\\nb) Không chấp hành hiệu lệnh, hướng dẫn của người điều khiển giao thông hoặc\\nngười kiểm soát giao thông;\\n\\nc) Không chấp hành hiệu lệnh của đèn tín hiệu giao thông;\\n\\nd) Đi ngược chiều của đường một chiều, đi ngược chiều trên đường có biển “Cấm\\nđi ngược chiều”, trừ các hành vi vi phạm quy định tại điểm đ khoản 9 Điều này\\nvà các trường hợp xe ưu tiên đang đi làm nhiệm vụ khẩn cấp theo quy định.\\n\\n8. Phạt tiền từ 14.000.000 đồng đến 16.000.000 đồng đối với người điều khiển\\nxe thực hiện một trong các hành vi vi phạm sau đây:\\n\\na) Điều khiển xe không quan sát, giảm tốc độ hoặc dừng lại để bảo đảm an toàn\\ntheo quy định mà gây tai nạn giao thông; điều khiển xe chạy quá tốc độ quy\\nđịnh gây tai nạn giao thông; dừng xe, đỗ xe, quay đầu xe, lùi xe, tránh xe,\\nvượt xe, chuyển hướng, chuyển làn đường không đúng quy định gây tai nạn giao\\nthông; mở cửa xe, để cửa xe mở không bảo đảm an toàn gây tai nạn giao thông;\\nkhông đi đúng phần đường, làn đường, không giữ khoảng cách an toàn giữa hai xe\\ntheo quy định gây tai nạn giao thông hoặc đi vào đường có biển báo hiệu có nội\\ndung cấm đi vào đối với loại phương tiện đang điều khiển, đi ngược chiều của\\nđường một chiều, đi ngược chiều trên đường có biển “Cấm đi ngược chiều” gây\\ntai nạn giao thông, trừ các hành vi vi phạm quy định tại điểm b khoản 8, điểm\\nđ khoản 9 Điều này;\\n\\nb) Điều khiển xe máy chuyên dùng có tốc độ thiết kế nhỏ hơn tốc độ tối thiểu\\nquy định đối với đường cao tốc đi vào đường cao tốc, trừ phương tiện, thiết bị\\nphục vụ việc quản lý, bảo trì đường cao tốc;\\n\\nc) Gây tai nạn giao thông không dừng ngay phương tiện, không giữ nguyên hiện\\ntrường, không trợ giúp người bị nạn, không ở lại hiện trường hoặc không đến\\ntrình báo ngay với cơ quan công an, Ủy ban nhân dân nơi gần nhất;\\n\\nd) Vi phạm quy định tại một trong các điểm, khoản sau của Điều này mà gây tai\\nnạn giao thông: điểm a, điểm b khoản 1; điểm d khoản 2; điểm b, điểm c, điểm\\nd, điểm đ khoản 3; điểm b khoản 4; điểm b khoản 5; điểm e, điểm g, điểm i\\nkhoản 6; điểm b, điểm c khoản 7 Điều này.\\n\\n9. Phạt tiền từ 18.000.000 đồng đến 20.000.000 đồng đối với người điều khiển\\nxe thực hiện một trong các hành vi vi phạm sau đây:\\n\\na) Điều khiển xe trên đường mà trong máu hoặc hơi thở có nồng độ cồn vượt quá\\n80 miligam/100 mililít máu hoặc vượt quá 0,4 miligam/1 lít khí thở;\\n\\nb) Không chấp hành yêu cầu kiểm tra về nồng độ cồn của người thi hành công vụ;\\n\\nc) Điều khiển xe trên đường mà trong cơ thể có chất ma túy hoặc chất kích\\nthích khác mà pháp luật cấm sử dụng;\\n\\nd) Không chấp hành yêu cầu kiểm tra về chất ma túy hoặc chất kích thích khác\\nmà pháp luật cấm sử dụng của người thi hành công vụ;\\n\\nđ) Lùi xe trên đường cao tốc; đi ngược chiều trên đường cao tốc; quay đầu xe\\ntrên đường cao tốc;\\n\\ne) Vi phạm quy định tại điểm b khoản 8 Điều này mà gây tai nạn giao thông.\\n\\nĐiều 9. Xử phạt người điều khiển xe đạp, xe đạp máy, người điều khiển xe thô\\nsơ khác vi phạm quy tắc giao thông đường bộ\\n\\n1. Phạt tiền từ 100.000 đồng đến 200.000 đồng đối với người điều khiển xe\\nthực hiện một trong các hành vi vi phạm sau đây:\\n\\na) Không đi bên phải theo chiều đi của mình, đi không đúng phần đường quy\\nđịnh;\\n\\nb) Dừng xe đột ngột; chuyển hướng không báo hiệu trước;\\n\\nc) Không chấp hành hiệu lệnh hoặc chỉ dẫn của biển báo hiệu, vạch kẻ đường,\\ntrừ các hành vi vi phạm quy định tại điểm đ khoản 2, điểm c khoản 3 Điều này;\\n\\nd) Vượt bên phải trong các trường hợp không được phép;\\n\\nđ) Dừng xe, đỗ xe trên phần đường xe chạy ở đoạn đường ngoài đô thị nơi có lề\\nđường;\\n\\ne) Chạy trong hầm đường bộ không bật đèn hoặc không có vật phát sáng báo hiệu;\\ndừng xe, đỗ xe trong hầm đường bộ không đúng nơi quy định; quay đầu xe trong\\nhầm đường bộ;\\n\\ng) Điều khiển xe đạp, xe đạp máy đi dàn hàng ngang từ 03 xe trở lên, xe thô sơ\\nkhác đi dàn hàng ngang từ 02 xe trở lên;\\n\\nh) Người điều khiển xe đạp, xe đạp máy sử dụng ô (dù), dùng tay cầm và sử dụng\\nđiện thoại hoặc các thiết bị điện tử khác; chở người ngồi trên xe đạp, xe đạp\\nmáy sử dụng ô (dù);\\n\\ni) Điều khiển xe thô sơ trong thời gian từ 18 giờ ngày hôm trước đến 06 giờ\\nngày hôm sau không sử dụng đèn hoặc không có báo hiệu ở phía trước và phía sau\\nxe;\\n\\nk) Để xe ở lòng đường, vỉa hè trái phép; đỗ xe ở lòng đường gây cản trở giao\\nthông, đỗ xe trên cầu gây cản trở giao thông;\\n\\nl) Không tuân thủ các quy định về dừng xe, đỗ xe tại nơi đường bộ giao nhau\\ncùng mức với đường sắt;\\n\\nm) Dùng xe đẩy làm quầy hàng lưu động trên đường gây cản trở giao thông;\\n\\nn) Không giảm tốc độ (hoặc dừng lại) và nhường đường khi điều khiển xe đi từ\\nđường không ưu tiên ra đường ưu tiên, từ đường nhánh ra đường chính;\\n\\no) Xe đạp, xe đạp máy, xe xích lô chở quá số người quy định, trừ trường hợp\\nchở người bệnh đi cấp cứu;\\n\\np) Điều khiển xe trên đường mà trong máu hoặc hơi thở có nồng độ cồn nhưng\\nchưa vượt quá 50 miligam/100 mililít máu hoặc chưa vượt quá 0,25 miligam/1 lít\\nkhí thở.\\n\\n2. Phạt tiền từ 150.000 đồng đến 250.000 đồng đối với người điều khiển xe\\nthực hiện một trong các hành vi vi phạm sau đây:\\n\\na) Điều khiển xe đạp, xe đạp máy buông cả hai tay; chuyển hướng đột ngột trước\\nđầu xe cơ giới đang chạy; dùng chân điều khiển xe đạp, xe đạp máy;\\n\\nb) Không chấp hành hiệu lệnh, chỉ dẫn của người điều khiển giao thông hoặc\\nngười kiểm soát giao thông;\\n\\nc) Người đang điều khiển xe hoặc chở người ngồi trên xe bám, kéo, đẩy xe khác,\\nvật khác, mang vác vật cồng kềnh; điều khiển xe kéo theo xe khác, vật khác;\\n\\nd) Không nhường đường cho xe xin vượt khi có đủ điều kiện an toàn hoặc gây cản\\ntrở đối với xe cơ giới xin vượt, gây cản trở xe ưu tiên;')]"
      ]
     },
     "execution_count": 22,
     "metadata": {},
     "output_type": "execute_result"
    }
   ],
   "source": [
    "parent_document_retriever.invoke(\"Chạy xe vượt đèn đỏ bị xử phạt như thế nào\")"
   ]
  },
  {
   "cell_type": "code",
   "execution_count": null,
   "metadata": {
    "trusted": true
   },
   "outputs": [],
   "source": []
  }
 ],
 "metadata": {
  "kaggle": {
   "accelerator": "gpu",
   "dataSources": [
    {
     "datasetId": 6373104,
     "sourceId": 10362209,
     "sourceType": "datasetVersion"
    }
   ],
   "dockerImageVersionId": 30822,
   "isGpuEnabled": true,
   "isInternetEnabled": true,
   "language": "python",
   "sourceType": "notebook"
  },
  "kernelspec": {
   "display_name": "psang",
   "language": "python",
   "name": "python3"
  },
  "language_info": {
   "codemirror_mode": {
    "name": "ipython",
    "version": 3
   },
   "file_extension": ".py",
   "mimetype": "text/x-python",
   "name": "python",
   "nbconvert_exporter": "python",
   "pygments_lexer": "ipython3",
   "version": "3.11.9"
  }
 },
 "nbformat": 4,
 "nbformat_minor": 4
}
