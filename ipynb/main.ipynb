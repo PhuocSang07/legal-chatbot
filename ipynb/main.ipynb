{
 "cells": [
  {
   "cell_type": "code",
   "execution_count": 43,
   "metadata": {},
   "outputs": [],
   "source": [
    "import pandas as pd\n",
    "import numpy as np\n",
    "import matplotlib.pyplot as plt\n",
    "from dotenv import load_dotenv\n",
    "import torch\n",
    "from langchain_community.embeddings import HuggingFaceEmbeddings\n",
    "from langchain_text_splitters import RecursiveCharacterTextSplitter\n",
    "import pandas as pd\n",
    "import uuid\n",
    "from pydantic import BaseModel\n",
    "import torch\n",
    "from langchain_qdrant import QdrantVectorStore\n",
    "from qdrant_client import QdrantClient\n",
    "from qdrant_client.http.models import Distance, VectorParams\n",
    "import qdrant_client\n",
    "import getpass\n",
    "import os\n",
    "from langchain_core.prompts import ChatPromptTemplate\n",
    "from langchain_groq import ChatGroq\n",
    "\n",
    "\n",
    "device = 'cuda' if torch.cuda.is_available() else 'cpu'"
   ]
  },
  {
   "cell_type": "markdown",
   "metadata": {},
   "source": [
    "# Load env"
   ]
  },
  {
   "cell_type": "code",
   "execution_count": 102,
   "metadata": {},
   "outputs": [
    {
     "name": "stdout",
     "output_type": "stream",
     "text": [
      "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\n"
     ]
    }
   ],
   "source": [
    "load_dotenv()\n",
    "GOOGLE_API_KEY = os.getenv(\"GOOGLE_API_KEY\")\n",
    "QDRANT_URL = os.getenv(\"QDRANT_URL\")\n",
    "QDRANT_API_KEY = os.getenv(\"QDRANT_API_Key\")\n",
    "GROQ_API_KEY = os.getenv(\"GROQ_API_KEY\")"
   ]
  },
  {
   "cell_type": "markdown",
   "metadata": {},
   "source": [
    "# Load embedding model"
   ]
  },
  {
   "cell_type": "code",
   "execution_count": 15,
   "metadata": {},
   "outputs": [],
   "source": [
    "model_embedding = HuggingFaceEmbeddings(\n",
    "    model_name='hiieu/halong_embedding',\n",
    "    model_kwargs={'device': 'cpu'},\n",
    "    encode_kwargs= {'normalize_embeddings': False}\n",
    ")"
   ]
  },
  {
   "cell_type": "markdown",
   "metadata": {},
   "source": [
    "# Vector store"
   ]
  },
  {
   "cell_type": "code",
   "execution_count": 23,
   "metadata": {},
   "outputs": [],
   "source": [
    "client = qdrant_client.QdrantClient(   \n",
    "    url=QDRANT_URL, \n",
    "    api_key=QDRANT_API_KEY,\n",
    ")\n",
    "\n",
    "vector_store = QdrantVectorStore(\n",
    "    client=client, \n",
    "    collection_name=\"qa_tvpl\",\n",
    "    embedding=model_embedding\n",
    ")"
   ]
  },
  {
   "cell_type": "code",
   "execution_count": 41,
   "metadata": {},
   "outputs": [],
   "source": [
    "query = \"Tấn công an ninh mạng là gì?\"\n",
    "found_docs = vector_store.similarity_search(\n",
    "    query,\n",
    "    k=5)"
   ]
  },
  {
   "cell_type": "code",
   "execution_count": 42,
   "metadata": {},
   "outputs": [
    {
     "name": "stdout",
     "output_type": "stream",
     "text": [
      "page_content='Căn cứ khoản 1 Điều 21 Luật An ninh mạng 2018 quy định như sau:\n",
      "Phòng ngừa, xử lý tình huống nguy hiểm về an ninh mạng\n",
      "1. Tình huống nguy hiểm về an ninh mạng bao gồm:\n",
      "a) Xuất hiện thông tin kích động trên không gian mạng có nguy cơ xảy ra bạo loạn, phá rối an ninh, khủng bố;\n",
      "b) Tấn công vào hệ thống thông tin quan trọng về an ninh quốc gia;\n",
      "c) Tấn công nhiều hệ thống thông tin trên quy mô lớn, cường độ cao;\n",
      "d) Tấn công mạng nhằm phá hủy công trình quan trọng về an ninh quốc gia, mục tiêu quan trọng về an ninh quốc gia;\n",
      "đ) Tấn công mạng xâm phạm nghiêm trọng chủ quyền, lợi ích, an ninh quốc gia; gây tổn hại đặc biệt nghiêm trọng trật tự, an toàn xã hội, quyền và lợi ích hợp pháp của cơ quan, tổ chức, cá nhân.\n",
      "...\n",
      "Theo đó, tình huống nguy hiểm về an ninh mạng bao gồm:\n",
      "- Xuất hiện thông tin kích động trên không gian mạng có nguy cơ xảy ra bạo loạn, phá rối an ninh, khủng bố;\n",
      "- Tấn công vào hệ thống thông tin quan trọng về an ninh quốc gia;\n",
      "- Tấn công nhiều hệ thống thông tin trên quy mô lớn, cường độ cao;\n",
      "- Tấn công mạng nhằm phá hủy công trình quan trọng về an ninh quốc gia, mục tiêu quan trọng về an ninh quốc gia;\n",
      "- Tấn công mạng xâm phạm nghiêm trọng chủ quyền, lợi ích, an ninh quốc gia; gây tổn hại đặc biệt nghiêm trọng trật tự, an toàn xã hội, quyền và lợi ích hợp pháp của cơ quan, tổ chức, cá nhân.\n",
      "Như vậy, tấn công mạng với nhiều hệ thống thông tin trên quy mô lớn, cường độ cao được xem là tình huống nguy hiểm về an ninh mạng theo quy định.' metadata={'sub_title': 'Tấn công mạng với nhiều hệ thống thông tin trên quy mô lớn, cường độ cao có xem là tình huống nguy hiểm về an ninh mạng không?', 'url': 'https://thuvienphapluat.vn/phap-luat/khixay-ratan-cong-manggay-ton-hai-nghiem-trong-trat-tu-an-toan-xa-hoi-thi-cac-luc-luong-chuyen-trac-154913.html', 'date_published': '09/06/2024', 'author': 'Phan Thị Như Ý', '_id': '26865e66-2d61-4293-8181-340f86f5570d', '_collection_name': 'qa_tvpl'}\n"
     ]
    }
   ],
   "source": [
    "print(found_docs[0])"
   ]
  },
  {
   "cell_type": "markdown",
   "metadata": {},
   "source": [
    "# LLM"
   ]
  },
  {
   "cell_type": "code",
   "execution_count": 104,
   "metadata": {},
   "outputs": [],
   "source": [
    "os.environ[\"GROQ_API_KEY\"] = GROQ_API_KEY"
   ]
  },
  {
   "cell_type": "code",
   "execution_count": 108,
   "metadata": {},
   "outputs": [],
   "source": [
    "llm = ChatGroq(\n",
    "    temperature=0, \n",
    "    groq_api_key=GROQ_API_KEY, \n",
    "    model_name=\"llama-3.1-8b-instant\"\n",
    ")\n"
   ]
  },
  {
   "cell_type": "code",
   "execution_count": 112,
   "metadata": {},
   "outputs": [
    {
     "data": {
      "text/plain": [
       "AIMessage(content='Theo quan hệ gia đình, mẹ của bố (hay cha) là bà.', additional_kwargs={}, response_metadata={'token_usage': {'completion_tokens': 17, 'prompt_tokens': 133, 'total_tokens': 150, 'completion_time': 0.022666667, 'prompt_time': 0.033527176, 'queue_time': 0.001512144, 'total_time': 0.056193843}, 'model_name': 'llama-3.1-8b-instant', 'system_fingerprint': 'fp_f66ccb39ec', 'finish_reason': 'stop', 'logprobs': None}, id='run-beb8ab10-4a54-49b9-a351-d34462d939b9-0', usage_metadata={'input_tokens': 133, 'output_tokens': 17, 'total_tokens': 150})"
      ]
     },
     "execution_count": 112,
     "metadata": {},
     "output_type": "execute_result"
    }
   ],
   "source": [
    "\n",
    "prompt = ChatPromptTemplate.from_messages(\n",
    "    [\n",
    "        (\n",
    "            \"system\",\n",
    "            \"\"\"\n",
    "            Bạn là một trợ lý ảo nhiệt tình và thành thật tư vấn về luật pháp.\n",
    "            Bạn sẽ dựa trên các thông tin được cung cấp để trả lời các câu hỏi của người dùng.\n",
    "            Tuyệt đối không được bịa ra câu trả lời, nếu không biết bạn phải trả lời không biết.\n",
    "            Không trả lời các câu hỏi vô nghĩa, không liên quan.\n",
    "            Dựa vào thông tin sau trả lời câu hỏi:\n",
    "            {context}\n",
    "            \"\"\",\n",
    "        ),\n",
    "        (\"human\", \"{input}\"),\n",
    "    ]\n",
    ")\n",
    "\n",
    "chain = prompt | llm\n",
    "chain.invoke(\n",
    "    {\n",
    "        \"context\": \"\",\n",
    "        \"input\": \"mẹ của ba thì tôi gọi là gì ?\",\n",
    "    }\n",
    ")"
   ]
  },
  {
   "cell_type": "markdown",
   "metadata": {},
   "source": [
    "# RAG"
   ]
  },
  {
   "cell_type": "code",
   "execution_count": 113,
   "metadata": {},
   "outputs": [],
   "source": [
    "from langchain_core.documents import Document\n",
    "from typing_extensions import List, TypedDict\n",
    "\n",
    "\n",
    "class State(TypedDict):\n",
    "    question: str\n",
    "    context: List[Document]\n",
    "    answer: str"
   ]
  },
  {
   "cell_type": "code",
   "execution_count": 123,
   "metadata": {},
   "outputs": [],
   "source": [
    "def retrieve(state: State):\n",
    "    retrieved_docs = vector_store.similarity_search(state[\"question\"], k=5)\n",
    "    return {\"context\": retrieved_docs}\n",
    "\n",
    "\n",
    "def generate(state: State):\n",
    "    docs_content = \"\\n\\n\".join(doc.page_content for doc in state[\"context\"])\n",
    "    messages = prompt.invoke({\"input\": state[\"question\"], \"context\": docs_content})\n",
    "    response = llm.invoke(messages)\n",
    "    return {\"answer\": response.content}"
   ]
  },
  {
   "cell_type": "code",
   "execution_count": 124,
   "metadata": {},
   "outputs": [],
   "source": [
    "from langgraph.graph import START, StateGraph\n",
    "\n",
    "graph_builder = StateGraph(State).add_sequence([retrieve, generate])\n",
    "graph_builder.add_edge(START, \"retrieve\")\n",
    "graph = graph_builder.compile()"
   ]
  },
  {
   "cell_type": "code",
   "execution_count": 125,
   "metadata": {},
   "outputs": [
    {
     "data": {
      "image/png": "[encoded data removed]",
      "text/plain": [
       "<IPython.core.display.Image object>"
      ]
     },
     "metadata": {},
     "output_type": "display_data"
    }
   ],
   "source": [
    "from IPython.display import Image, display\n",
    "\n",
    "display(Image(graph.get_graph().draw_mermaid_png()))"
   ]
  },
  {
   "cell_type": "code",
   "execution_count": 126,
   "metadata": {},
   "outputs": [
    {
     "name": "stdout",
     "output_type": "stream",
     "text": [
      "Context: [Document(metadata={'sub_title': '06 hành vi bị nghiêm cấm khi sử dụng không gian mạng?', 'url': 'https://thuvienphapluat.vn/phap-luat/chill-guy-la-gi-du-trend-chill-guy-co-nang-thu-gian-anh-chang-thu-gian-chuan-quy-tac-ung-xu-tren-ma-364375-188580.html', 'date_published': '29/11/2024', 'author': 'Trịnh Lê Vy', '_id': 'b5012f37-4727-4930-9b01-5a1bb802259a', '_collection_name': 'qa_tvpl'}, page_content='06 hành vi bị nghiêm cấm sử dụng không gian mạng được quy định tại khoản 1 Điều 8 Luật An ninh mạng 2018 như sau:\\n(1) Hành vi quy định tại khoản 1 Điều 18 Luật An ninh mạng 2018;\\n(2) Tổ chức, hoạt động, câu kết, xúi giục, mua chuộc, lừa gạt, lôi kéo, đào tạo, huấn luyện người chống Nhà nước Cộng hòa xã hội chủ nghĩa Việt Nam;\\n(3) Xuyên tạc lịch sử, phủ nhận thành tựu cách mạng, phá hoại khối đại đoàn kết toàn dân tộc, xúc phạm tôn giáo, phân biệt đối xử về giới, phân biệt chủng tộc;\\n(4) Thông tin sai sự thật gây hoang mang trong Nhân dân, gây thiệt hại cho hoạt động kinh tế - xã hội, gây khó khăn cho hoạt động của cơ quan nhà nước hoặc người thi hành công vụ, xâm phạm quyền và lợi ích hợp pháp của cơ quan, tổ chức, cá nhân khác;\\n(5) Hoạt động mại dâm, tệ nạn xã hội, mua bán người; đăng tải thông tin dâm ô, đồi trụy, tội ác; phá hoại thuần phong, mỹ tục của dân tộc, đạo đức xã hội, sức khỏe của cộng đồng;\\n(6) Xúi giục, lôi kéo, kích động người khác phạm tội.'), Document(metadata={'sub_title': '06 hành vi bị nghiêm cấm khi sử dụng không gian mạng?', 'url': 'https://thuvienphapluat.vn/phap-luat/chill-guy-la-gi-du-trend-chill-guy-co-nang-thu-gian-anh-chang-thu-gian-chuan-quy-tac-ung-xu-tren-ma-364375-188580.html', 'date_published': '29/11/2024', 'author': 'Trịnh Lê Vy', '_id': '6a604b00-ecc0-4894-8816-384681ae4f1d', '_collection_name': 'qa_tvpl'}, page_content='06 hành vi bị nghiêm cấm sử dụng không gian mạng được quy định tại khoản 1 Điều 8 Luật An ninh mạng 2018 như sau:\\n(1) Hành vi quy định tại khoản 1 Điều 18 Luật An ninh mạng 2018;\\n(2) Tổ chức, hoạt động, câu kết, xúi giục, mua chuộc, lừa gạt, lôi kéo, đào tạo, huấn luyện người chống Nhà nước Cộng hòa xã hội chủ nghĩa Việt Nam;\\n(3) Xuyên tạc lịch sử, phủ nhận thành tựu cách mạng, phá hoại khối đại đoàn kết toàn dân tộc, xúc phạm tôn giáo, phân biệt đối xử về giới, phân biệt chủng tộc;\\n(4) Thông tin sai sự thật gây hoang mang trong Nhân dân, gây thiệt hại cho hoạt động kinh tế - xã hội, gây khó khăn cho hoạt động của cơ quan nhà nước hoặc người thi hành công vụ, xâm phạm quyền và lợi ích hợp pháp của cơ quan, tổ chức, cá nhân khác;\\n(5) Hoạt động mại dâm, tệ nạn xã hội, mua bán người; đăng tải thông tin dâm ô, đồi trụy, tội ác; phá hoại thuần phong, mỹ tục của dân tộc, đạo đức xã hội, sức khỏe của cộng đồng;\\n(6) Xúi giục, lôi kéo, kích động người khác phạm tội.'), Document(metadata={'sub_title': 'Đăng thông tin sai sự thật về \"đánh thuế độc thân\" gây hoang mang dư luận có bị xử phạt không?', 'url': 'https://thuvienphapluat.vn/phap-luat/dang-nhung-thong-tin-sai-su-that-ve-danh-thue-doc-than-gay-hoang-mang-du-luan-bi-xu-phat-khong-745280-173762.html', 'date_published': '29/08/2024', 'author': 'Nguyễn Thị Thanh Xuân', '_id': 'c7ac40dd-2cf4-4d91-a846-5edfe9276fb8', '_collection_name': 'qa_tvpl'}, page_content='Theo Điều 18 Luật An ninh mạng 2018 quy định về các hành vi bị nghiêm cấm về an ninh mạng như sau\\nCác hành vi bị nghiêm cấm về an ninh mạng\\n1. Sử dụng không gian mạng để thực hiện hành vi sau đây:\\na) Hành vi quy định tại khoản 1 Điều 18 của Luật này;\\nb) Tổ chức, hoạt động, câu kết, xúi giục, mua chuộc, lừa gạt, lôi kéo, đào tạo, huấn luyện người chống Nhà nước Cộng hòa xã hội chủ nghĩa Việt Nam;\\nc) Xuyên tạc lịch sử, phủ nhận thành tựu cách mạng, phá hoại khối đại đoàn kết toàn dân tộc, xúc phạm tôn giáo, phân biệt đối xử về giới, phân biệt chủng tộc;\\nd) Thông tin sai sự thật gây hoang mang trong Nhân dân, gây thiệt hại cho hoạt động kinh tế - xã hội, gây khó khăn cho hoạt động của cơ quan nhà nước hoặc người thi hành công vụ, xâm phạm quyền và lợi ích hợp pháp của cơ quan, tổ chức, cá nhân khác;\\nđ) Hoạt động mại dâm, tệ nạn xã hội, mua bán người; đăng tải thông tin dâm ô, đồi trụy, tội ác; phá hoại thuần phong, mỹ tục của dân tộc, đạo đức xã hội, sức khỏe của cộng đồng;\\ne) Xúi giục, lôi kéo, kích động người khác phạm tội.\\nNhư vậy, sử dụng không gian mạng để thực hiện hành vi thông tin sai sự thật gây hoang mang trong Nhân dân là hành vi bị nghiêm cấm.\\nDo đó đăng thông tin sai sự thật về \"đánh thuế độc thân\" gây hoang mang dư luận có thể bị xử phạt.\\nhttps://cdn.thuvienphapluat.vn/phap-luat/2022-2/NTTX/270824/thue-doc-than.jpg\\nĐăng những thông tin sai sự thật về \\'đánh thuế độc thân\\' gây hoang mang dư luận bị xử phạt không? (hình từ internet)'), Document(metadata={'sub_title': 'Hành vi đăng tải những thông tin bịa đặt về kỳ thi tốt nghiệp THPT quốc gia lên mạng xã hội gây hoang mang cho thí sinh là hành vi vi phạm pháp luật?', 'url': 'https://thuvienphapluat.vn/phap-luat/hanh-vi-dang-tai-nhung-thong-tin-bia-dat-ve-ky-thi-tot-nghiep-thpt-quoc-gia-len-mang-xa-hoi-gay-hoa-389893-160756.html', 'date_published': '26/06/2024', 'author': 'Trương Thị Mỹ Tiên', '_id': '97da33e2-87d1-4fc5-a2aa-3a35d64f5500', '_collection_name': 'qa_tvpl'}, page_content='Căn cứ theo quy định tại điểm d khoản 1 Điều 8 Luật An ninh mạng 2018 như sau:\\nCác hành vi bị nghiêm cấm về an ninh mạng\\n1. Sử dụng không gian mạng để thực hiện hành vi sau đây:\\na) Hành vi quy định tại khoản 1 Điều 18 của Luật này;\\nb) Tổ chức, hoạt động, câu kết, xúi giục, mua chuộc, lừa gạt, lôi kéo, đào tạo, huấn luyện người chống Nhà nước Cộng hòa xã hội chủ nghĩa Việt Nam;\\nc) Xuyên tạc lịch sử, phủ nhận thành tựu cách mạng, phá hoại khối đại đoàn kết toàn dân tộc, xúc phạm tôn giáo, phân biệt đối xử về giới, phân biệt chủng tộc;\\nd) Thông tin sai sự thật gây hoang mang trong Nhân dân, gây thiệt hại cho hoạt động kinh tế - xã hội, gây khó khăn cho hoạt động của cơ quan nhà nước hoặc người thi hành công vụ, xâm phạm quyền và lợi ích hợp pháp của cơ quan, tổ chức, cá nhân khác;\\nđ) Hoạt động mại dâm, tệ nạn xã hội, mua bán người; đăng tải thông tin dâm ô, đồi trụy, tội ác; phá hoại thuần phong, mỹ tục của dân tộc, đạo đức xã hội, sức khỏe của cộng đồng;\\ne) Xúi giục, lôi kéo, kích động người khác phạm tội.\\n....\\nTheo đó, pháp luật nghiêm cấm việc sử dụng không gian mạng để thực hiện hành vi thông tin sai sự thật gây hoang mang trong Nhân dân, gây thiệt hại cho hoạt động kinh tế - xã hội, gây khó khăn cho hoạt động của cơ quan nhà nước hoặc người thi hành công vụ, xâm phạm quyền và lợi ích hợp pháp của cơ quan, tổ chức, cá nhân khác.\\nNhư vậy, hành vi đăng tải những thông tin bịa đặt về kỳ thi tốt nghiệp THPT quốc gia lên mạng xã hội gây hoang mang cho thí sinh là hành vi vi phạm pháp luật.\\nhttps://cdn.thuvienphapluat.vn/phap-luat/2022-2/TTMT/260624/bia-dat-thong-tin-ve-ky-thhi-tot-nghiep-THPT.jpg\\nHành vi đăng tải những thông tin bịa đặt về kỳ thi tốt nghiệp THPT quốc gia lên mạng xã hội gây hoang mang cho thí sinh thì sẽ bị phạt bao nhiêu tiền? (Hình từ internet)'), Document(metadata={'sub_title': 'Hoạt động mại dâm, đăng tải video dâm ô trên không gian mạng có vi phạm pháp luật không?', 'url': 'https://thuvienphapluat.vn/phap-luat/hoat-dong-mai-dam-dang-tai-video-dam-o-tren-khong-gian-mang-co-vi-pham-phap-luat-mang-luoi-ket-noi--679516-175924.html', 'date_published': '18/09/2024', 'author': 'Phan Thị Như Ý', '_id': 'f4bae204-9e1c-4255-b45f-fdd987f8f485', '_collection_name': 'qa_tvpl'}, page_content='Căn cứ tại Điều 8 Luật An ninh mạng 2018 có quy định một số hành vi bị nghiêm cấm về an ninh mạng như sau:\\nCác hành vi bị nghiêm cấm về an ninh mạng\\n1. Sử dụng không gian mạng để thực hiện hành vi sau đây:\\na) Hành vi quy định tại khoản 1 Điều 18 của Luật này;\\nb) Tổ chức, hoạt động, câu kết, xúi giục, mua chuộc, lừa gạt, lôi kéo, đào tạo, huấn luyện người chống Nhà nước Cộng hòa xã hội chủ nghĩa Việt Nam;\\nc) Xuyên tạc lịch sử, phủ nhận thành tựu cách mạng, phá hoại khối đại đoàn kết toàn dân tộc, xúc phạm tôn giáo, phân biệt đối xử về giới, phân biệt chủng tộc;\\nd) Thông tin sai sự thật gây hoang mang trong Nhân dân, gây thiệt hại cho hoạt động kinh tế - xã hội, gây khó khăn cho hoạt động của cơ quan nhà nước hoặc người thi hành công vụ, xâm phạm quyền và lợi ích hợp pháp của cơ quan, tổ chức, cá nhân khác;\\nđ)\\n Hoạt động mại dâm, tệ nạn xã hội, mua bán người; đăng tải thông tin dâm ô, đồi trụy, tội ác; phá hoại thuần phong, mỹ tục của dân tộc, đạo đức xã hội, sức khỏe của cộng đồng;\\ne) Xúi giục, lôi kéo, kích động người khác phạm tội.\\n...\\nTheo đó, hoạt động mại dâm, đăng tải video dâm ô trên không gian mạng là hành vi bị nghiêm cấm theo quy định pháp luật.\\nĐối chiếu với quy định tại Điều 9 Luật An ninh mạng 2018 về việc xử lý vi phạm pháp luật về an ninh mạng thì người nào hoạt động mại dâm, đăng tải video dâm ô trên không gian mạng thì tùy theo tính chất, mức độ vi phạm mà bị xử lý kỷ luật, xử lý vi phạm hành chính hoặc bị truy cứu trách nhiệm hình sự, nếu gây thiệt hại thì phải bồi thường theo quy định của pháp luật.')]\n",
      "----------------------------------------------------\n",
      "Answer: Theo quy định tại Điều 9 Luật An ninh mạng 2018, các hành vi vi phạm pháp luật về an ninh mạng sẽ bị xử lý theo các mức phạt sau:\n",
      "\n",
      "1. **Xử lý kỷ luật**: Người có hành vi vi phạm pháp luật về an ninh mạng mà không gây thiệt hại cho hoạt động kinh tế - xã hội, gây khó khăn cho hoạt động của cơ quan nhà nước hoặc người thi hành công vụ, xâm phạm quyền và lợi ích hợp pháp của cơ quan, tổ chức, cá nhân khác sẽ bị xử lý kỷ luật theo quy định của pháp luật về cán bộ, công chức, viên chức.\n",
      "2. **Xử lý vi phạm hành chính**: Người có hành vi vi phạm pháp luật về an ninh mạng mà gây thiệt hại cho hoạt động kinh tế - xã hội, gây khó khăn cho hoạt động của cơ quan nhà nước hoặc người thi hành công vụ, xâm phạm quyền và lợi ích hợp pháp của cơ quan, tổ chức, cá nhân khác sẽ bị xử lý vi phạm hành chính theo quy định của pháp luật về xử lý vi phạm hành chính.\n",
      "3. **Truy cứu trách nhiệm hình sự**: Người có hành vi vi phạm pháp luật về an ninh mạng mà gây thiệt hại nghiêm trọng cho hoạt động kinh tế - xã hội, gây khó khăn cho hoạt động của cơ quan nhà nước hoặc người thi hành công vụ, xâm phạm quyền và lợi ích hợp pháp của cơ quan, tổ chức, cá nhân khác sẽ bị truy cứu trách nhiệm hình sự theo quy định của pháp luật về hình sự.\n",
      "4. **Bồi thường thiệt hại**: Người có hành vi vi phạm pháp luật về an ninh mạng gây thiệt hại cho hoạt động kinh tế - xã hội, gây khó khăn cho hoạt động của cơ quan nhà nước hoặc người thi hành công vụ, xâm phạm quyền và lợi ích hợp pháp của cơ quan, tổ chức, cá nhân khác sẽ phải bồi thường thiệt hại theo quy định của pháp luật.\n",
      "\n",
      "Mức phạt cụ thể sẽ được quy định tại các văn bản pháp luật khác như:\n",
      "\n",
      "* Nghị định 13/2022/NĐ-CP quy định về xử phạt vi phạm hành chính trong lĩnh vực an ninh mạng.\n",
      "* Nghị định 15/2022/NĐ-CP quy định về xử phạt vi phạm hành chính trong lĩnh vực thông tin và truyền thông.\n",
      "* Luật Hình sự 2015 và các văn bản hướng dẫn thi hành.\n",
      "\n",
      "Lưu ý rằng mức phạt cụ thể sẽ phụ thuộc vào tính chất, mức độ vi phạm và sẽ được quy định tại các văn bản pháp luật khác.\n"
     ]
    }
   ],
   "source": [
    "result = graph.invoke({\"question\": \"Các án phạt khi vi phạm luật an ninh mạng?\"})\n",
    "\n",
    "print(f'Context: {result[\"context\"]}\\n----------------------------------------------------')\n",
    "print(f'Answer: {result[\"answer\"]}')"
   ]
  }
 ],
 "metadata": {
  "kernelspec": {
   "display_name": "psang",
   "language": "python",
   "name": "python3"
  },
  "language_info": {
   "codemirror_mode": {
    "name": "ipython",
    "version": 3
   },
   "file_extension": ".py",
   "mimetype": "text/x-python",
   "name": "python",
   "nbconvert_exporter": "python",
   "pygments_lexer": "ipython3",
   "version": "3.11.9"
  }
 },
 "nbformat": 4,
 "nbformat_minor": 2
}
